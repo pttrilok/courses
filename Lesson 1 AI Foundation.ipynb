{
  "nbformat": 4,
  "nbformat_minor": 0,
  "metadata": {
    "colab": {
      "name": "Lesson 1  AI Foundation",
      "provenance": [],
      "collapsed_sections": [
        "4vcw6KV5S7vM",
        "4okGQgprFhWy",
        "N1SzHI_0fZCf",
        "9jpz3WFxm99z"
      ],
      "include_colab_link": true
    },
    "kernelspec": {
      "name": "python3",
      "display_name": "Python 3"
    }
  },
  "cells": [
    {
      "cell_type": "markdown",
      "metadata": {
        "id": "view-in-github",
        "colab_type": "text"
      },
      "source": [
        "<a href=\"https://colab.research.google.com/github/pttrilok/courses/blob/master/Lesson%201%20AI%20Foundation.ipynb\" target=\"_parent\"><img src=\"https://colab.research.google.com/assets/colab-badge.svg\" alt=\"Open In Colab\"/></a>"
      ]
    },
    {
      "cell_type": "markdown",
      "metadata": {
        "id": "f2_P2fOZkal9",
        "colab_type": "text"
      },
      "source": [
        "In this Module we will be studying about the following topics :\n",
        "*    Intoduction to python\n",
        "   * comments\n",
        "   * python indentation\n",
        "   * Some useful shortcuts   \n",
        "*    Using Python as a calculator\n",
        "*    Strings\n",
        "*    Lists"
      ]
    },
    {
      "cell_type": "markdown",
      "metadata": {
        "id": "N1wNKJKhDLu0",
        "colab_type": "text"
      },
      "source": [
        "### **An Informal Introduction to Python**"
      ]
    },
    {
      "cell_type": "markdown",
      "metadata": {
        "id": "59C1BQwGDwP4",
        "colab_type": "text"
      },
      "source": [
        "In the Python Interactive Mode, the line following the prompts ( i.e. `>>>`  or  `...` ) is the input and the line that do not begin with a prompt is the output. The secondary prompt ( `...` ) is used for multi-line input and you must type a blank line to end the multi-line command."
      ]
    },
    {
      "cell_type": "markdown",
      "metadata": {
        "id": "kJoe95vJ9E-g",
        "colab_type": "text"
      },
      "source": [
        "![](https://imgur.com/5eVzPHR.jpg)"
      ]
    },
    {
      "cell_type": "markdown",
      "metadata": {
        "id": "1wy5o13QL5CN",
        "colab_type": "text"
      },
      "source": [
        ">**Creating comments**\n",
        "\n",
        "Comments in Python start with the hash character, `#` , and extend to the end \n",
        "of the physical line.\n",
        "\n",
        "A comment may appear at the start of a line or following whitespace or code, but not within a string literal. \n",
        "\n",
        "A hash character within a string literal is just a hash character.\n",
        "\n",
        "To add multi-line comment put `#` before each line."
      ]
    },
    {
      "cell_type": "markdown",
      "metadata": {
        "id": "qQ3Az0TIzObE",
        "colab_type": "text"
      },
      "source": [
        "\n",
        "*   Comments can be used to make the code more readable.\n",
        "\n",
        "*   Comments can be used to prevent execution when testing code\n"
      ]
    },
    {
      "cell_type": "code",
      "metadata": {
        "id": "7JxbnSMn_fz8",
        "colab_type": "code",
        "colab": {}
      },
      "source": [
        "#comment 1\n",
        "number = 67   #comment 2 following a code\n",
        "              #comment 3 following whitespaces\n",
        "text = \"#This is not a comment as it's inside quotes\""
      ],
      "execution_count": null,
      "outputs": []
    },
    {
      "cell_type": "code",
      "metadata": {
        "id": "j-X887fHwg_C",
        "colab_type": "code",
        "colab": {}
      },
      "source": [
        "# This\n",
        "# is\n",
        "# a\n",
        "# multi_line\n",
        "# comment"
      ],
      "execution_count": null,
      "outputs": []
    },
    {
      "cell_type": "markdown",
      "metadata": {
        "id": "c1P9JSSrd87s",
        "colab_type": "text"
      },
      "source": [
        "> Introduction to python indentation\n",
        "\n",
        "Indentation refers to spaces at the beginning of a line\n",
        "\n",
        "In other languages indentation is used for readibilty but in Python indentation is very important, it indicates a block of code."
      ]
    },
    {
      "cell_type": "code",
      "metadata": {
        "id": "tjDGmx3reh3l",
        "colab_type": "code",
        "colab": {
          "base_uri": "https://localhost:8080/",
          "height": 34
        },
        "outputId": "29da0a1b-ecdd-47cd-8572-7c86068f9a86"
      },
      "source": [
        "if (1): \n",
        "  print(\"Hello\")     #indented line indicates the block of \"if statement\""
      ],
      "execution_count": null,
      "outputs": [
        {
          "output_type": "stream",
          "text": [
            "Hello\n"
          ],
          "name": "stdout"
        }
      ]
    },
    {
      "cell_type": "code",
      "metadata": {
        "id": "nMWoWOEfe8Sd",
        "colab_type": "code",
        "colab": {
          "base_uri": "https://localhost:8080/",
          "height": 128
        },
        "outputId": "2607ba5d-6aad-46b2-d3af-4d5a55e5c660"
      },
      "source": [
        "#python gives error if we miss the indentation\n",
        "\n",
        "if(1):\n",
        "print(\"hello\")       #indentation is missing"
      ],
      "execution_count": null,
      "outputs": [
        {
          "output_type": "error",
          "ename": "IndentationError",
          "evalue": "ignored",
          "traceback": [
            "\u001b[0;36m  File \u001b[0;32m\"<ipython-input-2-82a32e808c93>\"\u001b[0;36m, line \u001b[0;32m4\u001b[0m\n\u001b[0;31m    print(\"hello\")       #indentation is missing\u001b[0m\n\u001b[0m        ^\u001b[0m\n\u001b[0;31mIndentationError\u001b[0m\u001b[0;31m:\u001b[0m expected an indented block\n"
          ]
        }
      ]
    },
    {
      "cell_type": "markdown",
      "metadata": {
        "id": "uG7h7qSbYtmE",
        "colab_type": "text"
      },
      "source": [
        "> Some Shortcuts\n",
        "\n",
        "*  Tab -  For indentation\n",
        "\n",
        "*  Shift + Tab - To delete indentation\n",
        "\n",
        "*  Ctrl + Shift + L  - To edit a name at all places in a cell "
      ]
    },
    {
      "cell_type": "code",
      "metadata": {
        "id": "Mhn2UAMLjBcE",
        "colab_type": "code",
        "colab": {
          "base_uri": "https://localhost:8080/",
          "height": 34
        },
        "outputId": "cf60a41c-9eb1-40e8-d4e4-8629f6114abd"
      },
      "source": [
        "# try these above shortcuts in this code\n",
        "\n",
        "a = 10\n",
        "b = 15\n",
        "if a > b:\n",
        "  print(\"a is greater than b\")\n",
        "  print(\"done\")\n",
        "\n",
        "elif a==b :\n",
        "  print(\"a is equal to b\")\n",
        "\n",
        "else:\n",
        "  print(\"a is less than b\")"
      ],
      "execution_count": null,
      "outputs": [
        {
          "output_type": "stream",
          "text": [
            "a is less than b\n"
          ],
          "name": "stdout"
        }
      ]
    },
    {
      "cell_type": "markdown",
      "metadata": {
        "id": "4vcw6KV5S7vM",
        "colab_type": "text"
      },
      "source": [
        "### **Using Python as a Calculator**"
      ]
    },
    {
      "cell_type": "markdown",
      "metadata": {
        "id": "qOlLpOL0QX2c",
        "colab_type": "text"
      },
      "source": [
        ">**Numbers**\n",
        "\n",
        "Let's try some simple mathematical operations... :)"
      ]
    },
    {
      "cell_type": "markdown",
      "metadata": {
        "id": "dYs3lCvIVqiC",
        "colab_type": "text"
      },
      "source": [
        "**A.** Python supports :- \n",
        "\n",
        "*   Integer numbers (5, 0, -10 ) having ***int*** type\n",
        "\n",
        "*   Numbers with fractional parts (3.4, 24.0, 5.25) having ***float*** type\n",
        "\n",
        "*   Numbers with real and imaginary parts ( 8+3j , 7-4.5j ) having ***complex*** type(the real and imaginary part a of complex variable are floating point numbers). The imaginary part is suffixed by `j` or `J`  . \n",
        "\n",
        "In addition to these datatypes, Python also supports *Decimal* and *Fraction*. \n"
      ]
    },
    {
      "cell_type": "code",
      "metadata": {
        "id": "toAGUISK3AsZ",
        "colab_type": "code",
        "colab": {
          "base_uri": "https://localhost:8080/",
          "height": 34
        },
        "outputId": "796ecfd1-bcc7-4297-c826-c723c3c1a396"
      },
      "source": [
        "x = 45   # int type  # We will learn about the = operator further in this lesson\n",
        "type(x)  # The type function returns the datatype of the variable"
      ],
      "execution_count": null,
      "outputs": [
        {
          "output_type": "execute_result",
          "data": {
            "text/plain": [
              "int"
            ]
          },
          "metadata": {
            "tags": []
          },
          "execution_count": 8
        }
      ]
    },
    {
      "cell_type": "code",
      "metadata": {
        "id": "Mic5yzMK4k9-",
        "colab_type": "code",
        "colab": {
          "base_uri": "https://localhost:8080/",
          "height": 34
        },
        "outputId": "3949dcb8-f4c6-445b-f0e3-0eec1c372a4d"
      },
      "source": [
        "y = -37.25  # float type\n",
        "type(y)"
      ],
      "execution_count": null,
      "outputs": [
        {
          "output_type": "execute_result",
          "data": {
            "text/plain": [
              "float"
            ]
          },
          "metadata": {
            "tags": []
          },
          "execution_count": 9
        }
      ]
    },
    {
      "cell_type": "code",
      "metadata": {
        "id": "_YACFcdi4ks0",
        "colab_type": "code",
        "colab": {
          "base_uri": "https://localhost:8080/",
          "height": 34
        },
        "outputId": "f5a60fa6-958e-4f5d-c78c-e9fca015f567"
      },
      "source": [
        "z = 3+5j   # complex type\n",
        "type(z)"
      ],
      "execution_count": null,
      "outputs": [
        {
          "output_type": "execute_result",
          "data": {
            "text/plain": [
              "complex"
            ]
          },
          "metadata": {
            "tags": []
          },
          "execution_count": 10
        }
      ]
    },
    {
      "cell_type": "markdown",
      "metadata": {
        "id": "X9a4qASz6rcm",
        "colab_type": "text"
      },
      "source": [
        "NOTE : Here we only have to understand the type of numeric data and we'll soon be learning about the `type()` function."
      ]
    },
    {
      "cell_type": "markdown",
      "metadata": {
        "id": "iDqTB-kHPKw8",
        "colab_type": "text"
      },
      "source": [
        "**B.** In a Python interpretor, the operators like `+`, `-`, `*` and `/` can be used for general calculations and parentheses `(())` for grouping."
      ]
    },
    {
      "cell_type": "code",
      "metadata": {
        "id": "9vGmIwsAR2qh",
        "colab_type": "code",
        "colab": {
          "base_uri": "https://localhost:8080/",
          "height": 34
        },
        "outputId": "2dba0862-cc1c-4b48-95e9-e4b54da120c8"
      },
      "source": [
        "5+5"
      ],
      "execution_count": null,
      "outputs": [
        {
          "output_type": "execute_result",
          "data": {
            "text/plain": [
              "10"
            ]
          },
          "metadata": {
            "tags": []
          },
          "execution_count": 1
        }
      ]
    },
    {
      "cell_type": "code",
      "metadata": {
        "id": "FaE36M5lTBtV",
        "colab_type": "code",
        "colab": {
          "base_uri": "https://localhost:8080/",
          "height": 34
        },
        "outputId": "3a121099-9630-435f-cc15-66a409268410"
      },
      "source": [
        "50 - 20 * 3"
      ],
      "execution_count": null,
      "outputs": [
        {
          "output_type": "execute_result",
          "data": {
            "text/plain": [
              "-10"
            ]
          },
          "metadata": {
            "tags": []
          },
          "execution_count": 2
        }
      ]
    },
    {
      "cell_type": "code",
      "metadata": {
        "id": "92_E2hLUTICx",
        "colab_type": "code",
        "colab": {
          "base_uri": "https://localhost:8080/",
          "height": 34
        },
        "outputId": "2608bddd-d1ff-44e2-edea-dbb59bb0c8d3"
      },
      "source": [
        "70 * (138 - 133)"
      ],
      "execution_count": null,
      "outputs": [
        {
          "output_type": "execute_result",
          "data": {
            "text/plain": [
              "350"
            ]
          },
          "metadata": {
            "tags": []
          },
          "execution_count": 6
        }
      ]
    },
    {
      "cell_type": "code",
      "metadata": {
        "id": "ObVa0QiuBimv",
        "colab_type": "code",
        "colab": {
          "base_uri": "https://localhost:8080/",
          "height": 34
        },
        "outputId": "2cb46669-965c-44de-f76a-5ddb2a45b88d"
      },
      "source": [
        "359/5   #Division always returns floating point number"
      ],
      "execution_count": null,
      "outputs": [
        {
          "output_type": "execute_result",
          "data": {
            "text/plain": [
              "71.8"
            ]
          },
          "metadata": {
            "tags": []
          },
          "execution_count": 18
        }
      ]
    },
    {
      "cell_type": "markdown",
      "metadata": {
        "id": "l0vMNUX3LHqv",
        "colab_type": "text"
      },
      "source": [
        "The value that the operator operates on is called the operand. Python supports mixed operand type operation. Operators with mixed type operands convert the integer operand to floating point.\n",
        "\n",
        "This can be understood by the following example:"
      ]
    },
    {
      "cell_type": "code",
      "metadata": {
        "id": "Dh5s9d6uLGec",
        "colab_type": "code",
        "colab": {
          "base_uri": "https://localhost:8080/",
          "height": 34
        },
        "outputId": "a1382691-2a75-46ff-da49-58d575c81df3"
      },
      "source": [
        "(3*2.5)+6  # 3 and 6 are integers and 2.5 is floating so the answer is a floating point number"
      ],
      "execution_count": null,
      "outputs": [
        {
          "output_type": "execute_result",
          "data": {
            "text/plain": [
              "13.5"
            ]
          },
          "metadata": {
            "tags": []
          },
          "execution_count": 13
        }
      ]
    },
    {
      "cell_type": "markdown",
      "metadata": {
        "id": "6zNfGeym14v5",
        "colab_type": "text"
      },
      "source": [
        "**C.** Division `/` always returns a float. To calculate an integer result perform floor division using `//` operator and to calculate remainder use `%` modulus operator. "
      ]
    },
    {
      "cell_type": "code",
      "metadata": {
        "id": "m1kk5FQATZ99",
        "colab_type": "code",
        "colab": {
          "base_uri": "https://localhost:8080/",
          "height": 34
        },
        "outputId": "9fead248-dace-4469-c982-8250d53e88bd"
      },
      "source": [
        "47 / 8   #Division always returns floating point number"
      ],
      "execution_count": null,
      "outputs": [
        {
          "output_type": "execute_result",
          "data": {
            "text/plain": [
              "5.875"
            ]
          },
          "metadata": {
            "tags": []
          },
          "execution_count": 1
        }
      ]
    },
    {
      "cell_type": "code",
      "metadata": {
        "id": "U4PZii2sVkxJ",
        "colab_type": "code",
        "colab": {
          "base_uri": "https://localhost:8080/",
          "height": 34
        },
        "outputId": "3211b185-56f6-4ea7-d27c-db508165fda9"
      },
      "source": [
        "47 // 8  #Floor division discards the fractional part"
      ],
      "execution_count": null,
      "outputs": [
        {
          "output_type": "execute_result",
          "data": {
            "text/plain": [
              "5"
            ]
          },
          "metadata": {
            "tags": []
          },
          "execution_count": 9
        }
      ]
    },
    {
      "cell_type": "code",
      "metadata": {
        "id": "zNEkqssFTpLp",
        "colab_type": "code",
        "colab": {
          "base_uri": "https://localhost:8080/",
          "height": 34
        },
        "outputId": "0d53585e-882f-4eb5-dcb2-1698657e7c3d"
      },
      "source": [
        "47 % 8   # % operator returns the remainder"
      ],
      "execution_count": null,
      "outputs": [
        {
          "output_type": "execute_result",
          "data": {
            "text/plain": [
              "7"
            ]
          },
          "metadata": {
            "tags": []
          },
          "execution_count": 10
        }
      ]
    },
    {
      "cell_type": "markdown",
      "metadata": {
        "id": "dmFxHDDT95Xp",
        "colab_type": "text"
      },
      "source": [
        "**D.** To calculate power, use the `**` power operator . It returns the value of the first number raised to the power of second. "
      ]
    },
    {
      "cell_type": "code",
      "metadata": {
        "id": "GiGR_wiY1hr2",
        "colab_type": "code",
        "colab": {
          "base_uri": "https://localhost:8080/",
          "height": 34
        },
        "outputId": "7e3908c4-b632-42c8-e242-0d8c732d2d24"
      },
      "source": [
        "5**4  # 5^4 or 5 raised to the power 4"
      ],
      "execution_count": null,
      "outputs": [
        {
          "output_type": "execute_result",
          "data": {
            "text/plain": [
              "49"
            ]
          },
          "metadata": {
            "tags": []
          },
          "execution_count": 15
        }
      ]
    },
    {
      "cell_type": "code",
      "metadata": {
        "id": "wr-bpdw0B5Qt",
        "colab_type": "code",
        "colab": {
          "base_uri": "https://localhost:8080/",
          "height": 34
        },
        "outputId": "86fdbf9b-ca7d-48bd-9af4-6845d555c366"
      },
      "source": [
        "2**6 # 2 raised to the power 6"
      ],
      "execution_count": null,
      "outputs": [
        {
          "output_type": "execute_result",
          "data": {
            "text/plain": [
              "64"
            ]
          },
          "metadata": {
            "tags": []
          },
          "execution_count": 21
        }
      ]
    },
    {
      "cell_type": "markdown",
      "metadata": {
        "id": "Fk2C-ZhjB0IY",
        "colab_type": "text"
      },
      "source": [
        "**E.** Assignment operator `=` is used to assign value to a variable. If we call the variable then it returns the assigned value. "
      ]
    },
    {
      "cell_type": "code",
      "metadata": {
        "id": "rzlBVvWK_VGJ",
        "colab_type": "code",
        "colab": {}
      },
      "source": [
        "altitude = 9  # 9 is assigned to altitude variable"
      ],
      "execution_count": null,
      "outputs": []
    },
    {
      "cell_type": "code",
      "metadata": {
        "id": "R4vtbndLJZQP",
        "colab_type": "code",
        "colab": {}
      },
      "source": [
        "base = 10     # 10 is assigned to base variable"
      ],
      "execution_count": null,
      "outputs": []
    },
    {
      "cell_type": "code",
      "metadata": {
        "id": "O0zJvjUqJovA",
        "colab_type": "code",
        "colab": {
          "base_uri": "https://localhost:8080/",
          "height": 34
        },
        "outputId": "527aa6ca-1ebc-446f-cac2-17577d99cec8"
      },
      "source": [
        "(base*altitude)//2   #the varaibles are used to perform calculations0"
      ],
      "execution_count": null,
      "outputs": [
        {
          "output_type": "execute_result",
          "data": {
            "text/plain": [
              "45"
            ]
          },
          "metadata": {
            "tags": []
          },
          "execution_count": 11
        }
      ]
    },
    {
      "cell_type": "markdown",
      "metadata": {
        "id": "zJuIDsRSnfRy",
        "colab_type": "text"
      },
      "source": [
        "**F.** When trying to use a variable that is not defined or is not assigned a value, u receive an error."
      ]
    },
    {
      "cell_type": "code",
      "metadata": {
        "id": "_mG3SIbdJuly",
        "colab_type": "code",
        "colab": {
          "base_uri": "https://localhost:8080/",
          "height": 162
        },
        "outputId": "ec08d379-5315-48d6-ee52-8bd893c09fe8"
      },
      "source": [
        "s"
      ],
      "execution_count": null,
      "outputs": [
        {
          "output_type": "error",
          "ename": "NameError",
          "evalue": "ignored",
          "traceback": [
            "\u001b[0;31m---------------------------------------------------------------------------\u001b[0m",
            "\u001b[0;31mNameError\u001b[0m                                 Traceback (most recent call last)",
            "\u001b[0;32m<ipython-input-1-ded5ba42480f>\u001b[0m in \u001b[0;36m<module>\u001b[0;34m()\u001b[0m\n\u001b[0;32m----> 1\u001b[0;31m \u001b[0ms\u001b[0m\u001b[0;34m\u001b[0m\u001b[0;34m\u001b[0m\u001b[0m\n\u001b[0m",
            "\u001b[0;31mNameError\u001b[0m: name 's' is not defined"
          ]
        }
      ]
    },
    {
      "cell_type": "markdown",
      "metadata": {
        "id": "BZIySUpHrjvP",
        "colab_type": "text"
      },
      "source": [
        "**G.** In Python interactive mode, the last printed expression is assigned to the variable `_` (underscore) . This means that when you are using Python as a desk calculator, it is somewhat easier to continue calculations, for example:\n",
        "\n",
        "1. "
      ]
    },
    {
      "cell_type": "code",
      "metadata": {
        "id": "L-0wPB6UryiB",
        "colab_type": "code",
        "colab": {
          "base_uri": "https://localhost:8080/",
          "height": 34
        },
        "outputId": "8602cc82-8d77-47b8-d016-452c5b6fea05"
      },
      "source": [
        "82+44"
      ],
      "execution_count": null,
      "outputs": [
        {
          "output_type": "execute_result",
          "data": {
            "text/plain": [
              "126"
            ]
          },
          "metadata": {
            "tags": []
          },
          "execution_count": 9
        }
      ]
    },
    {
      "cell_type": "code",
      "metadata": {
        "id": "4UMbfJzwsVkN",
        "colab_type": "code",
        "colab": {
          "base_uri": "https://localhost:8080/",
          "height": 34
        },
        "outputId": "5df864ed-b37f-4788-9b8f-9b05fdb1d7b4"
      },
      "source": [
        "_ * 2  # 126 is assigned to _"
      ],
      "execution_count": null,
      "outputs": [
        {
          "output_type": "execute_result",
          "data": {
            "text/plain": [
              "252"
            ]
          },
          "metadata": {
            "tags": []
          },
          "execution_count": 10
        }
      ]
    },
    {
      "cell_type": "code",
      "metadata": {
        "id": "QN-C9mcnsXbi",
        "colab_type": "code",
        "colab": {
          "base_uri": "https://localhost:8080/",
          "height": 34
        },
        "outputId": "142b781b-e09b-4ede-9c0e-e3ba94ed1a6e"
      },
      "source": [
        "270 - _ # now 252 is assigned to _"
      ],
      "execution_count": null,
      "outputs": [
        {
          "output_type": "execute_result",
          "data": {
            "text/plain": [
              "18"
            ]
          },
          "metadata": {
            "tags": []
          },
          "execution_count": 11
        }
      ]
    },
    {
      "cell_type": "markdown",
      "metadata": {
        "id": "h-kb7xFrsgfh",
        "colab_type": "text"
      },
      "source": [
        "2."
      ]
    },
    {
      "cell_type": "code",
      "metadata": {
        "id": "Yolj8aiTs9L5",
        "colab_type": "code",
        "colab": {}
      },
      "source": [
        "tax = 10.58/100  "
      ],
      "execution_count": null,
      "outputs": []
    },
    {
      "cell_type": "code",
      "metadata": {
        "id": "nKVZRbNPtpGN",
        "colab_type": "code",
        "colab": {}
      },
      "source": [
        "price = 210"
      ],
      "execution_count": null,
      "outputs": []
    },
    {
      "cell_type": "code",
      "metadata": {
        "id": "X6RNFWritrZ8",
        "colab_type": "code",
        "colab": {
          "base_uri": "https://localhost:8080/",
          "height": 34
        },
        "outputId": "44297cc1-dcd8-4ab8-b3ec-bffeef9f0fe6"
      },
      "source": [
        "price*tax"
      ],
      "execution_count": null,
      "outputs": [
        {
          "output_type": "execute_result",
          "data": {
            "text/plain": [
              "22.218"
            ]
          },
          "metadata": {
            "tags": []
          },
          "execution_count": 42
        }
      ]
    },
    {
      "cell_type": "code",
      "metadata": {
        "id": "AqelYIK8tua6",
        "colab_type": "code",
        "colab": {
          "base_uri": "https://localhost:8080/",
          "height": 34
        },
        "outputId": "38dc2d86-0fdd-450a-c646-a69961eb7204"
      },
      "source": [
        "price + _   # the last printed expression i.e. 22.218 is assigned to _"
      ],
      "execution_count": null,
      "outputs": [
        {
          "output_type": "execute_result",
          "data": {
            "text/plain": [
              "232.218"
            ]
          },
          "metadata": {
            "tags": []
          },
          "execution_count": 43
        }
      ]
    },
    {
      "cell_type": "code",
      "metadata": {
        "id": "nvF_PBuMt05T",
        "colab_type": "code",
        "colab": {
          "base_uri": "https://localhost:8080/",
          "height": 34
        },
        "outputId": "09de14b1-d347-4bd0-b1bc-120930ad75ac"
      },
      "source": [
        "round( _ , 2)    # 232.218 is assigned to _ variable\n",
        "                 # round function is used to round-off the number to given places of decimal(here it is 2)"
      ],
      "execution_count": null,
      "outputs": [
        {
          "output_type": "execute_result",
          "data": {
            "text/plain": [
              "232.22"
            ]
          },
          "metadata": {
            "tags": []
          },
          "execution_count": 44
        }
      ]
    },
    {
      "cell_type": "markdown",
      "metadata": {
        "id": "m5h1VaGvvLtS",
        "colab_type": "text"
      },
      "source": [
        "NOTE : This variable should be treated as read-only by the user. \n",
        "\n",
        "If you explicitly assign a value to the variable `  _  ` then you are actually creating a local variable and masking the built-in variable with these special behaviour. "
      ]
    },
    {
      "cell_type": "code",
      "metadata": {
        "id": "Vhc6T-V-t8we",
        "colab_type": "code",
        "colab": {
          "base_uri": "https://localhost:8080/",
          "height": 34
        },
        "outputId": "552d7c6f-2237-453f-8516-c13dcad3ec91"
      },
      "source": [
        "33*2"
      ],
      "execution_count": null,
      "outputs": [
        {
          "output_type": "execute_result",
          "data": {
            "text/plain": [
              "66"
            ]
          },
          "metadata": {
            "tags": []
          },
          "execution_count": 46
        }
      ]
    },
    {
      "cell_type": "code",
      "metadata": {
        "id": "8xvFixDCwE9y",
        "colab_type": "code",
        "colab": {
          "base_uri": "https://localhost:8080/",
          "height": 34
        },
        "outputId": "625d4158-f434-48e2-ea03-503f8eee0f3a"
      },
      "source": [
        "_       # using _ variable to access last printed expression"
      ],
      "execution_count": null,
      "outputs": [
        {
          "output_type": "execute_result",
          "data": {
            "text/plain": [
              "66"
            ]
          },
          "metadata": {
            "tags": []
          },
          "execution_count": 47
        }
      ]
    },
    {
      "cell_type": "code",
      "metadata": {
        "id": "3bZGc2hfwFuw",
        "colab_type": "code",
        "colab": {}
      },
      "source": [
        "_ = 34  # explicitly assigning a value to _ "
      ],
      "execution_count": null,
      "outputs": []
    },
    {
      "cell_type": "code",
      "metadata": {
        "id": "Wh89-kciwLK4",
        "colab_type": "code",
        "colab": {
          "base_uri": "https://localhost:8080/",
          "height": 34
        },
        "outputId": "3b526f9a-bdd6-4182-cd58-eccb9aa29496"
      },
      "source": [
        "_ "
      ],
      "execution_count": null,
      "outputs": [
        {
          "output_type": "execute_result",
          "data": {
            "text/plain": [
              "34"
            ]
          },
          "metadata": {
            "tags": []
          },
          "execution_count": 50
        }
      ]
    },
    {
      "cell_type": "markdown",
      "metadata": {
        "id": "rHA0TkhuxlfF",
        "colab_type": "text"
      },
      "source": [
        "NOTE : `  _  `   variable should print 66 because 66 is the last printed expression but since a local variable `  _   ` is created so the built-in variable loses its special behaviour at this point."
      ]
    },
    {
      "cell_type": "markdown",
      "metadata": {
        "id": "4okGQgprFhWy",
        "colab_type": "text"
      },
      "source": [
        "### **STRINGS**"
      ]
    },
    {
      "cell_type": "markdown",
      "metadata": {
        "id": "p7rwv6J1umoQ",
        "colab_type": "text"
      },
      "source": [
        "In order to print a text value we use data type **string**. In order to print the text enclose the text in  either in the single quote { ' hello ' } or double quote{ \" how are u?  \" } "
      ]
    },
    {
      "cell_type": "code",
      "metadata": {
        "id": "a3FLEheyukzF",
        "colab_type": "code",
        "colab": {
          "base_uri": "https://localhost:8080/",
          "height": 36
        },
        "outputId": "bf7e2c25-b30a-4ccd-d610-c6c60289ec46"
      },
      "source": [
        "'Hey there!'"
      ],
      "execution_count": null,
      "outputs": [
        {
          "output_type": "execute_result",
          "data": {
            "application/vnd.google.colaboratory.intrinsic+json": {
              "type": "string"
            },
            "text/plain": [
              "'Hey there!'"
            ]
          },
          "metadata": {
            "tags": []
          },
          "execution_count": 2
        }
      ]
    },
    {
      "cell_type": "code",
      "metadata": {
        "id": "QTMockiLupGo",
        "colab_type": "code",
        "colab": {
          "base_uri": "https://localhost:8080/",
          "height": 36
        },
        "outputId": "3b39a764-4830-406c-e164-8b7fbe48bf8e"
      },
      "source": [
        "\"Hey there!\""
      ],
      "execution_count": null,
      "outputs": [
        {
          "output_type": "execute_result",
          "data": {
            "application/vnd.google.colaboratory.intrinsic+json": {
              "type": "string"
            },
            "text/plain": [
              "'Hey there!'"
            ]
          },
          "metadata": {
            "tags": []
          },
          "execution_count": 3
        }
      ]
    },
    {
      "cell_type": "markdown",
      "metadata": {
        "id": "_iDyUWcpwrc2",
        "colab_type": "text"
      },
      "source": [
        "Above both syntax are same so you can use any one of them"
      ]
    },
    {
      "cell_type": "markdown",
      "metadata": {
        "id": "fRo1xsDUxTn-",
        "colab_type": "text"
      },
      "source": [
        "1)  Now learn how to print the Apostrophe { ' } in our text "
      ]
    },
    {
      "cell_type": "markdown",
      "metadata": {
        "id": "40wvn0IMxiqx",
        "colab_type": "text"
      },
      "source": [
        "*    Let's check what happened if we simply put ' in our normal text "
      ]
    },
    {
      "cell_type": "code",
      "metadata": {
        "id": "eRLCngqswq8l",
        "colab_type": "code",
        "colab": {
          "base_uri": "https://localhost:8080/",
          "height": 132
        },
        "outputId": "2bdb615f-0f09-464a-8d25-6adc55db01bc"
      },
      "source": [
        "'Which is correct, Chris's chair or Chris' chair?'"
      ],
      "execution_count": null,
      "outputs": [
        {
          "output_type": "error",
          "ename": "SyntaxError",
          "evalue": "ignored",
          "traceback": [
            "\u001b[0;36m  File \u001b[0;32m\"<ipython-input-5-9fb21ef5fed2>\"\u001b[0;36m, line \u001b[0;32m1\u001b[0m\n\u001b[0;31m    'Which is correct, Chris's chair or Chris' chair?'\u001b[0m\n\u001b[0m                             ^\u001b[0m\n\u001b[0;31mSyntaxError\u001b[0m\u001b[0;31m:\u001b[0m invalid syntax\n"
          ]
        }
      ]
    },
    {
      "cell_type": "markdown",
      "metadata": {
        "id": "8aXMuZ8zxrfs",
        "colab_type": "text"
      },
      "source": [
        "Hence it shows error so to avoid thi we have 2 ways"
      ]
    },
    {
      "cell_type": "markdown",
      "metadata": {
        "id": "7g6qrTV1x2C1",
        "colab_type": "text"
      },
      "source": [
        "A) By putting back slash before the ' for eg {  \\\\'  } to escape the single quote"
      ]
    },
    {
      "cell_type": "code",
      "metadata": {
        "id": "eEeqHw8AxSMc",
        "colab_type": "code",
        "colab": {
          "base_uri": "https://localhost:8080/",
          "height": 35
        },
        "outputId": "9fe29e59-6826-4a85-ea0c-5223783616f8"
      },
      "source": [
        "a='Which is correct, Chris\\'s chair or Chris\\' chair?'\n",
        "print(a)"
      ],
      "execution_count": null,
      "outputs": [
        {
          "output_type": "stream",
          "text": [
            "Which is correct, Chris's chair or Chris' chair?\n"
          ],
          "name": "stdout"
        }
      ]
    },
    {
      "cell_type": "markdown",
      "metadata": {
        "id": "PzMCGMdLybJQ",
        "colab_type": "text"
      },
      "source": [
        "B) By using double quotes and enclosing text in single quote and vice versa "
      ]
    },
    {
      "cell_type": "code",
      "metadata": {
        "id": "VjDrZGlAyJj3",
        "colab_type": "code",
        "colab": {
          "base_uri": "https://localhost:8080/",
          "height": 35
        },
        "outputId": "8e83d629-9026-4537-ebe4-46aa4bd6381f"
      },
      "source": [
        "a='\"Yes,\" she said.'\n",
        "print(a)"
      ],
      "execution_count": null,
      "outputs": [
        {
          "output_type": "stream",
          "text": [
            "\"Yes,\" she said.\n"
          ],
          "name": "stdout"
        }
      ]
    },
    {
      "cell_type": "code",
      "metadata": {
        "id": "wE1Me_3CzKYM",
        "colab_type": "code",
        "colab": {
          "base_uri": "https://localhost:8080/",
          "height": 35
        },
        "outputId": "fdda0777-e0a2-4cc0-cb43-c14433cd4bdb"
      },
      "source": [
        "a='\"Yes,\" she said.'\n",
        "print(a)"
      ],
      "execution_count": null,
      "outputs": [
        {
          "output_type": "stream",
          "text": [
            "\"Yes,\" she said.\n"
          ],
          "name": "stdout"
        }
      ]
    },
    {
      "cell_type": "markdown",
      "metadata": {
        "id": "tMfigsMDzvwK",
        "colab_type": "text"
      },
      "source": [
        "If you are confused with the starting and ending quotes use print function what is basically do is print the text or anything which we pass to it"
      ]
    },
    {
      "cell_type": "code",
      "metadata": {
        "id": "ujfYVpzwztHM",
        "colab_type": "code",
        "colab": {
          "base_uri": "https://localhost:8080/",
          "height": 35
        },
        "outputId": "ac3d5f33-00dd-4f7b-ed84-2953cd23312a"
      },
      "source": [
        "print(\"'Yes,' she said.\")"
      ],
      "execution_count": null,
      "outputs": [
        {
          "output_type": "stream",
          "text": [
            "'Yes,' she said.\n"
          ],
          "name": "stdout"
        }
      ]
    },
    {
      "cell_type": "markdown",
      "metadata": {
        "id": "_zm09flb1RQd",
        "colab_type": "text"
      },
      "source": [
        "**NOTE** :-  Don't use backslash { \\\\ } in the double and single quote format it will print it as it is"
      ]
    },
    {
      "cell_type": "code",
      "metadata": {
        "id": "S7yLJgxP1G-Y",
        "colab_type": "code",
        "colab": {
          "base_uri": "https://localhost:8080/",
          "height": 36
        },
        "outputId": "0764d79c-d13e-4153-f7bd-9894256a49f4"
      },
      "source": [
        "'\"Isn\\'t,\" they said.'"
      ],
      "execution_count": null,
      "outputs": [
        {
          "output_type": "execute_result",
          "data": {
            "application/vnd.google.colaboratory.intrinsic+json": {
              "type": "string"
            },
            "text/plain": [
              "'\"Isn\\'t,\" they said.'"
            ]
          },
          "metadata": {
            "tags": []
          },
          "execution_count": 16
        }
      ]
    },
    {
      "cell_type": "markdown",
      "metadata": {
        "id": "T84SS0Ap3er6",
        "colab_type": "text"
      },
      "source": [
        "2) Printing the continued text in the new line "
      ]
    },
    {
      "cell_type": "markdown",
      "metadata": {
        "id": "Yf9N7WWN5Opo",
        "colab_type": "text"
      },
      "source": [
        "*    By using \\\\n it will print the text ahead of it in the next line"
      ]
    },
    {
      "cell_type": "code",
      "metadata": {
        "id": "fkV55qGb5eWW",
        "colab_type": "code",
        "colab": {
          "base_uri": "https://localhost:8080/",
          "height": 36
        },
        "outputId": "5e852276-1b02-4afc-ba00-8e95ed5a731e"
      },
      "source": [
        "'First line.\\nSecond line'"
      ],
      "execution_count": null,
      "outputs": [
        {
          "output_type": "execute_result",
          "data": {
            "application/vnd.google.colaboratory.intrinsic+json": {
              "type": "string"
            },
            "text/plain": [
              "'First line.\\nSecond line'"
            ]
          },
          "metadata": {
            "tags": []
          },
          "execution_count": 27
        }
      ]
    },
    {
      "cell_type": "markdown",
      "metadata": {
        "id": "Mh1WLfqC5yBw",
        "colab_type": "text"
      },
      "source": [
        "If we write like above the \\n is included in the text so to use \\n to print the text in the next line use print function"
      ]
    },
    {
      "cell_type": "code",
      "metadata": {
        "id": "u3ZZY0Zz1QXw",
        "colab_type": "code",
        "colab": {
          "base_uri": "https://localhost:8080/",
          "height": 52
        },
        "outputId": "4d859da9-a49f-4dc8-8eb5-fd35a4bf2752"
      },
      "source": [
        "y='First line.\\nSecond line.'\n",
        "print(y)"
      ],
      "execution_count": null,
      "outputs": [
        {
          "output_type": "stream",
          "text": [
            "First line.\n",
            "Second line.\n"
          ],
          "name": "stdout"
        }
      ]
    },
    {
      "cell_type": "markdown",
      "metadata": {
        "id": "LfvoNHDILCX_",
        "colab_type": "text"
      },
      "source": [
        "*    Another way is by using triple-quotes: \"\"\"...\"\"\" or '''...'''. End of lines are automatically considered as the next line "
      ]
    },
    {
      "cell_type": "code",
      "metadata": {
        "id": "pGhj5ET8LCAV",
        "colab_type": "code",
        "colab": {
          "base_uri": "https://localhost:8080/",
          "height": 106
        },
        "outputId": "d1475c8a-eb04-4aa9-ec4d-9e1e2e745bd4"
      },
      "source": [
        "print(\"\"\"First line\n",
        "  Second line  { Writng text after 2 spaces from the begining }\n",
        "Third line\n",
        "\n",
        "\"\"\")"
      ],
      "execution_count": null,
      "outputs": [
        {
          "output_type": "stream",
          "text": [
            "First line\n",
            "  Second line  { Writng text after 2 spaces from the begining }\n",
            "Third line\n",
            "\n",
            "\n"
          ],
          "name": "stdout"
        }
      ]
    },
    {
      "cell_type": "markdown",
      "metadata": {
        "id": "t-8cuvRMMYap",
        "colab_type": "text"
      },
      "source": [
        "We can even prevent the automatically next line syntax  by adding a \\ at the end of the line. The following example:"
      ]
    },
    {
      "cell_type": "code",
      "metadata": {
        "id": "Ab8pCTjXMZZ2",
        "colab_type": "code",
        "colab": {
          "base_uri": "https://localhost:8080/",
          "height": 88
        },
        "outputId": "57610f5d-7cca-43d0-87f3-1b2d794c835f"
      },
      "source": [
        "print(\"\"\"First line \\\n",
        "First line continued  \n",
        "Third line\n",
        "\n",
        "\"\"\")"
      ],
      "execution_count": null,
      "outputs": [
        {
          "output_type": "stream",
          "text": [
            "First line First line continued  \n",
            "Third line\n",
            "\n",
            "\n"
          ],
          "name": "stdout"
        }
      ]
    },
    {
      "cell_type": "markdown",
      "metadata": {
        "id": "rtA2JyGB6OCQ",
        "colab_type": "text"
      },
      "source": [
        "3) If you don’t want characters prefaced by \\ to be interpreted as special characters, you can use raw strings by adding an r before the first quote:"
      ]
    },
    {
      "cell_type": "code",
      "metadata": {
        "id": "kNA6egT83-Yg",
        "colab_type": "code",
        "colab": {
          "base_uri": "https://localhost:8080/",
          "height": 52
        },
        "outputId": "1656a628-4d1c-421a-dab9-00f1692d87e2"
      },
      "source": [
        "print('C:\\helo\\desktop\\name')"
      ],
      "execution_count": null,
      "outputs": [
        {
          "output_type": "stream",
          "text": [
            "C:\\helo\\desktop\n",
            "ame\n"
          ],
          "name": "stdout"
        }
      ]
    },
    {
      "cell_type": "markdown",
      "metadata": {
        "id": "bKjOaLra6jwm",
        "colab_type": "text"
      },
      "source": [
        "Hence { \\\\n } will be read as the operator for printing the value in the next line"
      ]
    },
    {
      "cell_type": "markdown",
      "metadata": {
        "id": "i9Ox8dsrJI5q",
        "colab_type": "text"
      },
      "source": [
        "To avoid this we will add an extra argument { r } at the begining of our text"
      ]
    },
    {
      "cell_type": "code",
      "metadata": {
        "id": "OJaeFTo36bwm",
        "colab_type": "code",
        "colab": {
          "base_uri": "https://localhost:8080/",
          "height": 35
        },
        "outputId": "86d9b572-0bb0-4e41-acf2-a24d88e8f9c2"
      },
      "source": [
        "y=r'C\\helo\\desktop\\name'\n",
        "print(y)"
      ],
      "execution_count": null,
      "outputs": [
        {
          "output_type": "stream",
          "text": [
            "C\\user\\desktop\\name\n"
          ],
          "name": "stdout"
        }
      ]
    },
    {
      "cell_type": "markdown",
      "metadata": {
        "id": "PaWZ_6AxM4KS",
        "colab_type": "text"
      },
      "source": [
        "4) Strings can be concatenated (glued together) with the + operator, and repeated with *"
      ]
    },
    {
      "cell_type": "markdown",
      "metadata": {
        "id": "uGHZ5iUWNHog",
        "colab_type": "text"
      },
      "source": [
        "*    {  * }  Multiplication operator multiplies the same text into the number we pass it to"
      ]
    },
    {
      "cell_type": "code",
      "metadata": {
        "id": "7f_X3BoxM_WV",
        "colab_type": "code",
        "colab": {
          "base_uri": "https://localhost:8080/",
          "height": 36
        },
        "outputId": "50a91fc6-128c-4852-c0ec-c4de6c0a5fe0"
      },
      "source": [
        "c=4 * 'hi'\n",
        "c"
      ],
      "execution_count": null,
      "outputs": [
        {
          "output_type": "execute_result",
          "data": {
            "application/vnd.google.colaboratory.intrinsic+json": {
              "type": "string"
            },
            "text/plain": [
              "'hihihihi'"
            ]
          },
          "metadata": {
            "tags": []
          },
          "execution_count": 52
        }
      ]
    },
    {
      "cell_type": "markdown",
      "metadata": {
        "id": "5mfu7snKNQ_6",
        "colab_type": "text"
      },
      "source": [
        "*    { + } operator works *as* to stick 2 broken things together "
      ]
    },
    {
      "cell_type": "code",
      "metadata": {
        "id": "BBYv0A0rKAmn",
        "colab_type": "code",
        "colab": {
          "base_uri": "https://localhost:8080/",
          "height": 36
        },
        "outputId": "b6f1a806-da85-4004-c66b-62c084c57c4f"
      },
      "source": [
        "d=c + 'haha'\n",
        "d"
      ],
      "execution_count": null,
      "outputs": [
        {
          "output_type": "execute_result",
          "data": {
            "application/vnd.google.colaboratory.intrinsic+json": {
              "type": "string"
            },
            "text/plain": [
              "'hihihihihaha'"
            ]
          },
          "metadata": {
            "tags": []
          },
          "execution_count": 53
        }
      ]
    },
    {
      "cell_type": "markdown",
      "metadata": {
        "id": "EfXFociRN_-F",
        "colab_type": "text"
      },
      "source": [
        "There a lot of other methods which help to conactinate 2 strings \n"
      ]
    },
    {
      "cell_type": "markdown",
      "metadata": {
        "id": "-_FEEaRWOKB8",
        "colab_type": "text"
      },
      "source": [
        "*    Two or more string literals (i.e. the ones enclosed between quotes) next to each other are automatically concatenated."
      ]
    },
    {
      "cell_type": "code",
      "metadata": {
        "id": "UgW-0WlMNlSv",
        "colab_type": "code",
        "colab": {
          "base_uri": "https://localhost:8080/",
          "height": 36
        },
        "outputId": "8dae279f-bf3e-490c-f369-978be1d4f6d5"
      },
      "source": [
        "'Hi ' ',how ' 'are ' 'You ?'"
      ],
      "execution_count": null,
      "outputs": [
        {
          "output_type": "execute_result",
          "data": {
            "application/vnd.google.colaboratory.intrinsic+json": {
              "type": "string"
            },
            "text/plain": [
              "'Hi ,how are You ?'"
            ]
          },
          "metadata": {
            "tags": []
          },
          "execution_count": 54
        }
      ]
    },
    {
      "cell_type": "markdown",
      "metadata": {
        "id": "3UwowImEOaVY",
        "colab_type": "text"
      },
      "source": [
        "Well the above method only works with two literals though, not with variables or expressions:"
      ]
    },
    {
      "cell_type": "code",
      "metadata": {
        "id": "8RwHKxXDOTcP",
        "colab_type": "code",
        "colab": {
          "base_uri": "https://localhost:8080/",
          "height": 132
        },
        "outputId": "854708f1-5d2f-4cbf-b304-fdbe3eb23354"
      },
      "source": [
        "a='Hi '\n",
        "b=a 'how' \n",
        "b"
      ],
      "execution_count": null,
      "outputs": [
        {
          "output_type": "error",
          "ename": "SyntaxError",
          "evalue": "ignored",
          "traceback": [
            "\u001b[0;36m  File \u001b[0;32m\"<ipython-input-56-f496d829943d>\"\u001b[0;36m, line \u001b[0;32m2\u001b[0m\n\u001b[0;31m    b=a 'how'\u001b[0m\n\u001b[0m            ^\u001b[0m\n\u001b[0;31mSyntaxError\u001b[0m\u001b[0;31m:\u001b[0m invalid syntax\n"
          ]
        }
      ]
    },
    {
      "cell_type": "markdown",
      "metadata": {
        "id": "Qt73Eyk3OqzN",
        "colab_type": "text"
      },
      "source": [
        "To avoid the above error just simply use the { + } operator "
      ]
    },
    {
      "cell_type": "code",
      "metadata": {
        "id": "WW2voGs0Ok0c",
        "colab_type": "code",
        "colab": {
          "base_uri": "https://localhost:8080/",
          "height": 36
        },
        "outputId": "9afe38b1-cf49-4009-f481-964f87463aa5"
      },
      "source": [
        "a='Hi '\n",
        "b=a + 'how ' + 'are ' + 'u ?'\n",
        "b"
      ],
      "execution_count": null,
      "outputs": [
        {
          "output_type": "execute_result",
          "data": {
            "application/vnd.google.colaboratory.intrinsic+json": {
              "type": "string"
            },
            "text/plain": [
              "'Hi how are u ?'"
            ]
          },
          "metadata": {
            "tags": []
          },
          "execution_count": 59
        }
      ]
    },
    {
      "cell_type": "code",
      "metadata": {
        "id": "_b55TLuCO4TI",
        "colab_type": "code",
        "colab": {
          "base_uri": "https://localhost:8080/",
          "height": 35
        },
        "outputId": "644a6450-0ae9-4d8f-989c-fc3f0625a12d"
      },
      "source": [
        "3 * 'hu'  ' j'"
      ],
      "execution_count": null,
      "outputs": [
        {
          "output_type": "execute_result",
          "data": {
            "application/vnd.google.colaboratory.intrinsic+json": {
              "type": "string"
            },
            "text/plain": [
              "'hu jhu jhu j'"
            ]
          },
          "metadata": {
            "tags": []
          },
          "execution_count": 2
        }
      ]
    },
    {
      "cell_type": "markdown",
      "metadata": {
        "id": "A7SqqmRMUgBs",
        "colab_type": "text"
      },
      "source": [
        "5) Indexing : Strings can be indexed (subscripted) starting from 0.\n",
        "\n",
        " P  y  t  h  o  n \n",
        "\n",
        " 0 1 2 3 4 5"
      ]
    },
    {
      "cell_type": "code",
      "metadata": {
        "id": "soDRjc0-Vi1B",
        "colab_type": "code",
        "colab": {}
      },
      "source": [
        "word = \"Python\""
      ],
      "execution_count": null,
      "outputs": []
    },
    {
      "cell_type": "code",
      "metadata": {
        "id": "g60UcDIlVrKd",
        "colab_type": "code",
        "colab": {
          "base_uri": "https://localhost:8080/",
          "height": 35
        },
        "outputId": "d8ae45a8-7f1e-40ec-d5d3-b89bf0f70cfb"
      },
      "source": [
        "word[0]"
      ],
      "execution_count": null,
      "outputs": [
        {
          "output_type": "execute_result",
          "data": {
            "application/vnd.google.colaboratory.intrinsic+json": {
              "type": "string"
            },
            "text/plain": [
              "'P'"
            ]
          },
          "metadata": {
            "tags": []
          },
          "execution_count": 4
        }
      ]
    },
    {
      "cell_type": "code",
      "metadata": {
        "id": "SmQUXvTbVuxx",
        "colab_type": "code",
        "colab": {
          "base_uri": "https://localhost:8080/",
          "height": 35
        },
        "outputId": "7508726a-f6c3-46ea-8fdf-e686119d8da2"
      },
      "source": [
        "word[4]"
      ],
      "execution_count": null,
      "outputs": [
        {
          "output_type": "execute_result",
          "data": {
            "application/vnd.google.colaboratory.intrinsic+json": {
              "type": "string"
            },
            "text/plain": [
              "'o'"
            ]
          },
          "metadata": {
            "tags": []
          },
          "execution_count": 5
        }
      ]
    },
    {
      "cell_type": "markdown",
      "metadata": {
        "id": "x2Tef2N_V1RO",
        "colab_type": "text"
      },
      "source": [
        "*   Indices may also be negative numbers:\n",
        "\n",
        "To print the values from the last we put -ve sign and the value begining from the right end. Since -0 is the same as 0, negative indices start from -1.\n",
        "\n",
        "\n",
        "Let's look at some examples:"
      ]
    },
    {
      "cell_type": "code",
      "metadata": {
        "id": "g7c9M9wTWXLG",
        "colab_type": "code",
        "colab": {
          "base_uri": "https://localhost:8080/",
          "height": 35
        },
        "outputId": "fa2605ec-6bd6-42da-e7b2-419cb02b53cc"
      },
      "source": [
        "word[-2]   # returns the 2nd character from the right"
      ],
      "execution_count": null,
      "outputs": [
        {
          "output_type": "execute_result",
          "data": {
            "application/vnd.google.colaboratory.intrinsic+json": {
              "type": "string"
            },
            "text/plain": [
              "'o'"
            ]
          },
          "metadata": {
            "tags": []
          },
          "execution_count": 8
        }
      ]
    },
    {
      "cell_type": "code",
      "metadata": {
        "id": "orjYaSQtXPiM",
        "colab_type": "code",
        "colab": {
          "base_uri": "https://localhost:8080/",
          "height": 35
        },
        "outputId": "64da3436-64b2-4216-da6b-047a24a9e862"
      },
      "source": [
        "word[-5]   # returns the 5th character from the right"
      ],
      "execution_count": null,
      "outputs": [
        {
          "output_type": "execute_result",
          "data": {
            "application/vnd.google.colaboratory.intrinsic+json": {
              "type": "string"
            },
            "text/plain": [
              "'y'"
            ]
          },
          "metadata": {
            "tags": []
          },
          "execution_count": 10
        }
      ]
    },
    {
      "cell_type": "markdown",
      "metadata": {
        "id": "MPqNjUYxJoEt",
        "colab_type": "text"
      },
      "source": [
        "6) Slicing , as the name suggests, means to cut or divide into slices or segments. Slicing in strings means to create parts out of the original string or to create sub-string. \n",
        "\n",
        "While indexing is used to obtain individual characters, slicing allows you to obtain substring.\n",
        "\n",
        "For better understanding lets look at some examples:"
      ]
    },
    {
      "cell_type": "markdown",
      "metadata": {
        "id": "-3yiBWQmOCTx",
        "colab_type": "text"
      },
      "source": [
        "*   Specify the start index and the end index, seprated by a colon to return a part of string. \n",
        "\n",
        "*   The first value is included and the last value is excluded **[start,stop)** {start and stop are the values you have entered}"
      ]
    },
    {
      "cell_type": "code",
      "metadata": {
        "id": "5Lb16Y9fLcZt",
        "colab_type": "code",
        "colab": {}
      },
      "source": [
        "word = \"Python\""
      ],
      "execution_count": null,
      "outputs": []
    },
    {
      "cell_type": "code",
      "metadata": {
        "id": "k_8icY4lLz4D",
        "colab_type": "code",
        "colab": {
          "base_uri": "https://localhost:8080/",
          "height": 34
        },
        "outputId": "f870f82d-8a95-443a-b973-70a7a098f839"
      },
      "source": [
        "word[2:5]  # slicing starts at index 2 and ends at index 5 excluding the 5th character"
      ],
      "execution_count": null,
      "outputs": [
        {
          "output_type": "execute_result",
          "data": {
            "application/vnd.google.colaboratory.intrinsic+json": {
              "type": "string"
            },
            "text/plain": [
              "'tho'"
            ]
          },
          "metadata": {
            "tags": []
          },
          "execution_count": 4
        }
      ]
    },
    {
      "cell_type": "code",
      "metadata": {
        "id": "XI5ZmFykTFn6",
        "colab_type": "code",
        "colab": {
          "base_uri": "https://localhost:8080/",
          "height": 34
        },
        "outputId": "38b8c63d-7647-4b5d-b78b-34fb59d6ad9f"
      },
      "source": [
        "word [0:4]  "
      ],
      "execution_count": null,
      "outputs": [
        {
          "output_type": "execute_result",
          "data": {
            "application/vnd.google.colaboratory.intrinsic+json": {
              "type": "string"
            },
            "text/plain": [
              "'Pyth'"
            ]
          },
          "metadata": {
            "tags": []
          },
          "execution_count": 5
        }
      ]
    },
    {
      "cell_type": "markdown",
      "metadata": {
        "id": "e6WVTiy4XF1L",
        "colab_type": "text"
      },
      "source": [
        "The absence of start index defaults to zero and absence of end index defaults to the size of the string.  "
      ]
    },
    {
      "cell_type": "code",
      "metadata": {
        "id": "-MgUlJZjVj9M",
        "colab_type": "code",
        "colab": {}
      },
      "source": [
        "word1 = \"Geeksman\""
      ],
      "execution_count": null,
      "outputs": []
    },
    {
      "cell_type": "code",
      "metadata": {
        "id": "7G7vv1ndWOoY",
        "colab_type": "code",
        "colab": {
          "base_uri": "https://localhost:8080/",
          "height": 35
        },
        "outputId": "c2c7d7c1-771d-4d09-c8e5-1ee8334230f2"
      },
      "source": [
        "word1[:5]    #omitted start index is default to 0"
      ],
      "execution_count": null,
      "outputs": [
        {
          "output_type": "execute_result",
          "data": {
            "application/vnd.google.colaboratory.intrinsic+json": {
              "type": "string"
            },
            "text/plain": [
              "'Geeks'"
            ]
          },
          "metadata": {
            "tags": []
          },
          "execution_count": 11
        }
      ]
    },
    {
      "cell_type": "code",
      "metadata": {
        "id": "UbHG2uBoV0Kr",
        "colab_type": "code",
        "colab": {
          "base_uri": "https://localhost:8080/",
          "height": 35
        },
        "outputId": "4e8abf59-d042-49f6-dc76-6602a6e902a1"
      },
      "source": [
        "word1[5:]   #omitted end index is default to the size of string"
      ],
      "execution_count": null,
      "outputs": [
        {
          "output_type": "execute_result",
          "data": {
            "application/vnd.google.colaboratory.intrinsic+json": {
              "type": "string"
            },
            "text/plain": [
              "'man'"
            ]
          },
          "metadata": {
            "tags": []
          },
          "execution_count": 9
        }
      ]
    },
    {
      "cell_type": "code",
      "metadata": {
        "id": "kqpCz8BhaGTp",
        "colab_type": "code",
        "colab": {
          "base_uri": "https://localhost:8080/",
          "height": 35
        },
        "outputId": "c78ec58a-8c5b-4a09-ff46-fff502b24e92"
      },
      "source": [
        "word1[-3:]"
      ],
      "execution_count": null,
      "outputs": [
        {
          "output_type": "execute_result",
          "data": {
            "application/vnd.google.colaboratory.intrinsic+json": {
              "type": "string"
            },
            "text/plain": [
              "'man'"
            ]
          },
          "metadata": {
            "tags": []
          },
          "execution_count": 13
        }
      ]
    },
    {
      "cell_type": "code",
      "metadata": {
        "id": "UIY3XGvyZ_-N",
        "colab_type": "code",
        "colab": {
          "base_uri": "https://localhost:8080/",
          "height": 35
        },
        "outputId": "d176c044-80cb-45b0-ac24-9cf6870e4c9a"
      },
      "source": [
        "word1[:]"
      ],
      "execution_count": null,
      "outputs": [
        {
          "output_type": "execute_result",
          "data": {
            "application/vnd.google.colaboratory.intrinsic+json": {
              "type": "string"
            },
            "text/plain": [
              "'Geeksman'"
            ]
          },
          "metadata": {
            "tags": []
          },
          "execution_count": 12
        }
      ]
    },
    {
      "cell_type": "markdown",
      "metadata": {
        "id": "eRcudYxPxA9I",
        "colab_type": "text"
      },
      "source": [
        "Using too large index results in error."
      ]
    },
    {
      "cell_type": "code",
      "metadata": {
        "id": "_VNSiuiaxuLR",
        "colab_type": "code",
        "colab": {
          "base_uri": "https://localhost:8080/",
          "height": 165
        },
        "outputId": "f36513c3-39de-430d-b3ef-04b70b48de92"
      },
      "source": [
        "word[50]"
      ],
      "execution_count": null,
      "outputs": [
        {
          "output_type": "error",
          "ename": "IndexError",
          "evalue": "ignored",
          "traceback": [
            "\u001b[0;31m---------------------------------------------------------------------------\u001b[0m",
            "\u001b[0;31mIndexError\u001b[0m                                Traceback (most recent call last)",
            "\u001b[0;32m<ipython-input-6-22e03385725e>\u001b[0m in \u001b[0;36m<module>\u001b[0;34m()\u001b[0m\n\u001b[0;32m----> 1\u001b[0;31m \u001b[0mword\u001b[0m\u001b[0;34m[\u001b[0m\u001b[0;36m50\u001b[0m\u001b[0;34m]\u001b[0m\u001b[0;34m\u001b[0m\u001b[0;34m\u001b[0m\u001b[0m\n\u001b[0m",
            "\u001b[0;31mIndexError\u001b[0m: string index out of range"
          ]
        }
      ]
    },
    {
      "cell_type": "code",
      "metadata": {
        "id": "0dFMp4BJXs4I",
        "colab_type": "code",
        "colab": {
          "base_uri": "https://localhost:8080/",
          "height": 162
        },
        "outputId": "3ce45ec8-74e7-432f-decc-2bf65670da59"
      },
      "source": [
        "word[-30]"
      ],
      "execution_count": null,
      "outputs": [
        {
          "output_type": "error",
          "ename": "IndexError",
          "evalue": "ignored",
          "traceback": [
            "\u001b[0;31m---------------------------------------------------------------------------\u001b[0m",
            "\u001b[0;31mIndexError\u001b[0m                                Traceback (most recent call last)",
            "\u001b[0;32m<ipython-input-11-67244c14c9b6>\u001b[0m in \u001b[0;36m<module>\u001b[0;34m()\u001b[0m\n\u001b[0;32m----> 1\u001b[0;31m \u001b[0mword\u001b[0m\u001b[0;34m[\u001b[0m\u001b[0;34m-\u001b[0m\u001b[0;36m30\u001b[0m\u001b[0;34m]\u001b[0m\u001b[0;34m\u001b[0m\u001b[0;34m\u001b[0m\u001b[0m\n\u001b[0m",
            "\u001b[0;31mIndexError\u001b[0m: string index out of range"
          ]
        }
      ]
    },
    {
      "cell_type": "markdown",
      "metadata": {
        "id": "-gO4DEFXTfh3",
        "colab_type": "text"
      },
      "source": [
        "Passing out of range slice indices is very well handled by python. If we pass the index which is greater than the size of string it doesn't give any error it just simply print values upto last index. "
      ]
    },
    {
      "cell_type": "code",
      "metadata": {
        "id": "QSIFSqsETUIT",
        "colab_type": "code",
        "colab": {
          "base_uri": "https://localhost:8080/",
          "height": 35
        },
        "outputId": "88059518-b096-406a-895f-56a0228eef42"
      },
      "source": [
        "word[3:23]"
      ],
      "execution_count": null,
      "outputs": [
        {
          "output_type": "execute_result",
          "data": {
            "application/vnd.google.colaboratory.intrinsic+json": {
              "type": "string"
            },
            "text/plain": [
              "'hon'"
            ]
          },
          "metadata": {
            "tags": []
          },
          "execution_count": 4
        }
      ]
    },
    {
      "cell_type": "code",
      "metadata": {
        "id": "drvFpMBOTXWS",
        "colab_type": "code",
        "colab": {
          "base_uri": "https://localhost:8080/",
          "height": 35
        },
        "outputId": "13cb6a50-aec7-4a60-b94b-7d872106c5f0"
      },
      "source": [
        "word[23:4]"
      ],
      "execution_count": null,
      "outputs": [
        {
          "output_type": "execute_result",
          "data": {
            "application/vnd.google.colaboratory.intrinsic+json": {
              "type": "string"
            },
            "text/plain": [
              "''"
            ]
          },
          "metadata": {
            "tags": []
          },
          "execution_count": 5
        }
      ]
    },
    {
      "cell_type": "markdown",
      "metadata": {
        "id": "2sdRR5xOnLk5",
        "colab_type": "text"
      },
      "source": [
        "Python strings are immutable i.e. they cannot be changed. So assigning value to indexed position in string results in error. "
      ]
    },
    {
      "cell_type": "code",
      "metadata": {
        "id": "EueJAiRVTs-C",
        "colab_type": "code",
        "colab": {
          "base_uri": "https://localhost:8080/",
          "height": 162
        },
        "outputId": "1770a2ed-a2f2-4824-e568-0bba1757ed8f"
      },
      "source": [
        "word[0] = \"K\""
      ],
      "execution_count": null,
      "outputs": [
        {
          "output_type": "error",
          "ename": "TypeError",
          "evalue": "ignored",
          "traceback": [
            "\u001b[0;31m---------------------------------------------------------------------------\u001b[0m",
            "\u001b[0;31mTypeError\u001b[0m                                 Traceback (most recent call last)",
            "\u001b[0;32m<ipython-input-16-35c5c818a9af>\u001b[0m in \u001b[0;36m<module>\u001b[0;34m()\u001b[0m\n\u001b[0;32m----> 1\u001b[0;31m \u001b[0mword\u001b[0m\u001b[0;34m[\u001b[0m\u001b[0;36m0\u001b[0m\u001b[0;34m]\u001b[0m \u001b[0;34m=\u001b[0m \u001b[0;34m\"K\"\u001b[0m\u001b[0;34m\u001b[0m\u001b[0;34m\u001b[0m\u001b[0m\n\u001b[0m",
            "\u001b[0;31mTypeError\u001b[0m: 'str' object does not support item assignment"
          ]
        }
      ]
    },
    {
      "cell_type": "code",
      "metadata": {
        "id": "UqKxq_snnw7J",
        "colab_type": "code",
        "colab": {
          "base_uri": "https://localhost:8080/",
          "height": 162
        },
        "outputId": "4abeefcf-9701-4e88-8ab3-17ba3d7f26b0"
      },
      "source": [
        "word1[-3:] = \"woman\""
      ],
      "execution_count": null,
      "outputs": [
        {
          "output_type": "error",
          "ename": "TypeError",
          "evalue": "ignored",
          "traceback": [
            "\u001b[0;31m---------------------------------------------------------------------------\u001b[0m",
            "\u001b[0;31mTypeError\u001b[0m                                 Traceback (most recent call last)",
            "\u001b[0;32m<ipython-input-17-32ac4e82ca96>\u001b[0m in \u001b[0;36m<module>\u001b[0;34m()\u001b[0m\n\u001b[0;32m----> 1\u001b[0;31m \u001b[0mword1\u001b[0m\u001b[0;34m[\u001b[0m\u001b[0;34m-\u001b[0m\u001b[0;36m3\u001b[0m\u001b[0;34m:\u001b[0m\u001b[0;34m]\u001b[0m \u001b[0;34m=\u001b[0m \u001b[0;34m\"woman\"\u001b[0m\u001b[0;34m\u001b[0m\u001b[0;34m\u001b[0m\u001b[0m\n\u001b[0m",
            "\u001b[0;31mTypeError\u001b[0m: 'str' object does not support item assignment"
          ]
        }
      ]
    },
    {
      "cell_type": "markdown",
      "metadata": {
        "id": "8xfnmKsZo0ds",
        "colab_type": "text"
      },
      "source": [
        "A new string can be created by using `  +  ` operator. "
      ]
    },
    {
      "cell_type": "code",
      "metadata": {
        "id": "dB46uU5soxak",
        "colab_type": "code",
        "colab": {
          "base_uri": "https://localhost:8080/",
          "height": 35
        },
        "outputId": "751d5ff8-fb1d-432a-c80f-b589a10f2144"
      },
      "source": [
        "\"K\" + word[1:]"
      ],
      "execution_count": null,
      "outputs": [
        {
          "output_type": "execute_result",
          "data": {
            "application/vnd.google.colaboratory.intrinsic+json": {
              "type": "string"
            },
            "text/plain": [
              "'Kython'"
            ]
          },
          "metadata": {
            "tags": []
          },
          "execution_count": 27
        }
      ]
    },
    {
      "cell_type": "code",
      "metadata": {
        "id": "s1Pr6BYmpTbO",
        "colab_type": "code",
        "colab": {
          "base_uri": "https://localhost:8080/",
          "height": 35
        },
        "outputId": "0b5c4ae1-7e61-47e6-b51c-934a083c101d"
      },
      "source": [
        "word1[:-3] + \"woman\""
      ],
      "execution_count": null,
      "outputs": [
        {
          "output_type": "execute_result",
          "data": {
            "application/vnd.google.colaboratory.intrinsic+json": {
              "type": "string"
            },
            "text/plain": [
              "'Geekswoman'"
            ]
          },
          "metadata": {
            "tags": []
          },
          "execution_count": 25
        }
      ]
    },
    {
      "cell_type": "markdown",
      "metadata": {
        "id": "3bHKLXcOp7X0",
        "colab_type": "text"
      },
      "source": [
        "The built-in `len()` function is used to return the length of string. "
      ]
    },
    {
      "cell_type": "code",
      "metadata": {
        "id": "4vn-sWCLqbyG",
        "colab_type": "code",
        "colab": {}
      },
      "source": [
        "s = \"pneumonoultramicroscopicsilicovolcanoconiosis\"   #This is the longest word of english language and it refers to a lung disease. "
      ],
      "execution_count": null,
      "outputs": []
    },
    {
      "cell_type": "code",
      "metadata": {
        "id": "IiVLdpc7qZs9",
        "colab_type": "code",
        "colab": {
          "base_uri": "https://localhost:8080/",
          "height": 34
        },
        "outputId": "32a16891-9ce2-47f3-b5bc-55b398f03610"
      },
      "source": [
        "len(s)"
      ],
      "execution_count": null,
      "outputs": [
        {
          "output_type": "execute_result",
          "data": {
            "text/plain": [
              "45"
            ]
          },
          "metadata": {
            "tags": []
          },
          "execution_count": 22
        }
      ]
    },
    {
      "cell_type": "markdown",
      "metadata": {
        "id": "N1SzHI_0fZCf",
        "colab_type": "text"
      },
      "source": [
        "###**LISTS**\n"
      ]
    },
    {
      "cell_type": "markdown",
      "metadata": {
        "id": "F5EFXlrcMcvf",
        "colab_type": "text"
      },
      "source": [
        "To store similar values together like integers , float and strings  and to access them easily we use list in python.There are a number of data types avaliable but list is the most commonly used. Like we are having array's concept in c and c++ in the same way in python list's are there. Maximum of the functionality are same but there's a little difference we will see that "
      ]
    },
    {
      "cell_type": "markdown",
      "metadata": {
        "id": "q2Pye-x22mpJ",
        "colab_type": "text"
      },
      "source": [
        "1) Intializing a list and printing values"
      ]
    },
    {
      "cell_type": "code",
      "metadata": {
        "id": "WfJtukxcfXq3",
        "colab_type": "code",
        "colab": {
          "base_uri": "https://localhost:8080/",
          "height": 35
        },
        "outputId": "e9684b89-32be-4f48-d9e8-13405ae7c29b"
      },
      "source": [
        "a=[1,2,3,4,5,6]\n",
        "a"
      ],
      "execution_count": null,
      "outputs": [
        {
          "output_type": "execute_result",
          "data": {
            "text/plain": [
              "[1, 2, 3, 4, 5, 6]"
            ]
          },
          "metadata": {
            "tags": []
          },
          "execution_count": 1
        }
      ]
    },
    {
      "cell_type": "code",
      "metadata": {
        "id": "ykcL6xJuSwSb",
        "colab_type": "code",
        "colab": {}
      },
      "source": [
        ""
      ],
      "execution_count": null,
      "outputs": []
    },
    {
      "cell_type": "markdown",
      "metadata": {
        "id": "4Ks1rXcS2xRL",
        "colab_type": "text"
      },
      "source": [
        "2) Like strings list can also be indexed and sliced"
      ]
    },
    {
      "cell_type": "markdown",
      "metadata": {
        "id": "hITCtJku25jp",
        "colab_type": "text"
      },
      "source": [
        "A) Printing the value at a particular index"
      ]
    },
    {
      "cell_type": "code",
      "metadata": {
        "id": "-6S4muVs2tQ0",
        "colab_type": "code",
        "colab": {
          "base_uri": "https://localhost:8080/",
          "height": 35
        },
        "outputId": "1bbd3c68-40cc-4e7b-dc7c-d1865497a831"
      },
      "source": [
        "a[4] # prints the value at 4th index"
      ],
      "execution_count": null,
      "outputs": [
        {
          "output_type": "execute_result",
          "data": {
            "text/plain": [
              "5"
            ]
          },
          "metadata": {
            "tags": []
          },
          "execution_count": 3
        }
      ]
    },
    {
      "cell_type": "markdown",
      "metadata": {
        "id": "YQukziIl3CZ1",
        "colab_type": "text"
      },
      "source": [
        "B) Slicing of the list meaning printing the partiular values in a list in a given range let's see how this works"
      ]
    },
    {
      "cell_type": "markdown",
      "metadata": {
        "id": "WwHdxDKJ3zgD",
        "colab_type": "text"
      },
      "source": [
        "1) Printing all the values in the list.\n",
        "\n",
        "*   Firstly by simply passing the list name  \n",
        "*   Secondly with the help of slicing\n",
        "\n"
      ]
    },
    {
      "cell_type": "code",
      "metadata": {
        "id": "NFfiTL4G31xG",
        "colab_type": "code",
        "colab": {
          "base_uri": "https://localhost:8080/",
          "height": 35
        },
        "outputId": "d0529211-4c5e-42da-d479-730311346813"
      },
      "source": [
        "a"
      ],
      "execution_count": null,
      "outputs": [
        {
          "output_type": "execute_result",
          "data": {
            "text/plain": [
              "[1, 2, 3, 4, 5, 6]"
            ]
          },
          "metadata": {
            "tags": []
          },
          "execution_count": 5
        }
      ]
    },
    {
      "cell_type": "code",
      "metadata": {
        "id": "hm9A-Rly4Hr8",
        "colab_type": "code",
        "colab": {
          "base_uri": "https://localhost:8080/",
          "height": 35
        },
        "outputId": "7985bddd-57ae-451b-de5d-7aad4aea98f3"
      },
      "source": [
        "a[:]"
      ],
      "execution_count": null,
      "outputs": [
        {
          "output_type": "execute_result",
          "data": {
            "text/plain": [
              "[1, 2, 3, 4, 5, 6]"
            ]
          },
          "metadata": {
            "tags": []
          },
          "execution_count": 6
        }
      ]
    },
    {
      "cell_type": "markdown",
      "metadata": {
        "id": "Iqu4w3xE4P47",
        "colab_type": "text"
      },
      "source": [
        "2) Printing some particular values in list by using indexing"
      ]
    },
    {
      "cell_type": "markdown",
      "metadata": {
        "id": "zUJ0Hu4O5f8v",
        "colab_type": "text"
      },
      "source": [
        "*   Printing the value at a particular index"
      ]
    },
    {
      "cell_type": "code",
      "metadata": {
        "id": "PicEY0334PLc",
        "colab_type": "code",
        "colab": {
          "base_uri": "https://localhost:8080/",
          "height": 35
        },
        "outputId": "027c924a-ab7e-43fb-bb78-ed9f9ac78396"
      },
      "source": [
        "a[3]"
      ],
      "execution_count": null,
      "outputs": [
        {
          "output_type": "execute_result",
          "data": {
            "text/plain": [
              "4"
            ]
          },
          "metadata": {
            "tags": []
          },
          "execution_count": 7
        }
      ]
    },
    {
      "cell_type": "markdown",
      "metadata": {
        "id": "jmfPq-EO5n3O",
        "colab_type": "text"
      },
      "source": [
        "*   Printing values in a given range "
      ]
    },
    {
      "cell_type": "markdown",
      "metadata": {
        "id": "d1OTnF0c-R0u",
        "colab_type": "text"
      },
      "source": [
        "a[ intial_index_value : final_value_index + 1 ] "
      ]
    },
    {
      "cell_type": "code",
      "metadata": {
        "id": "bGeGVK6p292B",
        "colab_type": "code",
        "colab": {
          "base_uri": "https://localhost:8080/",
          "height": 35
        },
        "outputId": "90696750-f2f7-48d2-a318-0fa3efc57d16"
      },
      "source": [
        "a[1:5] "
      ],
      "execution_count": null,
      "outputs": [
        {
          "output_type": "execute_result",
          "data": {
            "text/plain": [
              "[2, 3, 4, 5]"
            ]
          },
          "metadata": {
            "tags": []
          },
          "execution_count": 4
        }
      ]
    },
    {
      "cell_type": "markdown",
      "metadata": {
        "id": "fVQo01OM51gJ",
        "colab_type": "text"
      },
      "source": [
        "NOTE:- The first value is included and last value is exluded [x,y)  { x & y is the value which you entered}"
      ]
    },
    {
      "cell_type": "markdown",
      "metadata": {
        "id": "uokQZtr758nB",
        "colab_type": "text"
      },
      "source": [
        "NOTE:- If we pass the index which is greater than the size of list it doesn't give any error it just simply print values upto last index"
      ]
    },
    {
      "cell_type": "code",
      "metadata": {
        "id": "v1G6vdi53UnC",
        "colab_type": "code",
        "colab": {
          "base_uri": "https://localhost:8080/",
          "height": 35
        },
        "outputId": "7b54541b-18a1-42e8-f8ed-b94fb7e09b3d"
      },
      "source": [
        "a[1:78]"
      ],
      "execution_count": null,
      "outputs": [
        {
          "output_type": "execute_result",
          "data": {
            "text/plain": [
              "[2, 3, 4, 5, 6]"
            ]
          },
          "metadata": {
            "tags": []
          },
          "execution_count": 12
        }
      ]
    },
    {
      "cell_type": "code",
      "metadata": {
        "id": "FVQPZ1H_57cV",
        "colab_type": "code",
        "colab": {
          "base_uri": "https://localhost:8080/",
          "height": 35
        },
        "outputId": "d4f65d42-177f-4b27-ee70-47cc1845fd35"
      },
      "source": [
        "a[89:]"
      ],
      "execution_count": null,
      "outputs": [
        {
          "output_type": "execute_result",
          "data": {
            "text/plain": [
              "[]"
            ]
          },
          "metadata": {
            "tags": []
          },
          "execution_count": 13
        }
      ]
    },
    {
      "cell_type": "markdown",
      "metadata": {
        "id": "Sj7h_jTJ7AWR",
        "colab_type": "text"
      },
      "source": [
        "**Printing the values from the last or negative slicing**"
      ]
    },
    {
      "cell_type": "markdown",
      "metadata": {
        "id": "0Ie4OSIHVPdE",
        "colab_type": "text"
      },
      "source": [
        "To print the values from the last we put -ve sign and the value begining from the right end.Remember value start's from 1 not from 0 because { -0 & +0 } have no meaning. Let's look at examples to get a clear view on this\n"
      ]
    },
    {
      "cell_type": "markdown",
      "metadata": {
        "id": "KeVgosEJ8it2",
        "colab_type": "text"
      },
      "source": [
        "Eg:- \n",
        "\n",
        "1.   a[-1]  Print's the last value i.e 6 \n",
        "2.   a[-4]  Print the 4th vaulue from the end i.e 3\n",
        "3.   a[-2:]  Here we are printing values from second last to end \n",
        "4.   a[0:-2] Prints all values except the last two \n",
        "\n"
      ]
    },
    {
      "cell_type": "code",
      "metadata": {
        "id": "flyKYBOHWmNJ",
        "colab_type": "code",
        "colab": {
          "base_uri": "https://localhost:8080/",
          "height": 35
        },
        "outputId": "5c649647-22c5-4434-f5f1-e39150f12ae0"
      },
      "source": [
        "a[-1]"
      ],
      "execution_count": null,
      "outputs": [
        {
          "output_type": "execute_result",
          "data": {
            "text/plain": [
              "6"
            ]
          },
          "metadata": {
            "tags": []
          },
          "execution_count": 5
        }
      ]
    },
    {
      "cell_type": "code",
      "metadata": {
        "id": "Xt_3ALlgWmBZ",
        "colab_type": "code",
        "colab": {
          "base_uri": "https://localhost:8080/",
          "height": 35
        },
        "outputId": "7f5e5426-9aba-4dd5-f382-d09d7ad7a651"
      },
      "source": [
        "a[-4]"
      ],
      "execution_count": null,
      "outputs": [
        {
          "output_type": "execute_result",
          "data": {
            "text/plain": [
              "3"
            ]
          },
          "metadata": {
            "tags": []
          },
          "execution_count": 6
        }
      ]
    },
    {
      "cell_type": "code",
      "metadata": {
        "id": "XAKpm41G6eSY",
        "colab_type": "code",
        "colab": {
          "base_uri": "https://localhost:8080/",
          "height": 35
        },
        "outputId": "ea4a3327-ec1c-48d5-ae1e-7b9b52edce5f"
      },
      "source": [
        "a[-2:]"
      ],
      "execution_count": null,
      "outputs": [
        {
          "output_type": "execute_result",
          "data": {
            "text/plain": [
              "[5, 6]"
            ]
          },
          "metadata": {
            "tags": []
          },
          "execution_count": 23
        }
      ]
    },
    {
      "cell_type": "code",
      "metadata": {
        "id": "JcHiyW297uLE",
        "colab_type": "code",
        "colab": {
          "base_uri": "https://localhost:8080/",
          "height": 35
        },
        "outputId": "3e4b6727-6495-4cde-cfe5-a546b76b7962"
      },
      "source": [
        "a[0:-2]"
      ],
      "execution_count": null,
      "outputs": [
        {
          "output_type": "execute_result",
          "data": {
            "text/plain": [
              "[1, 2, 3, 4]"
            ]
          },
          "metadata": {
            "tags": []
          },
          "execution_count": 24
        }
      ]
    },
    {
      "cell_type": "markdown",
      "metadata": {
        "id": "zHgo08L9-wdH",
        "colab_type": "text"
      },
      "source": [
        "C) Lists also support operations like concatenation"
      ]
    },
    {
      "cell_type": "markdown",
      "metadata": {
        "id": "CNrX_5DVW8PC",
        "colab_type": "text"
      },
      "source": [
        "Eg:-   \n",
        "a=[1,2,3,4,5]\n",
        "\n",
        "b=[6,7,8,9]\n",
        "\n",
        "c=a+b "
      ]
    },
    {
      "cell_type": "code",
      "metadata": {
        "id": "MPwwSTYp94eJ",
        "colab_type": "code",
        "colab": {
          "base_uri": "https://localhost:8080/",
          "height": 50
        },
        "outputId": "e4d56861-d260-434e-cce6-a9337e38f422"
      },
      "source": [
        "a=[1,2,3,4,5,6]\n",
        "b= a + [7,8,9]\n",
        "print(a)\n",
        "print(b)"
      ],
      "execution_count": null,
      "outputs": [
        {
          "output_type": "stream",
          "text": [
            "[1, 2, 3, 4, 5, 6]\n",
            "[1, 2, 3, 4, 5, 6, 7, 8, 9]\n"
          ],
          "name": "stdout"
        }
      ]
    },
    {
      "cell_type": "markdown",
      "metadata": {
        "id": "FutQMa1Y_ItE",
        "colab_type": "text"
      },
      "source": [
        "**NOTE:-** Remember the result of concatenation you have to store it in a another list the intial list {a,b} doesn't get updated untill u store result in it.See in the below example"
      ]
    },
    {
      "cell_type": "code",
      "metadata": {
        "id": "F3r451G9XsNQ",
        "colab_type": "code",
        "colab": {
          "base_uri": "https://localhost:8080/",
          "height": 34
        },
        "outputId": "e119a02c-3893-46ef-b9b5-9a72162948d9"
      },
      "source": [
        "a=[1,2,3,4,5,6]\n",
        "b=[7,8,9,10]\n",
        "a=a+b\n",
        "a"
      ],
      "execution_count": null,
      "outputs": [
        {
          "output_type": "execute_result",
          "data": {
            "text/plain": [
              "[1, 2, 3, 4, 5, 6, 7, 8, 9, 10]"
            ]
          },
          "metadata": {
            "tags": []
          },
          "execution_count": 15
        }
      ]
    },
    {
      "cell_type": "markdown",
      "metadata": {
        "id": "50lRtBp2_brL",
        "colab_type": "text"
      },
      "source": [
        "D) Unlike strings, which are immutable, lists are a mutable type i.e value at particular index can be changed"
      ]
    },
    {
      "cell_type": "code",
      "metadata": {
        "id": "5anssI1Q_HsV",
        "colab_type": "code",
        "colab": {
          "base_uri": "https://localhost:8080/",
          "height": 34
        },
        "outputId": "9d6fdeab-b695-44cb-b885-0f1d1ee9468b"
      },
      "source": [
        "a"
      ],
      "execution_count": null,
      "outputs": [
        {
          "output_type": "execute_result",
          "data": {
            "text/plain": [
              "[1, 2, 3, 4, 5, 6, 7, 8, 9, 10]"
            ]
          },
          "metadata": {
            "tags": []
          },
          "execution_count": 16
        }
      ]
    },
    {
      "cell_type": "code",
      "metadata": {
        "id": "2yDTQUMl_oVO",
        "colab_type": "code",
        "colab": {
          "base_uri": "https://localhost:8080/",
          "height": 34
        },
        "outputId": "8e50d373-0d50-4079-c691-27721ca05a64"
      },
      "source": [
        "a[0]=10\n",
        "a"
      ],
      "execution_count": null,
      "outputs": [
        {
          "output_type": "execute_result",
          "data": {
            "text/plain": [
              "[10, 2, 3, 4, 5, 6, 7, 8, 9, 10]"
            ]
          },
          "metadata": {
            "tags": []
          },
          "execution_count": 17
        }
      ]
    },
    {
      "cell_type": "markdown",
      "metadata": {
        "id": "LIdL-dUk_vvg",
        "colab_type": "text"
      },
      "source": [
        "E) You can also add new items at the end of the list, by using the append() method "
      ]
    },
    {
      "cell_type": "code",
      "metadata": {
        "id": "CoiSQez6_qqJ",
        "colab_type": "code",
        "colab": {
          "base_uri": "https://localhost:8080/",
          "height": 34
        },
        "outputId": "6c9d308b-9163-4dc9-d6a8-efb12c6c364a"
      },
      "source": [
        "a.append(7)\n",
        "a"
      ],
      "execution_count": null,
      "outputs": [
        {
          "output_type": "execute_result",
          "data": {
            "text/plain": [
              "[10, 2, 3, 4, 5, 6, 7, 8, 9, 10, 7]"
            ]
          },
          "metadata": {
            "tags": []
          },
          "execution_count": 18
        }
      ]
    },
    {
      "cell_type": "markdown",
      "metadata": {
        "id": "Uco3Fjkz__Vh",
        "colab_type": "text"
      },
      "source": [
        "F) Assignment to slices is also possible, and this can even change the size of the list or clear it entirely"
      ]
    },
    {
      "cell_type": "markdown",
      "metadata": {
        "id": "iCiDG5VYCW5l",
        "colab_type": "text"
      },
      "source": [
        "\n",
        "\n",
        "*   Replacing values\n"
      ]
    },
    {
      "cell_type": "code",
      "metadata": {
        "id": "Rjj7Vf7g_yvy",
        "colab_type": "code",
        "colab": {
          "base_uri": "https://localhost:8080/",
          "height": 34
        },
        "outputId": "39b53237-8676-4e7b-d001-2b9f5327f944"
      },
      "source": [
        "a"
      ],
      "execution_count": null,
      "outputs": [
        {
          "output_type": "execute_result",
          "data": {
            "text/plain": [
              "[10, 2, 3, 4, 5, 6, 7, 8, 9, 10, 7]"
            ]
          },
          "metadata": {
            "tags": []
          },
          "execution_count": 19
        }
      ]
    },
    {
      "cell_type": "code",
      "metadata": {
        "id": "EeoH-c7_CNlO",
        "colab_type": "code",
        "colab": {
          "base_uri": "https://localhost:8080/",
          "height": 34
        },
        "outputId": "755fb74b-446a-486f-e7a1-79c6c3d78cea"
      },
      "source": [
        "a[2:4]=[15,12]\n",
        "a"
      ],
      "execution_count": null,
      "outputs": [
        {
          "output_type": "execute_result",
          "data": {
            "text/plain": [
              "[10, 2, 15, 12, 5, 6, 7, 8, 9, 10, 7]"
            ]
          },
          "metadata": {
            "tags": []
          },
          "execution_count": 20
        }
      ]
    },
    {
      "cell_type": "markdown",
      "metadata": {
        "id": "vm9xWEJ3CbZo",
        "colab_type": "text"
      },
      "source": [
        "*    Removing values in a given range"
      ]
    },
    {
      "cell_type": "code",
      "metadata": {
        "id": "WrE-ylsDCSIM",
        "colab_type": "code",
        "colab": {
          "base_uri": "https://localhost:8080/",
          "height": 34
        },
        "outputId": "9946cb0d-9fdc-4bed-d43c-ff567a0f798b"
      },
      "source": [
        "a[2:4]=[]\n",
        "a"
      ],
      "execution_count": null,
      "outputs": [
        {
          "output_type": "execute_result",
          "data": {
            "text/plain": [
              "[10, 2, 5, 6, 7, 8, 9, 10, 7]"
            ]
          },
          "metadata": {
            "tags": []
          },
          "execution_count": 21
        }
      ]
    },
    {
      "cell_type": "markdown",
      "metadata": {
        "id": "HRtFUoVGC4e3",
        "colab_type": "text"
      },
      "source": [
        "*    Clear the list by replacing all the elements with an empty list"
      ]
    },
    {
      "cell_type": "code",
      "metadata": {
        "id": "LMwkOh0iCh7D",
        "colab_type": "code",
        "colab": {
          "base_uri": "https://localhost:8080/",
          "height": 34
        },
        "outputId": "83a920f9-ea93-4527-a847-6a2029484033"
      },
      "source": [
        "a[:] = []\n",
        "a"
      ],
      "execution_count": null,
      "outputs": [
        {
          "output_type": "execute_result",
          "data": {
            "text/plain": [
              "[]"
            ]
          },
          "metadata": {
            "tags": []
          },
          "execution_count": 23
        }
      ]
    },
    {
      "cell_type": "markdown",
      "metadata": {
        "id": "cLoGT1BPDBF6",
        "colab_type": "text"
      },
      "source": [
        "G) The built-in function len() also applies to lists where as in c & c++ you have to compute it by dividing the size of array to the size of single element"
      ]
    },
    {
      "cell_type": "code",
      "metadata": {
        "id": "_jMNUo4nC7nZ",
        "colab_type": "code",
        "colab": {
          "base_uri": "https://localhost:8080/",
          "height": 35
        },
        "outputId": "6d805b18-4949-4cf4-ae9b-36c43eded2b3"
      },
      "source": [
        "b"
      ],
      "execution_count": null,
      "outputs": [
        {
          "output_type": "execute_result",
          "data": {
            "text/plain": [
              "[1, 2, 3, 4, 5, 6, 7, 8, 9]"
            ]
          },
          "metadata": {
            "tags": []
          },
          "execution_count": 49
        }
      ]
    },
    {
      "cell_type": "code",
      "metadata": {
        "id": "bjwSTc2_DFJU",
        "colab_type": "code",
        "colab": {
          "base_uri": "https://localhost:8080/",
          "height": 35
        },
        "outputId": "8685234b-490b-4db2-8ecf-877d5fd5b566"
      },
      "source": [
        "len(b)"
      ],
      "execution_count": null,
      "outputs": [
        {
          "output_type": "execute_result",
          "data": {
            "text/plain": [
              "9"
            ]
          },
          "metadata": {
            "tags": []
          },
          "execution_count": 50
        }
      ]
    },
    {
      "cell_type": "markdown",
      "metadata": {
        "id": "J5ktExaZEKbD",
        "colab_type": "text"
      },
      "source": [
        "H) It is possible to nest lists (create lists containing other lists) like 2-D & 3-D array "
      ]
    },
    {
      "cell_type": "code",
      "metadata": {
        "id": "uFgg-02QDHSD",
        "colab_type": "code",
        "colab": {
          "base_uri": "https://localhost:8080/",
          "height": 35
        },
        "outputId": "b9528e47-ca3b-435a-d2e9-be49babe34be"
      },
      "source": [
        "c=['a','b','c']\n",
        "d=[1,2,3]\n",
        "e=[c,d]\n",
        "e"
      ],
      "execution_count": null,
      "outputs": [
        {
          "output_type": "execute_result",
          "data": {
            "text/plain": [
              "[['a', 'b', 'c'], [1, 2, 3]]"
            ]
          },
          "metadata": {
            "tags": []
          },
          "execution_count": 51
        }
      ]
    },
    {
      "cell_type": "code",
      "metadata": {
        "id": "rmbRkiH-ETWq",
        "colab_type": "code",
        "colab": {
          "base_uri": "https://localhost:8080/",
          "height": 35
        },
        "outputId": "04a14487-40e3-4fbe-d65a-f219fa3ef7f1"
      },
      "source": [
        "e[0]"
      ],
      "execution_count": null,
      "outputs": [
        {
          "output_type": "execute_result",
          "data": {
            "text/plain": [
              "['a', 'b', 'c']"
            ]
          },
          "metadata": {
            "tags": []
          },
          "execution_count": 52
        }
      ]
    },
    {
      "cell_type": "code",
      "metadata": {
        "id": "p6TlkjLgEVgr",
        "colab_type": "code",
        "colab": {
          "base_uri": "https://localhost:8080/",
          "height": 36
        },
        "outputId": "ac99bdad-7eba-4d4c-f194-0673fb05cf3b"
      },
      "source": [
        "e[0][0]"
      ],
      "execution_count": null,
      "outputs": [
        {
          "output_type": "execute_result",
          "data": {
            "application/vnd.google.colaboratory.intrinsic+json": {
              "type": "string"
            },
            "text/plain": [
              "'a'"
            ]
          },
          "metadata": {
            "tags": []
          },
          "execution_count": 53
        }
      ]
    },
    {
      "cell_type": "markdown",
      "metadata": {
        "id": "9jpz3WFxm99z",
        "colab_type": "text"
      },
      "source": [
        "### **H.W.**"
      ]
    },
    {
      "cell_type": "markdown",
      "metadata": {
        "id": "hOWQNYmWnCNE",
        "colab_type": "text"
      },
      "source": [
        ">For a given list `[2, 45, 12, 39, 28, 22, 29, 57]`. Create a new list with last 3 and the first 3 elements of this list.... \n",
        "new list should be `[22, 29, 57, 2, 45, 12]`...\n",
        "Do it using concepts taught in the class.\n",
        "\n",
        ">How will you add an element in a list at a particular position.\n",
        "ex:- add `31` at 5th index in the list `[2, 45, 12, 39, 22, 29, 57]`  to create new list `[2, 45, 12, 39, 22, 31, 29, 57]`"
      ]
    }
  ]
}