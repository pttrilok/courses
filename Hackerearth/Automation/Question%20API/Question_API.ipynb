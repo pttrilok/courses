{
  "nbformat": 4,
  "nbformat_minor": 0,
  "metadata": {
    "colab": {
      "name": "Hackerearth Question API.ipynb",
      "provenance": [],
      "collapsed_sections": [],
      "include_colab_link": true
    },
    "kernelspec": {
      "name": "python3",
      "display_name": "Python 3"
    },
    "language_info": {
      "name": "python"
    }
  },
  "cells": [
    {
      "cell_type": "markdown",
      "metadata": {
        "id": "view-in-github",
        "colab_type": "text"
      },
      "source": [
        "<a href=\"https://colab.research.google.com/github/pttrilok/courses/blob/master/Hackerearth/Automation/Question%2520API/Question_API.ipynb\" target=\"_parent\"><img src=\"https://colab.research.google.com/assets/colab-badge.svg\" alt=\"Open In Colab\"/></a>"
      ]
    },
    {
      "cell_type": "markdown",
      "metadata": {
        "id": "ZfrZmRff0zLi"
      },
      "source": [
        "#Installing Libraries and Defining functions"
      ]
    },
    {
      "cell_type": "code",
      "metadata": {
        "colab": {
          "base_uri": "https://localhost:8080/"
        },
        "id": "T-kuBuzWuHcN",
        "outputId": "57d2f9a9-5c24-497d-cb25-01043bb01248"
      },
      "source": [
        "!pip install requests\n",
        "!pip install beautifulsoup4\n",
        "import requests\n",
        "from bs4 import BeautifulSoup\n",
        "import gspread\n",
        "from oauth2client.client import GoogleCredentials\n"
      ],
      "execution_count": 2,
      "outputs": [
        {
          "output_type": "stream",
          "name": "stdout",
          "text": [
            "Requirement already satisfied: requests in /usr/local/lib/python3.7/dist-packages (2.23.0)\n",
            "Requirement already satisfied: urllib3!=1.25.0,!=1.25.1,<1.26,>=1.21.1 in /usr/local/lib/python3.7/dist-packages (from requests) (1.24.3)\n",
            "Requirement already satisfied: idna<3,>=2.5 in /usr/local/lib/python3.7/dist-packages (from requests) (2.10)\n",
            "Requirement already satisfied: certifi>=2017.4.17 in /usr/local/lib/python3.7/dist-packages (from requests) (2021.10.8)\n",
            "Requirement already satisfied: chardet<4,>=3.0.2 in /usr/local/lib/python3.7/dist-packages (from requests) (3.0.4)\n",
            "Requirement already satisfied: beautifulsoup4 in /usr/local/lib/python3.7/dist-packages (4.6.3)\n"
          ]
        }
      ]
    },
    {
      "cell_type": "code",
      "metadata": {
        "id": "NkJVDZqx380w"
      },
      "source": [
        "questions_searching=[]\n",
        "#adding the questions in the list\n",
        "def add_ques(table):\n",
        "  for row in table.find_all('li'):\n",
        "    que={}\n",
        "    que['Name']=row.a.text;\n",
        "    que['link']='https://www.hackerearth.com'+row.a['href'];\n",
        "    questions_searching.append(que)\n",
        "\n",
        "\n",
        "\n",
        "def get_page(URL):\n",
        "  page = requests.get(URL)\n",
        "  soup = BeautifulSoup(page.content, \"html.parser\")\n",
        "  table = soup.find('div', attrs = {'id':'prob-list-container'})\n",
        "  add_ques(table)\n",
        "\n",
        "\n",
        "def searching_type(s_type,url):\n",
        "  links=[]\n",
        "  URL=url+str(\"1/\")\n",
        "  links.append(URL)\n",
        "  page = requests.get(URL)\n",
        "  soup = BeautifulSoup(page.content, \"html.parser\")\n",
        "  next=soup.find('span', attrs = {'class':'step-links'})\n",
        "\n",
        "  for i in range(2,1000):\n",
        "    url2=url+str(i)+\"/\"\n",
        "    #print(url2)\n",
        "    page2=requests.get(url2)\n",
        "    soup2 = BeautifulSoup(page2.content, \"html.parser\")\n",
        "    if soup.body==soup2.body :\n",
        "      return links;\n",
        "    else:\n",
        "      links.append(url2)\n",
        "      i+=1\n",
        "def searching(val,url):\n",
        "  list_p=[]\n",
        "  list_p=searching_type(val,url)\n",
        "  for link in list_p:\n",
        "    get_page(link)\n",
        "  from google.colab import auth\n",
        "  auth.authenticate_user()\n",
        "\n",
        "  gc = gspread.authorize(GoogleCredentials.get_application_default())\n",
        "\n",
        "  sh = gc.create(f'Questions_On_{val}')\n",
        "\n",
        "  # Open our new sheet and add some data.\n",
        "  worksheet = gc.open(f'Questions_On_{val}').sheet1\n",
        "\n",
        "  cell_list = worksheet.range(f'A1:B{len(questions_searching)}')\n",
        "  i=0;\n",
        "  m=0;\n",
        "  for cell in cell_list:\n",
        "    if m==0 :\n",
        "      cell.value = questions_searching[i]['Name']\n",
        "      m=1\n",
        "    else:\n",
        "      cell.value = questions_searching[i]['link']\n",
        "      m=0\n",
        "      i+=1\n",
        "\n",
        "  worksheet.update_cells(cell_list)\n",
        "  print(f'{len(questions_searching)}'+\"updated , Please follow the link:https://sheets.google.com \")"
      ],
      "execution_count": 8,
      "outputs": []
    },
    {
      "cell_type": "code",
      "metadata": {
        "id": "O4fFFCMYuMll",
        "colab": {
          "base_uri": "https://localhost:8080/"
        },
        "outputId": "ed613532-0ea6-44bb-d774-f778a55302d8"
      },
      "source": [
        "questions_searching=[]\n",
        "searching(\"graph representation\",\"https://www.hackerearth.com/practice/algorithms/graphs/graph-representation/practice-problems/\")"
      ],
      "execution_count": 10,
      "outputs": [
        {
          "output_type": "stream",
          "name": "stdout",
          "text": [
            "26updated , Please follow the link:https://sheets.google.com \n"
          ]
        }
      ]
    },
    {
      "cell_type": "code",
      "source": [
        ""
      ],
      "metadata": {
        "id": "7zu__E4AXscM"
      },
      "execution_count": null,
      "outputs": []
    }
  ]
}