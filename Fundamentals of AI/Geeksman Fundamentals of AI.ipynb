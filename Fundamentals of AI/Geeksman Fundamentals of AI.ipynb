{
  "nbformat": 4,
  "nbformat_minor": 0,
  "metadata": {
    "colab": {
      "name": "Geeksman Fundamentals of AI .ipynb",
      "provenance": [],
      "collapsed_sections": [
        "wk05nd-TQpRG",
        "yt3W3k1KRMwl",
        "xyCNtHVSSJfr",
        "8DJPNrnVTioT",
        "nnxD8YrIUWGq",
        "T7uptraIWSQ1",
        "PvcmKAdDXACc"
      ]
    },
    "kernelspec": {
      "name": "python3",
      "display_name": "Python 3"
    }
  },
  "cells": [
    {
      "cell_type": "markdown",
      "metadata": {
        "id": "wk05nd-TQpRG",
        "colab_type": "text"
      },
      "source": [
        "# Lesson 1"
      ]
    },
    {
      "cell_type": "markdown",
      "metadata": {
        "id": "3NPVQhS3QvxA",
        "colab_type": "text"
      },
      "source": [
        "***Introduction to python***\n",
        "\n",
        "***Intro to python indentation concept***\n",
        "\n",
        "***using some shortcut keys like TAB, Shift+TAB, ctrl+shift+L***\n",
        "\n",
        "***Python as a calculator***\n",
        "\n",
        "***Numbers***\n",
        "\n",
        "***Strings***\n",
        "\n",
        "***Lists***"
      ]
    },
    {
      "cell_type": "markdown",
      "metadata": {
        "id": "yt3W3k1KRMwl",
        "colab_type": "text"
      },
      "source": [
        "# Lesson 2"
      ]
    },
    {
      "cell_type": "markdown",
      "metadata": {
        "id": "zsqezh3jReQ3",
        "colab_type": "text"
      },
      "source": [
        "***if statement***\n",
        "\n",
        "***for statement***\n",
        "\n",
        "***Various pattern printing using nested for loops***\n",
        "\n",
        "***break and continue statements***\n",
        "\n",
        "***pass statemets***"
      ]
    },
    {
      "cell_type": "markdown",
      "metadata": {
        "id": "xyCNtHVSSJfr",
        "colab_type": "text"
      },
      "source": [
        "# Lesson 3\n"
      ]
    },
    {
      "cell_type": "markdown",
      "metadata": {
        "id": "g-FehrNjUmwr",
        "colab_type": "text"
      },
      "source": [
        "***Defining Functions***\n",
        "\n",
        "***Visualizing function as a machine that can perform specific operations on the given arguments***\n",
        "\n",
        "***Function Examples***"
      ]
    },
    {
      "cell_type": "markdown",
      "metadata": {
        "id": "8DJPNrnVTioT",
        "colab_type": "text"
      },
      "source": [
        "# Lesson 4"
      ]
    },
    {
      "cell_type": "markdown",
      "metadata": {
        "id": "38vHW40LTnfD",
        "colab_type": "text"
      },
      "source": [
        "***del statement***\n",
        "\n",
        "***Sets***\n",
        "\n",
        "***dictionary***\n",
        "\n",
        "***Looping techinques(Like iterate through the object of a list/ dictionary/ any class objects)***\n",
        "\n",
        "***bold text***"
      ]
    },
    {
      "cell_type": "markdown",
      "metadata": {
        "id": "nnxD8YrIUWGq",
        "colab_type": "text"
      },
      "source": [
        "# Lesson 5"
      ]
    },
    {
      "cell_type": "markdown",
      "metadata": {
        "id": "EH1KdwTaUqn3",
        "colab_type": "text"
      },
      "source": [
        "***Introduction to some basic libraries***\n",
        "\n",
        "***os***\n",
        "\n",
        "***shutil***\n",
        "\n",
        "***Examples of copying and moving data among diiferent directories***\n",
        "\n",
        "***time***\n",
        "\n",
        "***Intro to some linux commands that can be used in Colab***\n",
        "\n",
        "***%cd***\n",
        "\n",
        "***!zip(Also how to zip folders)***\n",
        "\n",
        "***!unzip(Also how to unzip all zip folders present in the directory)***\n",
        "\n",
        "***!rm -r(This can delete folder normal !rm is used for removing a file)***\n"
      ]
    },
    {
      "cell_type": "markdown",
      "metadata": {
        "id": "T7uptraIWSQ1",
        "colab_type": "text"
      },
      "source": [
        "# Lesson 6\n"
      ]
    },
    {
      "cell_type": "markdown",
      "metadata": {
        "id": "8ZFf3IG9WfZA",
        "colab_type": "text"
      },
      "source": [
        "***Intoduction to some common libraries***\n",
        "\n",
        "***gtts***\n",
        "\n",
        "***google-translate***\n",
        "\n",
        "***text-blob***"
      ]
    },
    {
      "cell_type": "markdown",
      "metadata": {
        "id": "PvcmKAdDXACc",
        "colab_type": "text"
      },
      "source": [
        "# Lesson 7"
      ]
    },
    {
      "cell_type": "markdown",
      "metadata": {
        "id": "dLvIe6p9W0gI",
        "colab_type": "text"
      },
      "source": [
        "***Numpy***\n",
        "\n",
        "***Pandas***"
      ]
    }
  ]
}