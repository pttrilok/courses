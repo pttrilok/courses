{
  "nbformat": 4,
  "nbformat_minor": 0,
  "metadata": {
    "colab": {
      "name": "Lesson 6 (AI Foundation).ipynb",
      "provenance": [],
      "include_colab_link": true
    },
    "kernelspec": {
      "name": "python3",
      "display_name": "Python 3"
    }
  },
  "cells": [
    {
      "cell_type": "markdown",
      "metadata": {
        "id": "view-in-github",
        "colab_type": "text"
      },
      "source": [
        "<a href=\"https://colab.research.google.com/github/pttrilok/courses/blob/master/AI%20Foundation/Lesson%206%20(AI%20Foundation).ipynb\" target=\"_parent\"><img src=\"https://colab.research.google.com/assets/colab-badge.svg\" alt=\"Open In Colab\"/></a>"
      ]
    },
    {
      "cell_type": "markdown",
      "metadata": {
        "id": "9jbK0S6-DFl0",
        "colab_type": "text"
      },
      "source": [
        "# **OS Library**"
      ]
    },
    {
      "cell_type": "markdown",
      "metadata": {
        "id": "4HMek-86HLOd",
        "colab_type": "text"
      },
      "source": [
        "*   **Importing os library**"
      ]
    },
    {
      "cell_type": "code",
      "metadata": {
        "id": "7QLuhOApBjsP",
        "colab_type": "code",
        "colab": {}
      },
      "source": [
        "import os"
      ],
      "execution_count": null,
      "outputs": []
    },
    {
      "cell_type": "markdown",
      "metadata": {
        "id": "hdLJ0DoDH6uN",
        "colab_type": "text"
      },
      "source": [
        "*   `getcwd()` :   Returns the Current Working Directory of the file used."
      ]
    },
    {
      "cell_type": "code",
      "metadata": {
        "id": "0x1LV0M0Hi9d",
        "colab_type": "code",
        "colab": {
          "base_uri": "https://localhost:8080/",
          "height": 35
        },
        "outputId": "248977d9-b9ae-4c05-b871-8b94276e41a6"
      },
      "source": [
        "os.getcwd()"
      ],
      "execution_count": null,
      "outputs": [
        {
          "output_type": "execute_result",
          "data": {
            "application/vnd.google.colaboratory.intrinsic+json": {
              "type": "string"
            },
            "text/plain": [
              "'/content'"
            ]
          },
          "metadata": {
            "tags": []
          },
          "execution_count": 2
        }
      ]
    },
    {
      "cell_type": "markdown",
      "metadata": {
        "id": "ED2CXOfwI6mm",
        "colab_type": "text"
      },
      "source": [
        "*   `mkdir()`   :   Creates a new directory."
      ]
    },
    {
      "cell_type": "code",
      "metadata": {
        "id": "9FC_z0kbIRYw",
        "colab_type": "code",
        "colab": {}
      },
      "source": [
        "os.mkdir(\"/content/My_new_dir\")"
      ],
      "execution_count": null,
      "outputs": []
    },
    {
      "cell_type": "markdown",
      "metadata": {
        "id": "UQsGY-PYlf4Y",
        "colab_type": "text"
      },
      "source": [
        "*   `makedirs()`    :   Creates directories recursively."
      ]
    },
    {
      "cell_type": "code",
      "metadata": {
        "id": "o9FBvCEKlpM4",
        "colab_type": "code",
        "colab": {}
      },
      "source": [
        "os.makedirs(\"/content/My_new_dir2/inner_dir1\")"
      ],
      "execution_count": null,
      "outputs": []
    },
    {
      "cell_type": "markdown",
      "metadata": {
        "id": "RXgvKADQOjr4",
        "colab_type": "text"
      },
      "source": [
        "*    `chdir()`      :   Change the Current Working directory."
      ]
    },
    {
      "cell_type": "code",
      "metadata": {
        "id": "LBvbq5KqMcBj",
        "colab_type": "code",
        "colab": {}
      },
      "source": [
        "os.chdir(\"/content/My_new_dir\")"
      ],
      "execution_count": null,
      "outputs": []
    },
    {
      "cell_type": "code",
      "metadata": {
        "id": "-vPBAyGjO-7S",
        "colab_type": "code",
        "colab": {
          "base_uri": "https://localhost:8080/",
          "height": 35
        },
        "outputId": "f6e6bf90-83d0-4f0e-b2e4-8e761c079923"
      },
      "source": [
        "# lets check now which is the current directory\n",
        "\n",
        "os.getcwd()"
      ],
      "execution_count": null,
      "outputs": [
        {
          "output_type": "execute_result",
          "data": {
            "application/vnd.google.colaboratory.intrinsic+json": {
              "type": "string"
            },
            "text/plain": [
              "'/content/My_new_dir'"
            ]
          },
          "metadata": {
            "tags": []
          },
          "execution_count": 6
        }
      ]
    },
    {
      "cell_type": "markdown",
      "metadata": {
        "id": "PQbmslHEP1RW",
        "colab_type": "text"
      },
      "source": [
        "We can directly make a new directory in the current working directory without mentioning the preeceding path."
      ]
    },
    {
      "cell_type": "code",
      "metadata": {
        "id": "1fn52OJyPUxw",
        "colab_type": "code",
        "colab": {}
      },
      "source": [
        "os.mkdir(\"Hello\")"
      ],
      "execution_count": null,
      "outputs": []
    },
    {
      "cell_type": "code",
      "metadata": {
        "id": "J7s6sER0Pmpn",
        "colab_type": "code",
        "colab": {
          "base_uri": "https://localhost:8080/",
          "height": 35
        },
        "outputId": "dd87e9bd-efa1-4c29-cb2f-5d838ae609ae"
      },
      "source": [
        "os.getcwd()"
      ],
      "execution_count": null,
      "outputs": [
        {
          "output_type": "execute_result",
          "data": {
            "application/vnd.google.colaboratory.intrinsic+json": {
              "type": "string"
            },
            "text/plain": [
              "'/content/My_new_dir'"
            ]
          },
          "metadata": {
            "tags": []
          },
          "execution_count": 8
        }
      ]
    },
    {
      "cell_type": "code",
      "metadata": {
        "id": "490noylXQT8G",
        "colab_type": "code",
        "colab": {}
      },
      "source": [
        "os.chdir(\"/content/My_new_dir/Hello\")"
      ],
      "execution_count": null,
      "outputs": []
    },
    {
      "cell_type": "code",
      "metadata": {
        "id": "SPOuGyXhQemG",
        "colab_type": "code",
        "colab": {
          "base_uri": "https://localhost:8080/",
          "height": 35
        },
        "outputId": "1b440971-01a9-4445-d108-91dce5a57f2b"
      },
      "source": [
        "os.getcwd()"
      ],
      "execution_count": null,
      "outputs": [
        {
          "output_type": "execute_result",
          "data": {
            "application/vnd.google.colaboratory.intrinsic+json": {
              "type": "string"
            },
            "text/plain": [
              "'/content/My_new_dir/Hello'"
            ]
          },
          "metadata": {
            "tags": []
          },
          "execution_count": 10
        }
      ]
    },
    {
      "cell_type": "markdown",
      "metadata": {
        "id": "eHwKNMV6Qq5W",
        "colab_type": "text"
      },
      "source": [
        "*   `rmdir()`   :   Removes the specified directory(empty) ."
      ]
    },
    {
      "cell_type": "code",
      "metadata": {
        "id": "MqFu7swNQhZt",
        "colab_type": "code",
        "colab": {}
      },
      "source": [
        "os.rmdir(\"/content/My_new_dir/Hello\")"
      ],
      "execution_count": null,
      "outputs": []
    },
    {
      "cell_type": "code",
      "metadata": {
        "id": "KEfEK_o9TJSz",
        "colab_type": "code",
        "colab": {}
      },
      "source": [
        "os.chdir(\"/content/My_new_dir\")"
      ],
      "execution_count": null,
      "outputs": []
    },
    {
      "cell_type": "code",
      "metadata": {
        "id": "dJUqmPVVTBBs",
        "colab_type": "code",
        "colab": {}
      },
      "source": [
        "os.mkdir(\"dir1\")"
      ],
      "execution_count": null,
      "outputs": []
    },
    {
      "cell_type": "code",
      "metadata": {
        "id": "5z2xSUMGRG9w",
        "colab_type": "code",
        "colab": {}
      },
      "source": [
        "os.mkdir(\"dir2\")"
      ],
      "execution_count": null,
      "outputs": []
    },
    {
      "cell_type": "markdown",
      "metadata": {
        "id": "06b6pR2mc41H",
        "colab_type": "text"
      },
      "source": [
        "*   `removedirs()`    :    Removes empty directories recursively."
      ]
    },
    {
      "cell_type": "code",
      "metadata": {
        "id": "SWQKF6ugTaRS",
        "colab_type": "code",
        "colab": {}
      },
      "source": [
        "os.removedirs(\"/content/My_new_dir/dir1\")     # only \"dir1\" removed because the outer directory is still not empty"
      ],
      "execution_count": null,
      "outputs": []
    },
    {
      "cell_type": "code",
      "metadata": {
        "id": "78ZjakgUTjzd",
        "colab_type": "code",
        "colab": {}
      },
      "source": [
        "os.removedirs(\"/content/My_new_dir/dir2\")     # first \"dir2\" removed and then \"My_new_dir\" removed"
      ],
      "execution_count": null,
      "outputs": []
    },
    {
      "cell_type": "markdown",
      "metadata": {
        "id": "UtteQ0NVdMHe",
        "colab_type": "text"
      },
      "source": [
        "*   `rename()`    :    Renames the directory"
      ]
    },
    {
      "cell_type": "code",
      "metadata": {
        "id": "EChhnNBWfapy",
        "colab_type": "code",
        "colab": {}
      },
      "source": [
        "os.mkdir(\"/content/My_Dir\")"
      ],
      "execution_count": null,
      "outputs": []
    },
    {
      "cell_type": "code",
      "metadata": {
        "id": "4YQM4xuXfmNc",
        "colab_type": "code",
        "colab": {}
      },
      "source": [
        "os.chdir(\"/content\")"
      ],
      "execution_count": null,
      "outputs": []
    },
    {
      "cell_type": "code",
      "metadata": {
        "id": "JkCPor-afhGQ",
        "colab_type": "code",
        "colab": {}
      },
      "source": [
        "os.rename(\"My_Dir\", \"Dir1\")"
      ],
      "execution_count": null,
      "outputs": []
    },
    {
      "cell_type": "code",
      "metadata": {
        "id": "G05WW0rbf3gf",
        "colab_type": "code",
        "colab": {
          "base_uri": "https://localhost:8080/",
          "height": 162
        },
        "outputId": "f225f365-3e8e-4b2d-edb1-4a9a2e524fd9"
      },
      "source": [
        "os.rename(\"My_Dir\", \"Dir1\")"
      ],
      "execution_count": null,
      "outputs": [
        {
          "output_type": "error",
          "ename": "FileNotFoundError",
          "evalue": "ignored",
          "traceback": [
            "\u001b[0;31m---------------------------------------------------------------------------\u001b[0m",
            "\u001b[0;31mFileNotFoundError\u001b[0m                         Traceback (most recent call last)",
            "\u001b[0;32m<ipython-input-20-eb17e885fb3f>\u001b[0m in \u001b[0;36m<module>\u001b[0;34m()\u001b[0m\n\u001b[0;32m----> 1\u001b[0;31m \u001b[0mos\u001b[0m\u001b[0;34m.\u001b[0m\u001b[0mrename\u001b[0m\u001b[0;34m(\u001b[0m\u001b[0;34m\"My_Dir\"\u001b[0m\u001b[0;34m,\u001b[0m \u001b[0;34m\"Dir1\"\u001b[0m\u001b[0;34m)\u001b[0m\u001b[0;34m\u001b[0m\u001b[0;34m\u001b[0m\u001b[0m\n\u001b[0m",
            "\u001b[0;31mFileNotFoundError\u001b[0m: [Errno 2] No such file or directory: 'My_Dir' -> 'Dir1'"
          ]
        }
      ]
    },
    {
      "cell_type": "markdown",
      "metadata": {
        "id": "2t1kIlabjNWy",
        "colab_type": "text"
      },
      "source": [
        "*  `renames()`    :    renames directories or files recursively."
      ]
    },
    {
      "cell_type": "code",
      "metadata": {
        "id": "QRw4R5Nlf_Zn",
        "colab_type": "code",
        "colab": {}
      },
      "source": [
        "os.mkdir(\"/content/Dir1/Hello\")"
      ],
      "execution_count": null,
      "outputs": []
    },
    {
      "cell_type": "code",
      "metadata": {
        "id": "SfsM0Ix8i9iN",
        "colab_type": "code",
        "colab": {}
      },
      "source": [
        "os.renames(\"/content/Dir1/Hello\",  \"/content/Dir2/Hello2\")"
      ],
      "execution_count": null,
      "outputs": []
    },
    {
      "cell_type": "markdown",
      "metadata": {
        "id": "QX9T_3C0mGHF",
        "colab_type": "text"
      },
      "source": [
        "*   `listdir()`     :  Returns the list of directories and files in a specified directory."
      ]
    },
    {
      "cell_type": "code",
      "metadata": {
        "id": "0wANmrAFmijF",
        "colab_type": "code",
        "colab": {}
      },
      "source": [
        "os.chdir(\"/content/Dir2\")"
      ],
      "execution_count": null,
      "outputs": []
    },
    {
      "cell_type": "code",
      "metadata": {
        "id": "7JmKBhlNk2Gi",
        "colab_type": "code",
        "colab": {}
      },
      "source": [
        "for i in range(5):\n",
        "  os.makedirs('Hello{}'.format(i), exist_ok = True)"
      ],
      "execution_count": null,
      "outputs": []
    },
    {
      "cell_type": "code",
      "metadata": {
        "id": "45s6oA1pn6sf",
        "colab_type": "code",
        "colab": {
          "base_uri": "https://localhost:8080/",
          "height": 34
        },
        "outputId": "35668e5d-132f-4c36-c98c-83595c400500"
      },
      "source": [
        "os.listdir(\".\")"
      ],
      "execution_count": null,
      "outputs": [
        {
          "output_type": "execute_result",
          "data": {
            "text/plain": [
              "['Hello1', 'Hello3', 'Hello4', 'Hello2', 'Hello0']"
            ]
          },
          "metadata": {
            "tags": []
          },
          "execution_count": 25
        }
      ]
    },
    {
      "cell_type": "markdown",
      "metadata": {
        "id": "QDIKoPkXuz2N",
        "colab_type": "text"
      },
      "source": [
        "# **SHUTIL Library**"
      ]
    },
    {
      "cell_type": "markdown",
      "metadata": {
        "id": "nCsnfah9OSq_",
        "colab_type": "text"
      },
      "source": [
        "*   Importing shutil library"
      ]
    },
    {
      "cell_type": "code",
      "metadata": {
        "id": "xGuz7bz8o-cU",
        "colab_type": "code",
        "colab": {}
      },
      "source": [
        "import shutil"
      ],
      "execution_count": null,
      "outputs": []
    },
    {
      "cell_type": "markdown",
      "metadata": {
        "id": "G93Uy4JQOgZc",
        "colab_type": "text"
      },
      "source": [
        "*    `copy()`   :   copies a file to a specified file in same or other directory."
      ]
    },
    {
      "cell_type": "code",
      "metadata": {
        "id": "bVgkrhb5OcDJ",
        "colab_type": "code",
        "colab": {
          "base_uri": "https://localhost:8080/",
          "height": 202
        },
        "outputId": "1ca7c52d-0d81-49ee-ae66-b99f116015c4"
      },
      "source": [
        "!wget -O \"/content/Image.jpg\" \"https://hackernoon.com/images/w6n3meqS5kSiaK2pnn0qw1keSSd2-ua3fq3x40.jpg\""
      ],
      "execution_count": null,
      "outputs": [
        {
          "output_type": "stream",
          "text": [
            "--2020-09-07 16:57:17--  https://hackernoon.com/images/w6n3meqS5kSiaK2pnn0qw1keSSd2-ua3fq3x40.jpg\n",
            "Resolving hackernoon.com (hackernoon.com)... 35.224.188.159, 104.197.241.218, 35.193.55.160\n",
            "Connecting to hackernoon.com (hackernoon.com)|35.224.188.159|:443... connected.\n",
            "HTTP request sent, awaiting response... 200 OK\n",
            "Length: 670086 (654K) [image/jpeg]\n",
            "Saving to: ‘/content/Image.jpg’\n",
            "\n",
            "/content/Image.jpg  100%[===================>] 654.38K  3.94MB/s    in 0.2s    \n",
            "\n",
            "2020-09-07 16:57:17 (3.94 MB/s) - ‘/content/Image.jpg’ saved [670086/670086]\n",
            "\n"
          ],
          "name": "stdout"
        }
      ]
    },
    {
      "cell_type": "code",
      "metadata": {
        "id": "cUnBOZWIR_iQ",
        "colab_type": "code",
        "colab": {
          "base_uri": "https://localhost:8080/",
          "height": 35
        },
        "outputId": "f0268f3c-4496-4dbc-85ca-d0be3ca5e331"
      },
      "source": [
        "shutil.copy(\"/content/Image.jpg\", \"/content/My_new_dir2/inner_dir1/sample_img.jpg\")"
      ],
      "execution_count": null,
      "outputs": [
        {
          "output_type": "execute_result",
          "data": {
            "application/vnd.google.colaboratory.intrinsic+json": {
              "type": "string"
            },
            "text/plain": [
              "'/content/My_new_dir2/inner_dir1/sample_img.jpg'"
            ]
          },
          "metadata": {
            "tags": []
          },
          "execution_count": 28
        }
      ]
    },
    {
      "cell_type": "markdown",
      "metadata": {
        "id": "gcInHPHkbOte",
        "colab_type": "text"
      },
      "source": [
        "*     `move()`    :   Moves files or directories from one directory to another."
      ]
    },
    {
      "cell_type": "code",
      "metadata": {
        "id": "Q51DLfksTx-d",
        "colab_type": "code",
        "colab": {
          "base_uri": "https://localhost:8080/",
          "height": 35
        },
        "outputId": "3d402767-0b5c-4976-f2b0-7b80944d5980"
      },
      "source": [
        "shutil.move(\"/content/Dir2/Hello4\", \"/content/My_new_dir2/inner_dir1/\")"
      ],
      "execution_count": null,
      "outputs": [
        {
          "output_type": "execute_result",
          "data": {
            "application/vnd.google.colaboratory.intrinsic+json": {
              "type": "string"
            },
            "text/plain": [
              "'/content/My_new_dir2/inner_dir1/Hello4'"
            ]
          },
          "metadata": {
            "tags": []
          },
          "execution_count": 29
        }
      ]
    },
    {
      "cell_type": "markdown",
      "metadata": {
        "id": "s6IOjo-AbaVD",
        "colab_type": "text"
      },
      "source": [
        "*    `copytree()`    :    Copies file and subdirectories in one directory to another directory. "
      ]
    },
    {
      "cell_type": "code",
      "metadata": {
        "id": "K3uGjpRAagWp",
        "colab_type": "code",
        "colab": {
          "base_uri": "https://localhost:8080/",
          "height": 35
        },
        "outputId": "f624b471-bd3c-448f-bf17-47033dbc532a"
      },
      "source": [
        "shutil.copytree(\"/content/My_new_dir2/inner_dir1\", \"/content/Dir2/inner_dir1\")"
      ],
      "execution_count": null,
      "outputs": [
        {
          "output_type": "execute_result",
          "data": {
            "application/vnd.google.colaboratory.intrinsic+json": {
              "type": "string"
            },
            "text/plain": [
              "'/content/Dir2/inner_dir1'"
            ]
          },
          "metadata": {
            "tags": []
          },
          "execution_count": 30
        }
      ]
    },
    {
      "cell_type": "markdown",
      "metadata": {
        "id": "jbnja_SvcOm9",
        "colab_type": "text"
      },
      "source": [
        "*    `rmtree()`     :   Removes files and subdirectories in a specified directory."
      ]
    },
    {
      "cell_type": "code",
      "metadata": {
        "id": "aKxZ-4y6bsmZ",
        "colab_type": "code",
        "colab": {}
      },
      "source": [
        "shutil.rmtree(\"/content/Dir2/inner_dir1\")"
      ],
      "execution_count": null,
      "outputs": []
    },
    {
      "cell_type": "markdown",
      "metadata": {
        "id": "Kz4q70sSdH0I",
        "colab_type": "text"
      },
      "source": [
        "*    `disk_usage()`    :    Retrieves usage statistics of given directory."
      ]
    },
    {
      "cell_type": "code",
      "metadata": {
        "id": "F9RwK7aVcxMX",
        "colab_type": "code",
        "colab": {
          "base_uri": "https://localhost:8080/",
          "height": 34
        },
        "outputId": "57cb1621-5f19-4aeb-cc48-c68af5419b49"
      },
      "source": [
        "shutil.disk_usage(\"/content/My_new_dir2/inner_dir1/Hello4\")"
      ],
      "execution_count": null,
      "outputs": [
        {
          "output_type": "execute_result",
          "data": {
            "text/plain": [
              "usage(total=115721105408, used=32418349056, free=77380399104)"
            ]
          },
          "metadata": {
            "tags": []
          },
          "execution_count": 32
        }
      ]
    },
    {
      "cell_type": "markdown",
      "metadata": {
        "id": "TuVMz3SeeTe0",
        "colab_type": "text"
      },
      "source": [
        "*    `make_archive()`   :   builds an archive (zip or tar) of files."
      ]
    },
    {
      "cell_type": "code",
      "metadata": {
        "id": "5j7JubihdFjH",
        "colab_type": "code",
        "colab": {
          "base_uri": "https://localhost:8080/",
          "height": 35
        },
        "outputId": "c28605c8-eebd-4862-9154-33ab53d684df"
      },
      "source": [
        "shutil.make_archive(\"/content/Dir2arc\", \"zip\", \"/content/Dir2\")"
      ],
      "execution_count": null,
      "outputs": [
        {
          "output_type": "execute_result",
          "data": {
            "application/vnd.google.colaboratory.intrinsic+json": {
              "type": "string"
            },
            "text/plain": [
              "'/content/Dir2arc.zip'"
            ]
          },
          "metadata": {
            "tags": []
          },
          "execution_count": 33
        }
      ]
    },
    {
      "cell_type": "markdown",
      "metadata": {
        "id": "lHceYeJ_edV6",
        "colab_type": "text"
      },
      "source": [
        "*   `unpack_archive()`    :     Extracts files in the given archive. Second parameter is the directory in which file are to be extracted. "
      ]
    },
    {
      "cell_type": "code",
      "metadata": {
        "id": "2koX3PbnfFrv",
        "colab_type": "code",
        "colab": {}
      },
      "source": [
        "shutil.unpack_archive(\"/content/Dir2arc.zip\", \"/content/Dir2ext\")"
      ],
      "execution_count": null,
      "outputs": []
    },
    {
      "cell_type": "markdown",
      "metadata": {
        "id": "aUaf1fKYgdwZ",
        "colab_type": "text"
      },
      "source": [
        "# **`%%time`**"
      ]
    },
    {
      "cell_type": "markdown",
      "metadata": {
        "id": "VIV3up5RhnsG",
        "colab_type": "text"
      },
      "source": [
        "`%%time` is a magic command.\n",
        "\n",
        "`%%time` prints the wall time for the entire cell whereas `%time` gives you the time for first line only\n",
        "\n",
        "Using `%%time` or `%time` prints 2 values:\n",
        "\n",
        "*   CPU Times\n",
        "*   Wall Time"
      ]
    },
    {
      "cell_type": "code",
      "metadata": {
        "id": "CAWoUxBkgnmt",
        "colab_type": "code",
        "colab": {
          "base_uri": "https://localhost:8080/",
          "height": 50
        },
        "outputId": "1ad24288-e3d8-4a53-90c5-75a142d50f3f"
      },
      "source": [
        "%%time\n",
        "x =5"
      ],
      "execution_count": null,
      "outputs": [
        {
          "output_type": "stream",
          "text": [
            "CPU times: user 3 µs, sys: 1e+03 ns, total: 4 µs\n",
            "Wall time: 6.68 µs\n"
          ],
          "name": "stdout"
        }
      ]
    },
    {
      "cell_type": "code",
      "metadata": {
        "id": "qk46-w0SiOlu",
        "colab_type": "code",
        "colab": {
          "base_uri": "https://localhost:8080/",
          "height": 67
        },
        "outputId": "1d758c2a-152f-475b-a940-dcdb9bc61bff"
      },
      "source": [
        "%%time\n",
        "if (5>2):\n",
        "  print(\"DONE\")"
      ],
      "execution_count": null,
      "outputs": [
        {
          "output_type": "stream",
          "text": [
            "DONE\n",
            "CPU times: user 104 µs, sys: 5 µs, total: 109 µs\n",
            "Wall time: 97 µs\n"
          ],
          "name": "stdout"
        }
      ]
    },
    {
      "cell_type": "code",
      "metadata": {
        "id": "OT1JITmuiWMQ",
        "colab_type": "code",
        "colab": {
          "base_uri": "https://localhost:8080/",
          "height": 67
        },
        "outputId": "046c0e02-8100-486e-f925-abbee0959c68"
      },
      "source": [
        "%time\n",
        "if (5>2):\n",
        "  print(\"DONE\")"
      ],
      "execution_count": null,
      "outputs": [
        {
          "output_type": "stream",
          "text": [
            "CPU times: user 3 µs, sys: 0 ns, total: 3 µs\n",
            "Wall time: 4.53 µs\n",
            "DONE\n"
          ],
          "name": "stdout"
        }
      ]
    },
    {
      "cell_type": "markdown",
      "metadata": {
        "id": "u8bDmOXG_tqj",
        "colab_type": "text"
      },
      "source": [
        "# Zipping and unzipping files and folder"
      ]
    },
    {
      "cell_type": "markdown",
      "metadata": {
        "id": "KLUlTFurANj1",
        "colab_type": "text"
      },
      "source": [
        "<h3>Setting up kaggle credentials"
      ]
    },
    {
      "cell_type": "code",
      "metadata": {
        "id": "RqoRyJG0AFqz",
        "colab_type": "code",
        "colab": {
          "resources": {
            "http://localhost:8080/nbextensions/google.colab/files.js": {
              "data": "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",
              "ok": true,
              "headers": [
                [
                  "content-type",
                  "application/javascript"
                ]
              ],
              "status": 200,
              "status_text": ""
            }
          },
          "base_uri": "https://localhost:8080/",
          "height": 73
        },
        "outputId": "447972a1-2988-40a3-c322-82e38f340699"
      },
      "source": [
        "from google.colab import files\n",
        "my_file=files.upload()"
      ],
      "execution_count": null,
      "outputs": [
        {
          "output_type": "display_data",
          "data": {
            "text/html": [
              "\n",
              "     <input type=\"file\" id=\"files-4028e7fc-1a9f-440b-b6b2-8df468ee4166\" name=\"files[]\" multiple disabled\n",
              "        style=\"border:none\" />\n",
              "     <output id=\"result-4028e7fc-1a9f-440b-b6b2-8df468ee4166\">\n",
              "      Upload widget is only available when the cell has been executed in the\n",
              "      current browser session. Please rerun this cell to enable.\n",
              "      </output>\n",
              "      <script src=\"/nbextensions/google.colab/files.js\"></script> "
            ],
            "text/plain": [
              "<IPython.core.display.HTML object>"
            ]
          },
          "metadata": {
            "tags": []
          }
        },
        {
          "output_type": "stream",
          "text": [
            "Saving kaggle.json to kaggle.json\n"
          ],
          "name": "stdout"
        }
      ]
    },
    {
      "cell_type": "code",
      "metadata": {
        "id": "cL6-BLfEAFkI",
        "colab_type": "code",
        "colab": {}
      },
      "source": [
        "import os\n",
        "import pandas as pd\n",
        "cred = pd.read_json(\"kaggle.json\",lines=True)\n",
        "os.environ['KAGGLE_USERNAME'] = cred.iloc[0][0]\n",
        "os.environ['KAGGLE_KEY'] = cred.iloc[0][1]"
      ],
      "execution_count": null,
      "outputs": []
    },
    {
      "cell_type": "markdown",
      "metadata": {
        "id": "r7enHZMZAXFK",
        "colab_type": "text"
      },
      "source": [
        "Downloadiing dataset"
      ]
    },
    {
      "cell_type": "code",
      "metadata": {
        "id": "YZ4dB2g9_s4u",
        "colab_type": "code",
        "colab": {
          "base_uri": "https://localhost:8080/",
          "height": 70
        },
        "outputId": "a3d91ca5-3597-4991-9458-2f3214a05b4b"
      },
      "source": [
        "!kaggle datasets download -d vishnuvarthanrao/windows-store"
      ],
      "execution_count": null,
      "outputs": [
        {
          "output_type": "stream",
          "text": [
            "Downloading windows-store.zip to /content\n",
            "\r  0% 0.00/93.1k [00:00<?, ?B/s]\n",
            "\r100% 93.1k/93.1k [00:00<00:00, 34.9MB/s]\n"
          ],
          "name": "stdout"
        }
      ]
    },
    {
      "cell_type": "code",
      "metadata": {
        "id": "XZFAaatJCf0C",
        "colab_type": "code",
        "colab": {
          "base_uri": "https://localhost:8080/",
          "height": 70
        },
        "outputId": "abcb5af5-d4e0-4da1-ee30-93b980c7b516"
      },
      "source": [
        "!kaggle datasets download -d prashdash112/african-ngo-data"
      ],
      "execution_count": null,
      "outputs": [
        {
          "output_type": "stream",
          "text": [
            "Downloading african-ngo-data.zip to /content\n",
            "\r  0% 0.00/97.8k [00:00<?, ?B/s]\n",
            "\r100% 97.8k/97.8k [00:00<00:00, 34.6MB/s]\n"
          ],
          "name": "stdout"
        }
      ]
    },
    {
      "cell_type": "markdown",
      "metadata": {
        "id": "KLtQcGiKGAxS",
        "colab_type": "text"
      },
      "source": [
        "<h2> 1) Unzipping files"
      ]
    },
    {
      "cell_type": "markdown",
      "metadata": {
        "id": "5mevR9iQCybi",
        "colab_type": "text"
      },
      "source": [
        "Now as we have downloaded 2 or more different zip files now unziping a particular file we just need to type:- \n",
        "\n",
        " **!unzip** \"path_of_zip_file\""
      ]
    },
    {
      "cell_type": "code",
      "metadata": {
        "id": "Jt3MJedm_eTt",
        "colab_type": "code",
        "colab": {
          "base_uri": "https://localhost:8080/",
          "height": 52
        },
        "outputId": "2d539c53-797f-41ec-cad3-8f5229d31d9b"
      },
      "source": [
        "!unzip \"/content/african-ngo-data.zip\""
      ],
      "execution_count": null,
      "outputs": [
        {
          "output_type": "stream",
          "text": [
            "Archive:  /content/african-ngo-data.zip\n",
            "  inflating: Data2 (1).xls           \n"
          ],
          "name": "stdout"
        }
      ]
    },
    {
      "cell_type": "code",
      "metadata": {
        "id": "HziO4owNAfEf",
        "colab_type": "code",
        "colab": {
          "base_uri": "https://localhost:8080/",
          "height": 52
        },
        "outputId": "96400d15-9cc9-4ec2-a724-df920a25c658"
      },
      "source": [
        "!unzip \"/content/windows-store.zip\""
      ],
      "execution_count": null,
      "outputs": [
        {
          "output_type": "stream",
          "text": [
            "Archive:  /content/windows-store.zip\n",
            "  inflating: msft.csv                \n"
          ],
          "name": "stdout"
        }
      ]
    },
    {
      "cell_type": "markdown",
      "metadata": {
        "id": "gng6O6Q3EGIn",
        "colab_type": "text"
      },
      "source": [
        "For unzipping all the zip files present in the current path we are present we just need to type :-\n",
        "\n",
        "**!unzip \"*.zip\"**"
      ]
    },
    {
      "cell_type": "markdown",
      "metadata": {
        "id": "aXO-Xxy2FTsR",
        "colab_type": "text"
      },
      "source": [
        "Printing our current directory"
      ]
    },
    {
      "cell_type": "code",
      "metadata": {
        "id": "lMBLG4xDFWkx",
        "colab_type": "code",
        "colab": {
          "base_uri": "https://localhost:8080/",
          "height": 36
        },
        "outputId": "40ea7a6c-a768-474b-ae50-be076bae15d3"
      },
      "source": [
        "os.getcwd()"
      ],
      "execution_count": null,
      "outputs": [
        {
          "output_type": "execute_result",
          "data": {
            "application/vnd.google.colaboratory.intrinsic+json": {
              "type": "string"
            },
            "text/plain": [
              "'/content'"
            ]
          },
          "metadata": {
            "tags": []
          },
          "execution_count": 7
        }
      ]
    },
    {
      "cell_type": "code",
      "metadata": {
        "id": "7nn41k9kCwdI",
        "colab_type": "code",
        "colab": {
          "base_uri": "https://localhost:8080/",
          "height": 141
        },
        "outputId": "18a1eae3-5439-4918-9797-d0de2250b640"
      },
      "source": [
        "!unzip \"*.zip\""
      ],
      "execution_count": null,
      "outputs": [
        {
          "output_type": "stream",
          "text": [
            "Archive:  african-ngo-data.zip\n",
            "replace Data2 (1).xls? [y]es, [n]o, [A]ll, [N]one, [r]ename: n\n",
            "\n",
            "Archive:  windows-store.zip\n",
            "replace msft.csv? [y]es, [n]o, [A]ll, [N]one, [r]ename: n\n",
            "\n",
            "2 archives were successfully processed.\n"
          ],
          "name": "stdout"
        }
      ]
    },
    {
      "cell_type": "markdown",
      "metadata": {
        "id": "WXbq7yIzGHF8",
        "colab_type": "text"
      },
      "source": [
        "<h2> 2) Zipping files"
      ]
    },
    {
      "cell_type": "code",
      "metadata": {
        "id": "id0lx7HFD2Wd",
        "colab_type": "code",
        "colab": {}
      },
      "source": [
        "import os\n",
        "os.mkdir(\"/content/My_Dir\")"
      ],
      "execution_count": null,
      "outputs": []
    },
    {
      "cell_type": "code",
      "metadata": {
        "id": "q860PC8JGPwY",
        "colab_type": "code",
        "colab": {}
      },
      "source": [
        "os.chdir(\"/content/My_Dir\")"
      ],
      "execution_count": null,
      "outputs": []
    },
    {
      "cell_type": "code",
      "metadata": {
        "id": "yhGz6nUiHQYo",
        "colab_type": "code",
        "colab": {
          "base_uri": "https://localhost:8080/",
          "height": 36
        },
        "outputId": "bb34f88e-1a63-4f8f-84d9-0544e61498c3"
      },
      "source": [
        "os.getcwd()"
      ],
      "execution_count": null,
      "outputs": [
        {
          "output_type": "execute_result",
          "data": {
            "application/vnd.google.colaboratory.intrinsic+json": {
              "type": "string"
            },
            "text/plain": [
              "'/content/My_Dir'"
            ]
          },
          "metadata": {
            "tags": []
          },
          "execution_count": 11
        }
      ]
    },
    {
      "cell_type": "code",
      "metadata": {
        "id": "Guq0raj6Hh0u",
        "colab_type": "code",
        "colab": {
          "base_uri": "https://localhost:8080/",
          "height": 70
        },
        "outputId": "8e89268f-d9fb-402d-92d3-a18b76dfdc9e"
      },
      "source": [
        "!kaggle datasets download -d vishnuvarthanrao/windows-store"
      ],
      "execution_count": null,
      "outputs": [
        {
          "output_type": "stream",
          "text": [
            "Downloading windows-store.zip to /content/My_Dir\n",
            "\r  0% 0.00/93.1k [00:00<?, ?B/s]\n",
            "\r100% 93.1k/93.1k [00:00<00:00, 34.2MB/s]\n"
          ],
          "name": "stdout"
        }
      ]
    },
    {
      "cell_type": "code",
      "metadata": {
        "id": "LWOY0O2GHu0m",
        "colab_type": "code",
        "colab": {
          "base_uri": "https://localhost:8080/",
          "height": 70
        },
        "outputId": "da8d8b2a-e9db-44c5-fc47-16a52d89073f"
      },
      "source": [
        "!kaggle datasets download -d prashdash112/african-ngo-data"
      ],
      "execution_count": null,
      "outputs": [
        {
          "output_type": "stream",
          "text": [
            "Downloading african-ngo-data.zip to /content/My_Dir\n",
            "\r  0% 0.00/97.8k [00:00<?, ?B/s]\n",
            "\r100% 97.8k/97.8k [00:00<00:00, 36.6MB/s]\n"
          ],
          "name": "stdout"
        }
      ]
    },
    {
      "cell_type": "code",
      "metadata": {
        "id": "bbzfkjVAHj3c",
        "colab_type": "code",
        "colab": {
          "base_uri": "https://localhost:8080/",
          "height": 141
        },
        "outputId": "dfb7d78e-b6ba-4301-9cde-0f480bbbac8d"
      },
      "source": [
        "!unzip \"*.zip\""
      ],
      "execution_count": null,
      "outputs": [
        {
          "output_type": "stream",
          "text": [
            "Archive:  african-ngo-data.zip\n",
            "  inflating: Data2 (1).xls           \n",
            "\n",
            "Archive:  windows-store.zip\n",
            "  inflating: msft.csv                \n",
            "\n",
            "2 archives were successfully processed.\n"
          ],
          "name": "stdout"
        }
      ]
    },
    {
      "cell_type": "markdown",
      "metadata": {
        "id": "WojAlj4NKFPK",
        "colab_type": "text"
      },
      "source": [
        "Now to zip all the files present in the folder you just need to type this command:-\n",
        "\n",
        "**!zip -r {name_of the_zipped_file} \"path_of the folder\"**"
      ]
    },
    {
      "cell_type": "markdown",
      "metadata": {
        "id": "THfjFXnhKWVV",
        "colab_type": "text"
      },
      "source": [
        "**NOTE :-File will be downloaded in your current directory**"
      ]
    },
    {
      "cell_type": "code",
      "metadata": {
        "id": "fS3jRlIgHxsH",
        "colab_type": "code",
        "colab": {
          "base_uri": "https://localhost:8080/",
          "height": 106
        },
        "outputId": "9b1ad671-a501-4f66-b6a2-f448c9fa4d10"
      },
      "source": [
        "!zip -r final \"/content/My_Dir\" "
      ],
      "execution_count": null,
      "outputs": [
        {
          "output_type": "stream",
          "text": [
            "  adding: content/My_Dir/ (stored 0%)\n",
            "  adding: content/My_Dir/african-ngo-data.zip (stored 0%)\n",
            "  adding: content/My_Dir/Data2 (1).xls (deflated 78%)\n",
            "  adding: content/My_Dir/windows-store.zip (stored 0%)\n",
            "  adding: content/My_Dir/msft.csv (deflated 69%)\n"
          ],
          "name": "stdout"
        }
      ]
    },
    {
      "cell_type": "code",
      "metadata": {
        "id": "na-ssF-6L9Hb",
        "colab_type": "code",
        "colab": {
          "base_uri": "https://localhost:8080/",
          "height": 35
        },
        "outputId": "bee151be-3b51-45f3-d87b-062c645eae8f"
      },
      "source": [
        "!zip -r fin \"/content/My_Dir/msft.csv\" "
      ],
      "execution_count": null,
      "outputs": [
        {
          "output_type": "stream",
          "text": [
            "  adding: content/My_Dir/msft.csv (deflated 69%)\n"
          ],
          "name": "stdout"
        }
      ]
    },
    {
      "cell_type": "markdown",
      "metadata": {
        "id": "8Hqwd5OMN1Db",
        "colab_type": "text"
      },
      "source": [
        "# cd command\n",
        "\n",
        "This command is basically used to change the current directory on where we are present"
      ]
    },
    {
      "cell_type": "markdown",
      "metadata": {
        "id": "OEV0DmYsN7Dj",
        "colab_type": "text"
      },
      "source": [
        "Printing our current directory"
      ]
    },
    {
      "cell_type": "code",
      "metadata": {
        "id": "RVvjt_AMNt-M",
        "colab_type": "code",
        "colab": {
          "base_uri": "https://localhost:8080/",
          "height": 36
        },
        "outputId": "91485392-7b7f-482e-b228-abd3aa7d5883"
      },
      "source": [
        "os.getcwd()"
      ],
      "execution_count": null,
      "outputs": [
        {
          "output_type": "execute_result",
          "data": {
            "application/vnd.google.colaboratory.intrinsic+json": {
              "type": "string"
            },
            "text/plain": [
              "'/content/My_Dir'"
            ]
          },
          "metadata": {
            "tags": []
          },
          "execution_count": 17
        }
      ]
    },
    {
      "cell_type": "markdown",
      "metadata": {
        "id": "YSMabziFOHF7",
        "colab_type": "text"
      },
      "source": [
        "1) Moving one folder back from the current directory by using :-  **%cd ..**"
      ]
    },
    {
      "cell_type": "code",
      "metadata": {
        "id": "NWsmZK1nMPXQ",
        "colab_type": "code",
        "colab": {
          "base_uri": "https://localhost:8080/",
          "height": 35
        },
        "outputId": "af247cf5-a297-4412-b862-ccd826214821"
      },
      "source": [
        "%cd .."
      ],
      "execution_count": null,
      "outputs": [
        {
          "output_type": "stream",
          "text": [
            "/content\n"
          ],
          "name": "stdout"
        }
      ]
    },
    {
      "cell_type": "code",
      "metadata": {
        "id": "pTLf55skOGE_",
        "colab_type": "code",
        "colab": {
          "base_uri": "https://localhost:8080/",
          "height": 36
        },
        "outputId": "a44ac533-2c08-4eef-d371-aafda1f53d1f"
      },
      "source": [
        "os.getcwd()"
      ],
      "execution_count": null,
      "outputs": [
        {
          "output_type": "execute_result",
          "data": {
            "application/vnd.google.colaboratory.intrinsic+json": {
              "type": "string"
            },
            "text/plain": [
              "'/content'"
            ]
          },
          "metadata": {
            "tags": []
          },
          "execution_count": 19
        }
      ]
    },
    {
      "cell_type": "markdown",
      "metadata": {
        "id": "gJ-QiwsfO0JQ",
        "colab_type": "text"
      },
      "source": [
        "2) Falling back to the home directory"
      ]
    },
    {
      "cell_type": "markdown",
      "metadata": {
        "id": "ocCTv5ASQNno",
        "colab_type": "text"
      },
      "source": [
        "1) "
      ]
    },
    {
      "cell_type": "code",
      "metadata": {
        "id": "n4IaxZsz_YFw",
        "colab_type": "code",
        "colab": {
          "base_uri": "https://localhost:8080/",
          "height": 35
        },
        "outputId": "3f734fe7-053d-48cc-d4c7-3b02417bce19"
      },
      "source": [
        "%cd "
      ],
      "execution_count": null,
      "outputs": [
        {
          "output_type": "stream",
          "text": [
            "/root\n"
          ],
          "name": "stdout"
        }
      ]
    },
    {
      "cell_type": "code",
      "metadata": {
        "id": "5jh-11t5O4up",
        "colab_type": "code",
        "colab": {
          "base_uri": "https://localhost:8080/",
          "height": 36
        },
        "outputId": "66994d15-b526-458c-8922-7683ded73999"
      },
      "source": [
        "os.getcwd()"
      ],
      "execution_count": null,
      "outputs": [
        {
          "output_type": "execute_result",
          "data": {
            "application/vnd.google.colaboratory.intrinsic+json": {
              "type": "string"
            },
            "text/plain": [
              "'/root'"
            ]
          },
          "metadata": {
            "tags": []
          },
          "execution_count": 21
        }
      ]
    },
    {
      "cell_type": "markdown",
      "metadata": {
        "id": "itTLwskoQSTY",
        "colab_type": "text"
      },
      "source": [
        "2)"
      ]
    },
    {
      "cell_type": "code",
      "metadata": {
        "id": "oSI1RhZ9QRz9",
        "colab_type": "code",
        "colab": {
          "base_uri": "https://localhost:8080/",
          "height": 35
        },
        "outputId": "8dc6d5bb-6fd9-4c0f-de73-8af5700d8770"
      },
      "source": [
        "%cd ~"
      ],
      "execution_count": null,
      "outputs": [
        {
          "output_type": "stream",
          "text": [
            "/root\n"
          ],
          "name": "stdout"
        }
      ]
    },
    {
      "cell_type": "code",
      "metadata": {
        "id": "yEFp_e9eQVju",
        "colab_type": "code",
        "colab": {
          "base_uri": "https://localhost:8080/",
          "height": 36
        },
        "outputId": "a7b2ac5d-291c-4346-9676-ef79979d33f4"
      },
      "source": [
        "os.getcwd()"
      ],
      "execution_count": null,
      "outputs": [
        {
          "output_type": "execute_result",
          "data": {
            "application/vnd.google.colaboratory.intrinsic+json": {
              "type": "string"
            },
            "text/plain": [
              "'/root'"
            ]
          },
          "metadata": {
            "tags": []
          },
          "execution_count": 23
        }
      ]
    },
    {
      "cell_type": "markdown",
      "metadata": {
        "id": "3Z2xJxqnO6zf",
        "colab_type": "text"
      },
      "source": [
        "3) Jumping to root directory \n",
        "\n",
        "What is root directory ? [Image for clarification](https://www.lifewire.com/thmb/x8FG99SkwBX-9iBfTgZFfjWGL7s=/2200x0/filters:no_upscale():max_bytes(150000):strip_icc():format(webp)/What-is-a-root-folder-or-root-directory-2625989-aafb8d25a54146879a236236ab8ea6c0.png)\n",
        "\n",
        "Basically it is the start or beginning of a particular folder structure\n",
        "\n",
        "For eg :- C:\\Windows\\System32 folder in this C:\\ is the root directory"
      ]
    },
    {
      "cell_type": "code",
      "metadata": {
        "id": "nJVbURZhMLAB",
        "colab_type": "code",
        "colab": {
          "base_uri": "https://localhost:8080/",
          "height": 35
        },
        "outputId": "6f0b84de-daa0-46ec-8480-c000cf3f531a"
      },
      "source": [
        "%cd /"
      ],
      "execution_count": null,
      "outputs": [
        {
          "output_type": "stream",
          "text": [
            "/\n"
          ],
          "name": "stdout"
        }
      ]
    },
    {
      "cell_type": "code",
      "metadata": {
        "id": "t28C5bM-QEMv",
        "colab_type": "code",
        "colab": {
          "base_uri": "https://localhost:8080/",
          "height": 36
        },
        "outputId": "e4fdab6a-7742-4347-e228-75703a813ea2"
      },
      "source": [
        "os.getcwd()"
      ],
      "execution_count": null,
      "outputs": [
        {
          "output_type": "execute_result",
          "data": {
            "application/vnd.google.colaboratory.intrinsic+json": {
              "type": "string"
            },
            "text/plain": [
              "'/'"
            ]
          },
          "metadata": {
            "tags": []
          },
          "execution_count": 25
        }
      ]
    },
    {
      "cell_type": "markdown",
      "metadata": {
        "id": "1za90FexQF4G",
        "colab_type": "text"
      },
      "source": [
        "4) Jumping to next folder directory in which we are present "
      ]
    },
    {
      "cell_type": "code",
      "metadata": {
        "id": "plWvJcrdQlRz",
        "colab_type": "code",
        "colab": {
          "base_uri": "https://localhost:8080/",
          "height": 35
        },
        "outputId": "0f24c0af-26d4-4d93-8286-8294f52978cf"
      },
      "source": [
        "%cd content/"
      ],
      "execution_count": null,
      "outputs": [
        {
          "output_type": "stream",
          "text": [
            "/content\n"
          ],
          "name": "stdout"
        }
      ]
    },
    {
      "cell_type": "markdown",
      "metadata": {
        "id": "pRGH5ZiWSQ_0",
        "colab_type": "text"
      },
      "source": [
        "This command is used for generating all the files and folder present in the current directory"
      ]
    },
    {
      "cell_type": "code",
      "metadata": {
        "id": "a8_X6__wQlPY",
        "colab_type": "code",
        "colab": {
          "base_uri": "https://localhost:8080/",
          "height": 52
        },
        "outputId": "a6755d12-3436-4d22-b998-9b9642510507"
      },
      "source": [
        "%ls"
      ],
      "execution_count": null,
      "outputs": [
        {
          "output_type": "stream",
          "text": [
            " african-ngo-data.zip   kaggle.json   \u001b[0m\u001b[01;34mMy_Dir\u001b[0m/        windows-store.zip\n",
            "'Data2 (1).xls'         msft.csv      \u001b[01;34msample_data\u001b[0m/\n"
          ],
          "name": "stdout"
        }
      ]
    },
    {
      "cell_type": "code",
      "metadata": {
        "id": "PErOTGf9VjmX",
        "colab_type": "code",
        "colab": {
          "base_uri": "https://localhost:8080/",
          "height": 35
        },
        "outputId": "d019ccfc-cf46-4057-c5a6-37bf848bbda2"
      },
      "source": [
        "%cd My_Dir/"
      ],
      "execution_count": null,
      "outputs": [
        {
          "output_type": "stream",
          "text": [
            "/content/My_Dir\n"
          ],
          "name": "stdout"
        }
      ]
    },
    {
      "cell_type": "code",
      "metadata": {
        "id": "_XMuVSQTMuHX",
        "colab_type": "code",
        "colab": {
          "base_uri": "https://localhost:8080/",
          "height": 36
        },
        "outputId": "3578dd9d-9e45-47f2-df8e-aebb9ac92193"
      },
      "source": [
        "os.getcwd()"
      ],
      "execution_count": null,
      "outputs": [
        {
          "output_type": "execute_result",
          "data": {
            "application/vnd.google.colaboratory.intrinsic+json": {
              "type": "string"
            },
            "text/plain": [
              "'/content/My_Dir'"
            ]
          },
          "metadata": {
            "tags": []
          },
          "execution_count": 30
        }
      ]
    },
    {
      "cell_type": "markdown",
      "metadata": {
        "id": "KYXJ9TrkTSyA",
        "colab_type": "text"
      },
      "source": [
        "5) Going to any path just by specfying the location"
      ]
    },
    {
      "cell_type": "code",
      "metadata": {
        "id": "aHh-Ck6JSQCK",
        "colab_type": "code",
        "colab": {
          "base_uri": "https://localhost:8080/",
          "height": 35
        },
        "outputId": "ca36066b-e19c-4754-ba86-9b8c6c04332d"
      },
      "source": [
        "%cd /content/My_Dir"
      ],
      "execution_count": null,
      "outputs": [
        {
          "output_type": "stream",
          "text": [
            "/content/My_Dir\n"
          ],
          "name": "stdout"
        }
      ]
    },
    {
      "cell_type": "markdown",
      "metadata": {
        "id": "Yxgm-38tT6rZ",
        "colab_type": "text"
      },
      "source": [
        "6) Going inside a folder which contain spaces in between their names"
      ]
    },
    {
      "cell_type": "code",
      "metadata": {
        "id": "iuxxO4D_SP_m",
        "colab_type": "code",
        "colab": {}
      },
      "source": [
        "os.mkdir(\"/content/My Dir\")"
      ],
      "execution_count": null,
      "outputs": []
    },
    {
      "cell_type": "code",
      "metadata": {
        "id": "668XSzmdSPLH",
        "colab_type": "code",
        "colab": {
          "base_uri": "https://localhost:8080/",
          "height": 36
        },
        "outputId": "bf8e76e0-c031-4614-c0e0-0af0d8996675"
      },
      "source": [
        "os.getcwd()"
      ],
      "execution_count": null,
      "outputs": [
        {
          "output_type": "execute_result",
          "data": {
            "application/vnd.google.colaboratory.intrinsic+json": {
              "type": "string"
            },
            "text/plain": [
              "'/content/My_Dir'"
            ]
          },
          "metadata": {
            "tags": []
          },
          "execution_count": 33
        }
      ]
    },
    {
      "cell_type": "code",
      "metadata": {
        "id": "q4g2U6HkSPG-",
        "colab_type": "code",
        "colab": {
          "base_uri": "https://localhost:8080/",
          "height": 35
        },
        "outputId": "c553def0-c149-46aa-9152-66da01354d55"
      },
      "source": [
        "%cd /content"
      ],
      "execution_count": null,
      "outputs": [
        {
          "output_type": "stream",
          "text": [
            "/content\n"
          ],
          "name": "stdout"
        }
      ]
    },
    {
      "cell_type": "code",
      "metadata": {
        "id": "OdKAmL5dSPDG",
        "colab_type": "code",
        "colab": {
          "base_uri": "https://localhost:8080/",
          "height": 52
        },
        "outputId": "b25a3034-54a7-4381-a268-ea60fc2624cd"
      },
      "source": [
        "%ls"
      ],
      "execution_count": null,
      "outputs": [
        {
          "output_type": "stream",
          "text": [
            " african-ngo-data.zip   kaggle.json  \u001b[0m\u001b[01;34m'My Dir'\u001b[0m/   \u001b[01;34msample_data\u001b[0m/\n",
            "'Data2 (1).xls'         msft.csv      \u001b[01;34mMy_Dir\u001b[0m/    windows-store.zip\n"
          ],
          "name": "stdout"
        }
      ]
    },
    {
      "cell_type": "code",
      "metadata": {
        "id": "VIWFTa_1SPBF",
        "colab_type": "code",
        "colab": {
          "base_uri": "https://localhost:8080/",
          "height": 52
        },
        "outputId": "759faf5a-10a3-4fae-f71c-191392ac8614"
      },
      "source": [
        "%cd My dir"
      ],
      "execution_count": null,
      "outputs": [
        {
          "output_type": "stream",
          "text": [
            "[Errno 2] No such file or directory: 'My dir'\n",
            "/content\n"
          ],
          "name": "stdout"
        }
      ]
    },
    {
      "cell_type": "markdown",
      "metadata": {
        "id": "CpsT41clUt-M",
        "colab_type": "text"
      },
      "source": [
        "1) A option"
      ]
    },
    {
      "cell_type": "code",
      "metadata": {
        "id": "f_63sdTASO-q",
        "colab_type": "code",
        "colab": {
          "base_uri": "https://localhost:8080/",
          "height": 35
        },
        "outputId": "08ebcbfd-a19f-4102-ca9f-5b372e164d0a"
      },
      "source": [
        "%cd My\\ Dir"
      ],
      "execution_count": null,
      "outputs": [
        {
          "output_type": "stream",
          "text": [
            "/content/My Dir\n"
          ],
          "name": "stdout"
        }
      ]
    },
    {
      "cell_type": "code",
      "metadata": {
        "id": "vwXW8eeYSO6x",
        "colab_type": "code",
        "colab": {
          "base_uri": "https://localhost:8080/",
          "height": 36
        },
        "outputId": "4071f6c9-4b7f-469e-8a7d-58f715e61d32"
      },
      "source": [
        "os.getcwd()"
      ],
      "execution_count": null,
      "outputs": [
        {
          "output_type": "execute_result",
          "data": {
            "application/vnd.google.colaboratory.intrinsic+json": {
              "type": "string"
            },
            "text/plain": [
              "'/content/My Dir'"
            ]
          },
          "metadata": {
            "tags": []
          },
          "execution_count": 38
        }
      ]
    },
    {
      "cell_type": "code",
      "metadata": {
        "id": "RY-64U0BU3qV",
        "colab_type": "code",
        "colab": {
          "base_uri": "https://localhost:8080/",
          "height": 35
        },
        "outputId": "8281aaaf-de14-4f54-a523-a36fb2d901b4"
      },
      "source": [
        "%cd /content"
      ],
      "execution_count": null,
      "outputs": [
        {
          "output_type": "stream",
          "text": [
            "/content\n"
          ],
          "name": "stdout"
        }
      ]
    },
    {
      "cell_type": "markdown",
      "metadata": {
        "id": "nJzXidgqUxDH",
        "colab_type": "text"
      },
      "source": [
        "2) B option"
      ]
    },
    {
      "cell_type": "markdown",
      "metadata": {
        "id": "27nLt0MJVBqY",
        "colab_type": "text"
      },
      "source": [
        "Either by enclosing text either in single quote **' '** or double quote **\" \"**"
      ]
    },
    {
      "cell_type": "code",
      "metadata": {
        "id": "5z9uQGwGUw1Y",
        "colab_type": "code",
        "colab": {
          "base_uri": "https://localhost:8080/",
          "height": 35
        },
        "outputId": "9da19073-2281-493f-deb8-18d9146215f5"
      },
      "source": [
        "%cd \"My Dir\""
      ],
      "execution_count": null,
      "outputs": [
        {
          "output_type": "stream",
          "text": [
            "/content/My Dir\n"
          ],
          "name": "stdout"
        }
      ]
    },
    {
      "cell_type": "code",
      "metadata": {
        "id": "1rt1vGioSO4Q",
        "colab_type": "code",
        "colab": {
          "base_uri": "https://localhost:8080/",
          "height": 36
        },
        "outputId": "b40a697e-872b-4730-a7fb-af275a474ed7"
      },
      "source": [
        "os.getcwd()"
      ],
      "execution_count": null,
      "outputs": [
        {
          "output_type": "execute_result",
          "data": {
            "application/vnd.google.colaboratory.intrinsic+json": {
              "type": "string"
            },
            "text/plain": [
              "'/content/My Dir'"
            ]
          },
          "metadata": {
            "tags": []
          },
          "execution_count": 41
        }
      ]
    },
    {
      "cell_type": "markdown",
      "metadata": {
        "id": "xoqlmRpgKifi",
        "colab_type": "text"
      },
      "source": [
        "# Deleting files and folder"
      ]
    },
    {
      "cell_type": "code",
      "metadata": {
        "id": "7ciIvdk6KkjJ",
        "colab_type": "code",
        "colab": {
          "base_uri": "https://localhost:8080/",
          "height": 36
        },
        "outputId": "90df5564-7d4d-4700-8838-29cebd314b93"
      },
      "source": [
        "os.chdir(\"/content/My_Dir\")\n",
        "os.getcwd()"
      ],
      "execution_count": null,
      "outputs": [
        {
          "output_type": "execute_result",
          "data": {
            "application/vnd.google.colaboratory.intrinsic+json": {
              "type": "string"
            },
            "text/plain": [
              "'/content/My_Dir'"
            ]
          },
          "metadata": {
            "tags": []
          },
          "execution_count": 42
        }
      ]
    },
    {
      "cell_type": "markdown",
      "metadata": {
        "id": "bAyFDbM0Leqj",
        "colab_type": "text"
      },
      "source": [
        "<h2> 1) Deleting a particular file by passing it's name"
      ]
    },
    {
      "cell_type": "markdown",
      "metadata": {
        "id": "WEHWYxpMKxS-",
        "colab_type": "text"
      },
      "source": [
        "For deleting a particular file present in a given directory the command for it is :-\n",
        "\n",
        "**!rm -r \"path_of_file\"**"
      ]
    },
    {
      "cell_type": "code",
      "metadata": {
        "id": "10Ii3aGcKpra",
        "colab_type": "code",
        "colab": {}
      },
      "source": [
        "!rm  \"/content/My_Dir/Data2 (1).xls\""
      ],
      "execution_count": null,
      "outputs": []
    },
    {
      "cell_type": "code",
      "metadata": {
        "id": "VIp8HIJ6KvK-",
        "colab_type": "code",
        "colab": {}
      },
      "source": [
        "!rm  \"/content/My_Dir/final.zip\""
      ],
      "execution_count": null,
      "outputs": []
    },
    {
      "cell_type": "markdown",
      "metadata": {
        "id": "t0lSPVmHLYA0",
        "colab_type": "text"
      },
      "source": [
        "<h2> 2) Removing the entire folder"
      ]
    },
    {
      "cell_type": "code",
      "metadata": {
        "id": "S5PI0POhLGAf",
        "colab_type": "code",
        "colab": {}
      },
      "source": [
        "!rm -r \"/content/My_Dir\""
      ],
      "execution_count": null,
      "outputs": []
    }
  ]
}