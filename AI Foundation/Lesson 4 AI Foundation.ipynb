{
  "nbformat": 4,
  "nbformat_minor": 0,
  "metadata": {
    "colab": {
      "name": "Lesson 4 AI Foundation",
      "provenance": [],
      "collapsed_sections": [
        "4rS6vZan-YgV",
        "cry20vFEAjbB",
        "iHbnZaoLAuPf",
        "P-LnHJeJAzHr",
        "HyrxrpNKAn5i"
      ],
      "include_colab_link": true
    },
    "kernelspec": {
      "name": "python3",
      "display_name": "Python 3"
    }
  },
  "cells": [
    {
      "cell_type": "markdown",
      "metadata": {
        "id": "view-in-github",
        "colab_type": "text"
      },
      "source": [
        "<a href=\"https://colab.research.google.com/github/pttrilok/courses/blob/master/AI%20Foundation/Lesson%204%20AI%20Foundation.ipynb\" target=\"_parent\"><img src=\"https://colab.research.google.com/assets/colab-badge.svg\" alt=\"Open In Colab\"/></a>"
      ]
    },
    {
      "cell_type": "markdown",
      "metadata": {
        "id": "EtSBDOyKc4v8",
        "colab_type": "text"
      },
      "source": [
        "<h1>In this notebook we will learn about\n",
        "\n",
        "\n",
        "*   Del statement\n",
        "*   Sets\n",
        "*   Dictionary\n",
        "*   Looping Techniques\n",
        "*   Bold Text\n",
        "\n"
      ]
    },
    {
      "cell_type": "markdown",
      "metadata": {
        "id": "4rS6vZan-YgV",
        "colab_type": "text"
      },
      "source": [
        "# Del statement"
      ]
    },
    {
      "cell_type": "markdown",
      "metadata": {
        "id": "wLfxppf1-jLr",
        "colab_type": "text"
      },
      "source": [
        "There is a way to remove an item from a list given its index instead of its value:- the **del** statement"
      ]
    },
    {
      "cell_type": "markdown",
      "metadata": {
        "id": "QVDEmuQv_Wzg",
        "colab_type": "text"
      },
      "source": [
        "*    Deleting values at a particular index"
      ]
    },
    {
      "cell_type": "markdown",
      "metadata": {
        "id": "jbjsHosh-snb",
        "colab_type": "text"
      },
      "source": [
        "for eg :-\n",
        "\n",
        "a=[1,2,3,4,5,6]\n",
        "\n",
        "For deleting an element at a particular index we just pass the index of the element to the del statment\n",
        "\n",
        "del(a[0])\n",
        "\n",
        "Final List after deletion a=[2,3,4,5,6]"
      ]
    },
    {
      "cell_type": "code",
      "metadata": {
        "id": "USIUK5_v-YRm",
        "colab_type": "code",
        "colab": {}
      },
      "source": [
        "a=[1,2,3,4,5]"
      ],
      "execution_count": null,
      "outputs": []
    },
    {
      "cell_type": "code",
      "metadata": {
        "id": "d_7nbZM8-XGH",
        "colab_type": "code",
        "colab": {}
      },
      "source": [
        "del(a[2])"
      ],
      "execution_count": null,
      "outputs": []
    },
    {
      "cell_type": "code",
      "metadata": {
        "id": "8ZlOr9Zi-gnN",
        "colab_type": "code",
        "colab": {
          "base_uri": "https://localhost:8080/",
          "height": 35
        },
        "outputId": "32dccacf-311f-49b0-b3e2-89c8261bd84e"
      },
      "source": [
        "a"
      ],
      "execution_count": null,
      "outputs": [
        {
          "output_type": "execute_result",
          "data": {
            "text/plain": [
              "[1, 2, 4, 5]"
            ]
          },
          "metadata": {
            "tags": []
          },
          "execution_count": 79
        }
      ]
    },
    {
      "cell_type": "code",
      "metadata": {
        "id": "Blg-cwb6_eYa",
        "colab_type": "code",
        "colab": {}
      },
      "source": [
        "del(a[0])"
      ],
      "execution_count": null,
      "outputs": []
    },
    {
      "cell_type": "code",
      "metadata": {
        "id": "8LPnnLQt_f_3",
        "colab_type": "code",
        "colab": {
          "base_uri": "https://localhost:8080/",
          "height": 35
        },
        "outputId": "32e7cade-03b1-4013-8312-fa83496b9379"
      },
      "source": [
        "a"
      ],
      "execution_count": null,
      "outputs": [
        {
          "output_type": "execute_result",
          "data": {
            "text/plain": [
              "[2, 4, 5]"
            ]
          },
          "metadata": {
            "tags": []
          },
          "execution_count": 81
        }
      ]
    },
    {
      "cell_type": "markdown",
      "metadata": {
        "id": "m2Xz0ygq_ob8",
        "colab_type": "text"
      },
      "source": [
        "*    Removing slices from list"
      ]
    },
    {
      "cell_type": "code",
      "metadata": {
        "id": "LiZDLbjx_osv",
        "colab_type": "code",
        "colab": {}
      },
      "source": [
        "a=[1,2,3,4,5,6,7]"
      ],
      "execution_count": null,
      "outputs": []
    },
    {
      "cell_type": "code",
      "metadata": {
        "id": "gU19kuMo_qzB",
        "colab_type": "code",
        "colab": {}
      },
      "source": [
        "del(a[0:3])"
      ],
      "execution_count": null,
      "outputs": []
    },
    {
      "cell_type": "code",
      "metadata": {
        "id": "BC75eCwM_qsS",
        "colab_type": "code",
        "colab": {
          "base_uri": "https://localhost:8080/",
          "height": 35
        },
        "outputId": "0f2249f6-4b7a-4847-d1dd-733495e75fee"
      },
      "source": [
        "a"
      ],
      "execution_count": null,
      "outputs": [
        {
          "output_type": "execute_result",
          "data": {
            "text/plain": [
              "[4, 5, 6, 7]"
            ]
          },
          "metadata": {
            "tags": []
          },
          "execution_count": 84
        }
      ]
    },
    {
      "cell_type": "markdown",
      "metadata": {
        "id": "NAUXuwcT-njX",
        "colab_type": "text"
      },
      "source": [
        "*    Making entire list empty"
      ]
    },
    {
      "cell_type": "code",
      "metadata": {
        "id": "rG06xZbV_i8w",
        "colab_type": "code",
        "colab": {}
      },
      "source": [
        "a=[1,2,3,4,5]"
      ],
      "execution_count": null,
      "outputs": []
    },
    {
      "cell_type": "code",
      "metadata": {
        "id": "tEP3sm4U-l_G",
        "colab_type": "code",
        "colab": {}
      },
      "source": [
        "del(a[:])"
      ],
      "execution_count": null,
      "outputs": []
    },
    {
      "cell_type": "code",
      "metadata": {
        "id": "ffkmUXpwAEXE",
        "colab_type": "code",
        "colab": {
          "base_uri": "https://localhost:8080/",
          "height": 35
        },
        "outputId": "8d901085-6b23-4e41-96e9-244c6a2f5538"
      },
      "source": [
        "a"
      ],
      "execution_count": null,
      "outputs": [
        {
          "output_type": "execute_result",
          "data": {
            "text/plain": [
              "[]"
            ]
          },
          "metadata": {
            "tags": []
          },
          "execution_count": 87
        }
      ]
    },
    {
      "cell_type": "markdown",
      "metadata": {
        "id": "Vc-XpuScAWmU",
        "colab_type": "text"
      },
      "source": [
        "*     Deleting the list "
      ]
    },
    {
      "cell_type": "code",
      "metadata": {
        "id": "XWGZ0U_1AEmQ",
        "colab_type": "code",
        "colab": {}
      },
      "source": [
        "a=[1,2,3,4,5]"
      ],
      "execution_count": null,
      "outputs": []
    },
    {
      "cell_type": "code",
      "metadata": {
        "id": "4qDdvxrJAdBZ",
        "colab_type": "code",
        "colab": {}
      },
      "source": [
        "del(a)"
      ],
      "execution_count": null,
      "outputs": []
    },
    {
      "cell_type": "code",
      "metadata": {
        "id": "ASrLpNaUAdj8",
        "colab_type": "code",
        "colab": {
          "base_uri": "https://localhost:8080/",
          "height": 168
        },
        "outputId": "b23e2594-8340-4417-8042-27fd506cf2b9"
      },
      "source": [
        "a"
      ],
      "execution_count": null,
      "outputs": [
        {
          "output_type": "error",
          "ename": "NameError",
          "evalue": "ignored",
          "traceback": [
            "\u001b[0;31m---------------------------------------------------------------------------\u001b[0m",
            "\u001b[0;31mNameError\u001b[0m                                 Traceback (most recent call last)",
            "\u001b[0;32m<ipython-input-90-3f786850e387>\u001b[0m in \u001b[0;36m<module>\u001b[0;34m()\u001b[0m\n\u001b[0;32m----> 1\u001b[0;31m \u001b[0ma\u001b[0m\u001b[0;34m\u001b[0m\u001b[0;34m\u001b[0m\u001b[0m\n\u001b[0m",
            "\u001b[0;31mNameError\u001b[0m: name 'a' is not defined"
          ]
        }
      ]
    },
    {
      "cell_type": "markdown",
      "metadata": {
        "id": "cry20vFEAjbB",
        "colab_type": "text"
      },
      "source": [
        "# Sets\n",
        "\n",
        " A set is an unordered collection with no duplicate elements. \n",
        "\n",
        " Just like list set is also the same but in set no duplicate values are allowed. \n",
        " \n",
        " For eg:-\n",
        "\n",
        " Defining syntax a={value_1,value_2,value_3,value_4}\n",
        "\n",
        " Even if in the above value_1 and value_2 are same it will output a={value_1,value_3,value_4}"
      ]
    },
    {
      "cell_type": "markdown",
      "metadata": {
        "id": "Wi8WdU_mH8Ub",
        "colab_type": "text"
      },
      "source": [
        "Defining a set and printing it's unique values\n",
        "\n"
      ]
    },
    {
      "cell_type": "code",
      "metadata": {
        "id": "VuuaKiqZAinu",
        "colab_type": "code",
        "colab": {}
      },
      "source": [
        "a={'Lesson1','Lesson2','Lesson3','Lesson4','Lesson1'}"
      ],
      "execution_count": null,
      "outputs": []
    },
    {
      "cell_type": "code",
      "metadata": {
        "id": "ILoxqTa8BsMT",
        "colab_type": "code",
        "colab": {
          "base_uri": "https://localhost:8080/",
          "height": 35
        },
        "outputId": "8e39d4ed-71d0-4b64-db67-663bd8f19ce8"
      },
      "source": [
        "a"
      ],
      "execution_count": null,
      "outputs": [
        {
          "output_type": "execute_result",
          "data": {
            "text/plain": [
              "{'Lesson1', 'Lesson2', 'Lesson3', 'Lesson4'}"
            ]
          },
          "metadata": {
            "tags": []
          },
          "execution_count": 92
        }
      ]
    },
    {
      "cell_type": "markdown",
      "metadata": {
        "id": "bvFy1DosIG7c",
        "colab_type": "text"
      },
      "source": [
        "Checking whether a particular value is present or not \n",
        "\n",
        "It will return a boolean value i.e either true {if present}   or false { if not present}"
      ]
    },
    {
      "cell_type": "code",
      "metadata": {
        "id": "WkaWlQZ8BsH9",
        "colab_type": "code",
        "colab": {
          "base_uri": "https://localhost:8080/",
          "height": 35
        },
        "outputId": "6cac7cc4-3f5e-46ed-8455-1c94231cad18"
      },
      "source": [
        "'Lesson1' in a"
      ],
      "execution_count": null,
      "outputs": [
        {
          "output_type": "execute_result",
          "data": {
            "text/plain": [
              "True"
            ]
          },
          "metadata": {
            "tags": []
          },
          "execution_count": 93
        }
      ]
    },
    {
      "cell_type": "code",
      "metadata": {
        "id": "C0ZCO_LmBsGt",
        "colab_type": "code",
        "colab": {
          "base_uri": "https://localhost:8080/",
          "height": 35
        },
        "outputId": "4a68e7f1-6ef1-4995-9ba5-df1a0dc77690"
      },
      "source": [
        "'Lesson5' in a"
      ],
      "execution_count": null,
      "outputs": [
        {
          "output_type": "execute_result",
          "data": {
            "text/plain": [
              "False"
            ]
          },
          "metadata": {
            "tags": []
          },
          "execution_count": 94
        }
      ]
    },
    {
      "cell_type": "markdown",
      "metadata": {
        "id": "RMaI26o9IYNB",
        "colab_type": "text"
      },
      "source": [
        "Passing a string to set and storing result in a new variable . It will bascially break each character of the string and keep only unique characters of our string"
      ]
    },
    {
      "cell_type": "code",
      "metadata": {
        "id": "q8MgHaiCBsE-",
        "colab_type": "code",
        "colab": {}
      },
      "source": [
        "a=set('Lesson 1')"
      ],
      "execution_count": null,
      "outputs": []
    },
    {
      "cell_type": "markdown",
      "metadata": {
        "id": "hcidu40UDjqp",
        "colab_type": "text"
      },
      "source": [
        "Printing all the unique characters in a"
      ]
    },
    {
      "cell_type": "code",
      "metadata": {
        "id": "zGncltFZBsDj",
        "colab_type": "code",
        "colab": {
          "base_uri": "https://localhost:8080/",
          "height": 35
        },
        "outputId": "c6bd2fba-b989-4768-bb3d-7e66dde4a4ed"
      },
      "source": [
        "a"
      ],
      "execution_count": null,
      "outputs": [
        {
          "output_type": "execute_result",
          "data": {
            "text/plain": [
              "{' ', '1', 'L', 'e', 'n', 'o', 's'}"
            ]
          },
          "metadata": {
            "tags": []
          },
          "execution_count": 96
        }
      ]
    },
    {
      "cell_type": "code",
      "metadata": {
        "id": "8CIDFFctBsAT",
        "colab_type": "code",
        "colab": {}
      },
      "source": [
        "b=set('Lesson 2')"
      ],
      "execution_count": null,
      "outputs": []
    },
    {
      "cell_type": "markdown",
      "metadata": {
        "id": "jsE7YHwgDqyg",
        "colab_type": "text"
      },
      "source": [
        "Printing all the unique characters in b\n"
      ]
    },
    {
      "cell_type": "code",
      "metadata": {
        "id": "PRX262U-Br-3",
        "colab_type": "code",
        "colab": {
          "base_uri": "https://localhost:8080/",
          "height": 35
        },
        "outputId": "f9c77aa2-c0e4-448d-8e81-4005333ef74e"
      },
      "source": [
        "b"
      ],
      "execution_count": null,
      "outputs": [
        {
          "output_type": "execute_result",
          "data": {
            "text/plain": [
              "{' ', '2', 'L', 'e', 'n', 'o', 's'}"
            ]
          },
          "metadata": {
            "tags": []
          },
          "execution_count": 98
        }
      ]
    },
    {
      "cell_type": "markdown",
      "metadata": {
        "id": "lobmerYHCqAi",
        "colab_type": "text"
      },
      "source": [
        "Let's see what happen when we try to combine two set using **+** operator"
      ]
    },
    {
      "cell_type": "code",
      "metadata": {
        "id": "cNRZqtJKCkmY",
        "colab_type": "code",
        "colab": {
          "base_uri": "https://localhost:8080/",
          "height": 168
        },
        "outputId": "e7de5019-a018-4289-f3cc-f323c11227ad"
      },
      "source": [
        "a + b"
      ],
      "execution_count": null,
      "outputs": [
        {
          "output_type": "error",
          "ename": "TypeError",
          "evalue": "ignored",
          "traceback": [
            "\u001b[0;31m---------------------------------------------------------------------------\u001b[0m",
            "\u001b[0;31mTypeError\u001b[0m                                 Traceback (most recent call last)",
            "\u001b[0;32m<ipython-input-99-bd58363a63fc>\u001b[0m in \u001b[0;36m<module>\u001b[0;34m()\u001b[0m\n\u001b[0;32m----> 1\u001b[0;31m \u001b[0ma\u001b[0m \u001b[0;34m+\u001b[0m \u001b[0mb\u001b[0m\u001b[0;34m\u001b[0m\u001b[0;34m\u001b[0m\u001b[0m\n\u001b[0m",
            "\u001b[0;31mTypeError\u001b[0m: unsupported operand type(s) for +: 'set' and 'set'"
          ]
        }
      ]
    },
    {
      "cell_type": "markdown",
      "metadata": {
        "id": "3V3tV5BBEKNe",
        "colab_type": "text"
      },
      "source": [
        "Hence above code shows error so we to concate 2 set we will use **|** operator"
      ]
    },
    {
      "cell_type": "code",
      "metadata": {
        "id": "yZw3I5nQBr0v",
        "colab_type": "code",
        "colab": {}
      },
      "source": [
        "a | b"
      ],
      "execution_count": null,
      "outputs": []
    },
    {
      "cell_type": "markdown",
      "metadata": {
        "id": "qQRwg_a1DHRu",
        "colab_type": "text"
      },
      "source": [
        "Characters which are present in a but not in b"
      ]
    },
    {
      "cell_type": "code",
      "metadata": {
        "id": "SZ-FBYTnBr4x",
        "colab_type": "code",
        "colab": {
          "base_uri": "https://localhost:8080/",
          "height": 35
        },
        "outputId": "a999dab2-f770-4d9e-8458-db5bfbce2693"
      },
      "source": [
        "a-b"
      ],
      "execution_count": null,
      "outputs": [
        {
          "output_type": "execute_result",
          "data": {
            "text/plain": [
              "{'1'}"
            ]
          },
          "metadata": {
            "tags": []
          },
          "execution_count": 100
        }
      ]
    },
    {
      "cell_type": "markdown",
      "metadata": {
        "id": "VSBjaLbuC8kU",
        "colab_type": "text"
      },
      "source": [
        "Characters which are present in both a and b"
      ]
    },
    {
      "cell_type": "code",
      "metadata": {
        "id": "t9XDlYSqBrwh",
        "colab_type": "code",
        "colab": {
          "base_uri": "https://localhost:8080/",
          "height": 35
        },
        "outputId": "cff76b8a-e661-452a-97d8-9180625b703f"
      },
      "source": [
        "a & b"
      ],
      "execution_count": null,
      "outputs": [
        {
          "output_type": "execute_result",
          "data": {
            "text/plain": [
              "{' ', 'L', 'e', 'n', 'o', 's'}"
            ]
          },
          "metadata": {
            "tags": []
          },
          "execution_count": 101
        }
      ]
    },
    {
      "cell_type": "markdown",
      "metadata": {
        "id": "WPstQBsZCyoW",
        "colab_type": "text"
      },
      "source": [
        "Characters in both a & b but not in both"
      ]
    },
    {
      "cell_type": "code",
      "metadata": {
        "id": "FLLwDi9_Brva",
        "colab_type": "code",
        "colab": {
          "base_uri": "https://localhost:8080/",
          "height": 35
        },
        "outputId": "f2211337-8d15-4c8f-ef05-15cd06700189"
      },
      "source": [
        "a ^ b"
      ],
      "execution_count": null,
      "outputs": [
        {
          "output_type": "execute_result",
          "data": {
            "text/plain": [
              "{'1', '2'}"
            ]
          },
          "metadata": {
            "tags": []
          },
          "execution_count": 102
        }
      ]
    },
    {
      "cell_type": "code",
      "metadata": {
        "id": "LYHAn4tsBrtu",
        "colab_type": "code",
        "colab": {}
      },
      "source": [
        "c=set('Lesson 1')"
      ],
      "execution_count": null,
      "outputs": []
    },
    {
      "cell_type": "code",
      "metadata": {
        "id": "DcGu1R0iGKcC",
        "colab_type": "code",
        "colab": {
          "base_uri": "https://localhost:8080/",
          "height": 35
        },
        "outputId": "67764339-1584-481c-fb77-d6099bbf681b"
      },
      "source": [
        "c"
      ],
      "execution_count": null,
      "outputs": [
        {
          "output_type": "execute_result",
          "data": {
            "text/plain": [
              "{' ', '1', 'L', 'e', 'n', 'o', 's'}"
            ]
          },
          "metadata": {
            "tags": []
          },
          "execution_count": 104
        }
      ]
    },
    {
      "cell_type": "markdown",
      "metadata": {
        "id": "lGfECA8waKMx",
        "colab_type": "text"
      },
      "source": [
        "Iterating through set"
      ]
    },
    {
      "cell_type": "code",
      "metadata": {
        "id": "BRWXqNmgBrq7",
        "colab_type": "code",
        "colab": {
          "base_uri": "https://localhost:8080/",
          "height": 35
        },
        "outputId": "daab2aa8-69df-477b-aa89-f4895251d202"
      },
      "source": [
        "for i in c:\n",
        "  print(i,end=' ')"
      ],
      "execution_count": null,
      "outputs": [
        {
          "output_type": "stream",
          "text": [
            "s n L   1 e o "
          ],
          "name": "stdout"
        }
      ]
    },
    {
      "cell_type": "markdown",
      "metadata": {
        "id": "bAbSQc89aNV5",
        "colab_type": "text"
      },
      "source": [
        "Adding values to set"
      ]
    },
    {
      "cell_type": "code",
      "metadata": {
        "id": "0sPBNetuczI4",
        "colab_type": "code",
        "colab": {
          "base_uri": "https://localhost:8080/",
          "height": 35
        },
        "outputId": "be17c7d2-9fde-4088-f387-dd48b06449c8"
      },
      "source": [
        "c.add('Hello')\n",
        "c"
      ],
      "execution_count": null,
      "outputs": [
        {
          "output_type": "execute_result",
          "data": {
            "text/plain": [
              "{' ', '1', 'Hello', 'L', 'e', 'n', 'o', 's'}"
            ]
          },
          "metadata": {
            "tags": []
          },
          "execution_count": 106
        }
      ]
    },
    {
      "cell_type": "code",
      "metadata": {
        "id": "C91BwvLtBrpH",
        "colab_type": "code",
        "colab": {}
      },
      "source": [
        "for i in range(0,5):\n",
        "  c.add(i)"
      ],
      "execution_count": null,
      "outputs": []
    },
    {
      "cell_type": "code",
      "metadata": {
        "id": "KhJNHoWEBrnM",
        "colab_type": "code",
        "colab": {
          "base_uri": "https://localhost:8080/",
          "height": 35
        },
        "outputId": "0b6ad538-e506-488d-b908-d749023931eb"
      },
      "source": [
        "c"
      ],
      "execution_count": null,
      "outputs": [
        {
          "output_type": "execute_result",
          "data": {
            "text/plain": [
              "{' ', 0, 1, '1', 2, 3, 4, 'Hello', 'L', 'e', 'n', 'o', 's'}"
            ]
          },
          "metadata": {
            "tags": []
          },
          "execution_count": 108
        }
      ]
    },
    {
      "cell_type": "markdown",
      "metadata": {
        "id": "8BW47nh3aQxe",
        "colab_type": "text"
      },
      "source": [
        "Well to remove values from set we have 2 functions remove() and discard()\n",
        "\n",
        "Let's see both of them one by one and why we use discard() over remove()"
      ]
    },
    {
      "cell_type": "markdown",
      "metadata": {
        "id": "M1cw3SBPajuc",
        "colab_type": "text"
      },
      "source": [
        "*    <h2>remove()<h2>\n",
        "\n",
        "This function recieves the value to be deleted from the set\n",
        "\n",
        "for eg:-\n",
        "\n",
        "a={1,2,3,4,5,'H','L'}\n",
        "\n",
        "a.remove(1)\n",
        "\n",
        "After removal of value 1 our set will be:- a= {2,3,4,5,'H','L'}\n",
        "\n",
        "a.remove('H')\n",
        "\n",
        "Now our set will be a={2,3,4,5,'L'}"
      ]
    },
    {
      "cell_type": "code",
      "metadata": {
        "id": "JBdUgn9hbwsz",
        "colab_type": "code",
        "colab": {
          "base_uri": "https://localhost:8080/",
          "height": 35
        },
        "outputId": "2b080cf4-79cf-45e2-87af-70c78a317928"
      },
      "source": [
        "c"
      ],
      "execution_count": null,
      "outputs": [
        {
          "output_type": "execute_result",
          "data": {
            "text/plain": [
              "{' ', 0, 1, '1', 2, 3, 4, 'Hello', 'L', 'e', 'n', 'o', 's'}"
            ]
          },
          "metadata": {
            "tags": []
          },
          "execution_count": 109
        }
      ]
    },
    {
      "cell_type": "code",
      "metadata": {
        "id": "zMXErrYVBrlN",
        "colab_type": "code",
        "colab": {}
      },
      "source": [
        "c.remove(0)"
      ],
      "execution_count": null,
      "outputs": []
    },
    {
      "cell_type": "code",
      "metadata": {
        "id": "C5ZzmjvxBrjr",
        "colab_type": "code",
        "colab": {
          "base_uri": "https://localhost:8080/",
          "height": 35
        },
        "outputId": "2636eeac-6bec-448b-a3b0-d51224542867"
      },
      "source": [
        "c"
      ],
      "execution_count": null,
      "outputs": [
        {
          "output_type": "execute_result",
          "data": {
            "text/plain": [
              "{' ', 1, '1', 2, 3, 4, 'Hello', 'L', 'e', 'n', 'o', 's'}"
            ]
          },
          "metadata": {
            "tags": []
          },
          "execution_count": 111
        }
      ]
    },
    {
      "cell_type": "code",
      "metadata": {
        "id": "WvjSraXnBrhx",
        "colab_type": "code",
        "colab": {}
      },
      "source": [
        "c.remove('o')"
      ],
      "execution_count": null,
      "outputs": []
    },
    {
      "cell_type": "code",
      "metadata": {
        "id": "3E3wLZIlHBgW",
        "colab_type": "code",
        "colab": {
          "base_uri": "https://localhost:8080/",
          "height": 35
        },
        "outputId": "9f164dd1-35d8-4a74-d65d-b4f1d3a1d4a4"
      },
      "source": [
        "c"
      ],
      "execution_count": null,
      "outputs": [
        {
          "output_type": "execute_result",
          "data": {
            "text/plain": [
              "{' ', 1, '1', 2, 3, 4, 'Hello', 'L', 'e', 'n', 's'}"
            ]
          },
          "metadata": {
            "tags": []
          },
          "execution_count": 113
        }
      ]
    },
    {
      "cell_type": "markdown",
      "metadata": {
        "id": "W15Fn4zNba1E",
        "colab_type": "text"
      },
      "source": [
        "Removing value which is not present it will give an error"
      ]
    },
    {
      "cell_type": "code",
      "metadata": {
        "id": "bqpr6PUdbevF",
        "colab_type": "code",
        "colab": {
          "base_uri": "https://localhost:8080/",
          "height": 168
        },
        "outputId": "9c2568a8-3e9b-48d6-a713-0ce67790bffe"
      },
      "source": [
        "c.remove('a')"
      ],
      "execution_count": null,
      "outputs": [
        {
          "output_type": "error",
          "ename": "KeyError",
          "evalue": "ignored",
          "traceback": [
            "\u001b[0;31m---------------------------------------------------------------------------\u001b[0m",
            "\u001b[0;31mKeyError\u001b[0m                                  Traceback (most recent call last)",
            "\u001b[0;32m<ipython-input-114-79ba6b4e5a55>\u001b[0m in \u001b[0;36m<module>\u001b[0;34m()\u001b[0m\n\u001b[0;32m----> 1\u001b[0;31m \u001b[0mc\u001b[0m\u001b[0;34m.\u001b[0m\u001b[0mremove\u001b[0m\u001b[0;34m(\u001b[0m\u001b[0;34m'a'\u001b[0m\u001b[0;34m)\u001b[0m\u001b[0;34m\u001b[0m\u001b[0;34m\u001b[0m\u001b[0m\n\u001b[0m",
            "\u001b[0;31mKeyError\u001b[0m: 'a'"
          ]
        }
      ]
    },
    {
      "cell_type": "markdown",
      "metadata": {
        "id": "2kGcOd5JbiND",
        "colab_type": "text"
      },
      "source": [
        "So to avoid this error we will use discard() function"
      ]
    },
    {
      "cell_type": "markdown",
      "metadata": {
        "id": "SQVeYCFIammE",
        "colab_type": "text"
      },
      "source": [
        "*    <h2>discard()<h2>\n",
        "\n",
        "This function also recieves the value to be deleted from the set\n",
        "\n",
        "for eg:-\n",
        "\n",
        "a={1,2,3,4,5,'H','L'}\n",
        "\n",
        "a.remove(1)\n",
        "\n",
        "After removal of value 1 our set will be:- a= {2,3,4,5,'H','L'}\n",
        "\n",
        "a.remove('H')\n",
        "\n",
        "Now our set will be a={2,3,4,5,'L'}"
      ]
    },
    {
      "cell_type": "code",
      "metadata": {
        "id": "1AECcvrpbvk5",
        "colab_type": "code",
        "colab": {
          "base_uri": "https://localhost:8080/",
          "height": 35
        },
        "outputId": "3d906e3b-1f4d-4f28-dc28-4f423eac004c"
      },
      "source": [
        "c"
      ],
      "execution_count": null,
      "outputs": [
        {
          "output_type": "execute_result",
          "data": {
            "text/plain": [
              "{' ', 1, '1', 2, 3, 4, 'Hello', 'L', 'e', 'n', 's'}"
            ]
          },
          "metadata": {
            "tags": []
          },
          "execution_count": 115
        }
      ]
    },
    {
      "cell_type": "code",
      "metadata": {
        "id": "xAedbBcuBrfS",
        "colab_type": "code",
        "colab": {}
      },
      "source": [
        "c.discard(4)"
      ],
      "execution_count": null,
      "outputs": []
    },
    {
      "cell_type": "code",
      "metadata": {
        "id": "uAhnfupoBrc8",
        "colab_type": "code",
        "colab": {
          "base_uri": "https://localhost:8080/",
          "height": 35
        },
        "outputId": "8ebc602f-66a9-4c89-c604-e2ceaed8324e"
      },
      "source": [
        "c"
      ],
      "execution_count": null,
      "outputs": [
        {
          "output_type": "execute_result",
          "data": {
            "text/plain": [
              "{' ', 1, '1', 2, 3, 'Hello', 'L', 'e', 'n', 's'}"
            ]
          },
          "metadata": {
            "tags": []
          },
          "execution_count": 117
        }
      ]
    },
    {
      "cell_type": "code",
      "metadata": {
        "id": "qHB_VyDhHHGE",
        "colab_type": "code",
        "colab": {}
      },
      "source": [
        "c.discard(4)"
      ],
      "execution_count": null,
      "outputs": []
    },
    {
      "cell_type": "markdown",
      "metadata": {
        "id": "QoINS1Zvb7S6",
        "colab_type": "text"
      },
      "source": [
        "In the above code as value 4 is not present in our set and we are trying to remove hence it doesn't give any error unlike remove() function"
      ]
    },
    {
      "cell_type": "code",
      "metadata": {
        "id": "f60jTIPJHMcD",
        "colab_type": "code",
        "colab": {
          "base_uri": "https://localhost:8080/",
          "height": 35
        },
        "outputId": "9fbf5538-087e-41ea-e544-d565798e08dc"
      },
      "source": [
        "c"
      ],
      "execution_count": null,
      "outputs": [
        {
          "output_type": "execute_result",
          "data": {
            "text/plain": [
              "{' ', 1, '1', 2, 3, 'Hello', 'L', 'e', 'n', 's'}"
            ]
          },
          "metadata": {
            "tags": []
          },
          "execution_count": 119
        }
      ]
    },
    {
      "cell_type": "code",
      "metadata": {
        "id": "5liDk2NaayiZ",
        "colab_type": "code",
        "colab": {
          "base_uri": "https://localhost:8080/",
          "height": 168
        },
        "outputId": "c5d36e8e-0036-45cd-d6c1-9116c5281557"
      },
      "source": [
        "c[0]"
      ],
      "execution_count": null,
      "outputs": [
        {
          "output_type": "error",
          "ename": "TypeError",
          "evalue": "ignored",
          "traceback": [
            "\u001b[0;31m---------------------------------------------------------------------------\u001b[0m",
            "\u001b[0;31mTypeError\u001b[0m                                 Traceback (most recent call last)",
            "\u001b[0;32m<ipython-input-120-71463270cd6c>\u001b[0m in \u001b[0;36m<module>\u001b[0;34m()\u001b[0m\n\u001b[0;32m----> 1\u001b[0;31m \u001b[0mc\u001b[0m\u001b[0;34m[\u001b[0m\u001b[0;36m0\u001b[0m\u001b[0;34m]\u001b[0m\u001b[0;34m\u001b[0m\u001b[0;34m\u001b[0m\u001b[0m\n\u001b[0m",
            "\u001b[0;31mTypeError\u001b[0m: 'set' object does not support indexing"
          ]
        }
      ]
    },
    {
      "cell_type": "markdown",
      "metadata": {
        "id": "iHbnZaoLAuPf",
        "colab_type": "text"
      },
      "source": [
        "# Dictionary\n",
        "\n",
        "\n",
        "It is best to think of a dictionary as a set of lock: key pairs, with the requirement that the keys are unique (within one dictionary). A pair of braces creates an empty dictionary: {}. Placing a comma-separated list of lock: key pairs within the braces adds initial lock: key pairs to the dictionary; this is also the way dictionaries are written on output.\n",
        "\n",
        "The main operations on a dictionary are storing a value with some key and extracting the value given the key. \n",
        "\n",
        "syntax:- a={lock:key , lock:key }\n",
        "\n",
        "for eg:- a={'A':0,'B':1}\n",
        "\n",
        "Here A is the lock and 0 is the key for it and B is the another lock and 1 is the key for it\n"
      ]
    },
    {
      "cell_type": "markdown",
      "metadata": {
        "id": "8_10svY-bkM3",
        "colab_type": "text"
      },
      "source": [
        "Defining dictionary "
      ]
    },
    {
      "cell_type": "code",
      "metadata": {
        "id": "BEd_B8vbAtbz",
        "colab_type": "code",
        "colab": {}
      },
      "source": [
        "a={'Chetan': 1 , 'Ankit': 2 , 'Vaibhav':3}"
      ],
      "execution_count": null,
      "outputs": []
    },
    {
      "cell_type": "markdown",
      "metadata": {
        "id": "ziT31b-5bJdC",
        "colab_type": "text"
      },
      "source": [
        "Printing key value for a particular lock "
      ]
    },
    {
      "cell_type": "code",
      "metadata": {
        "id": "u_deeY-3y5Nd",
        "colab_type": "code",
        "colab": {
          "base_uri": "https://localhost:8080/",
          "height": 35
        },
        "outputId": "2d12ef00-a662-43a2-ff01-279d3496e054"
      },
      "source": [
        "a['Ankit']"
      ],
      "execution_count": null,
      "outputs": [
        {
          "output_type": "execute_result",
          "data": {
            "text/plain": [
              "2"
            ]
          },
          "metadata": {
            "tags": []
          },
          "execution_count": 136
        }
      ]
    },
    {
      "cell_type": "code",
      "metadata": {
        "id": "dwbeodA-y5Lq",
        "colab_type": "code",
        "colab": {
          "base_uri": "https://localhost:8080/",
          "height": 35
        },
        "outputId": "6ad24a78-889f-4272-b9f5-08bdf9b9fc72"
      },
      "source": [
        "a['Vaibhav']"
      ],
      "execution_count": null,
      "outputs": [
        {
          "output_type": "execute_result",
          "data": {
            "text/plain": [
              "3"
            ]
          },
          "metadata": {
            "tags": []
          },
          "execution_count": 137
        }
      ]
    },
    {
      "cell_type": "markdown",
      "metadata": {
        "id": "hZV6gXXjb40Q",
        "colab_type": "text"
      },
      "source": [
        "Deleting a set of lock and key by passing the lock value\n",
        "\n",
        "for eg:-\n",
        "\n",
        "a={'Chetan': 1 , 'Ankit': 2 , 'Vaibhav':3}\n",
        "\n",
        "del a['lock_value'] \n",
        "\n",
        "del a['Chetan]\n",
        "\n",
        "a={ 'Ankit': 2 , 'Vaibhav':3}"
      ]
    },
    {
      "cell_type": "code",
      "metadata": {
        "id": "v9ZPDY8Ay5Hr",
        "colab_type": "code",
        "colab": {}
      },
      "source": [
        "del a['Ankit']"
      ],
      "execution_count": null,
      "outputs": []
    },
    {
      "cell_type": "code",
      "metadata": {
        "id": "UUcElUJ8cUD6",
        "colab_type": "code",
        "colab": {
          "base_uri": "https://localhost:8080/",
          "height": 35
        },
        "outputId": "068d3462-f0b5-4473-9f4a-d3de6f6c74da"
      },
      "source": [
        "a"
      ],
      "execution_count": null,
      "outputs": [
        {
          "output_type": "execute_result",
          "data": {
            "text/plain": [
              "{'Chetan': 1, 'Vaibhav': 3}"
            ]
          },
          "metadata": {
            "tags": []
          },
          "execution_count": 139
        }
      ]
    },
    {
      "cell_type": "markdown",
      "metadata": {
        "id": "frHIUnx1b-1E",
        "colab_type": "text"
      },
      "source": [
        "Deleting the complete dictionary"
      ]
    },
    {
      "cell_type": "code",
      "metadata": {
        "id": "LW7822Ng13hx",
        "colab_type": "code",
        "colab": {}
      },
      "source": [
        "del(a)"
      ],
      "execution_count": null,
      "outputs": []
    },
    {
      "cell_type": "code",
      "metadata": {
        "id": "_EF3WPbC2JLr",
        "colab_type": "code",
        "colab": {
          "base_uri": "https://localhost:8080/",
          "height": 168
        },
        "outputId": "761bf3e0-4143-4639-8921-ad76be471f0e"
      },
      "source": [
        "a"
      ],
      "execution_count": null,
      "outputs": [
        {
          "output_type": "error",
          "ename": "NameError",
          "evalue": "ignored",
          "traceback": [
            "\u001b[0;31m---------------------------------------------------------------------------\u001b[0m",
            "\u001b[0;31mNameError\u001b[0m                                 Traceback (most recent call last)",
            "\u001b[0;32m<ipython-input-141-3f786850e387>\u001b[0m in \u001b[0;36m<module>\u001b[0;34m()\u001b[0m\n\u001b[0;32m----> 1\u001b[0;31m \u001b[0ma\u001b[0m\u001b[0;34m\u001b[0m\u001b[0;34m\u001b[0m\u001b[0m\n\u001b[0m",
            "\u001b[0;31mNameError\u001b[0m: name 'a' is not defined"
          ]
        }
      ]
    },
    {
      "cell_type": "code",
      "metadata": {
        "id": "fcn99Hv5141n",
        "colab_type": "code",
        "colab": {}
      },
      "source": [
        "a={'Chetan': 1 , 'Ankit': 2 , 'Vaibhav':3}"
      ],
      "execution_count": null,
      "outputs": []
    },
    {
      "cell_type": "markdown",
      "metadata": {
        "id": "NyzN_puHfkaK",
        "colab_type": "text"
      },
      "source": [
        "Adding new lock and key values in our dictionary"
      ]
    },
    {
      "cell_type": "code",
      "metadata": {
        "id": "VW-rwQ-de-Ho",
        "colab_type": "code",
        "colab": {}
      },
      "source": [
        "a['Arnav']=6"
      ],
      "execution_count": null,
      "outputs": []
    },
    {
      "cell_type": "code",
      "metadata": {
        "id": "Xhr9E_0ly5D2",
        "colab_type": "code",
        "colab": {
          "base_uri": "https://localhost:8080/",
          "height": 35
        },
        "outputId": "356397c9-7130-4f7b-eb03-3931d4d4491b"
      },
      "source": [
        "a"
      ],
      "execution_count": null,
      "outputs": [
        {
          "output_type": "execute_result",
          "data": {
            "text/plain": [
              "{'Ankit': 2, 'Arnav': 6, 'Chetan': 1, 'Vaibhav': 3}"
            ]
          },
          "metadata": {
            "tags": []
          },
          "execution_count": 144
        }
      ]
    },
    {
      "cell_type": "markdown",
      "metadata": {
        "id": "Qs0tvRlTcXY-",
        "colab_type": "text"
      },
      "source": [
        "Changing the key value for a particular lock \n"
      ]
    },
    {
      "cell_type": "code",
      "metadata": {
        "id": "KwbvCjwuy5Br",
        "colab_type": "code",
        "colab": {}
      },
      "source": [
        "a['Ankit']=4"
      ],
      "execution_count": null,
      "outputs": []
    },
    {
      "cell_type": "code",
      "metadata": {
        "id": "185TwUsSy4-8",
        "colab_type": "code",
        "colab": {
          "base_uri": "https://localhost:8080/",
          "height": 35
        },
        "outputId": "f8bffda5-b8d3-4cd6-c37f-c5de4557b3a2"
      },
      "source": [
        "a"
      ],
      "execution_count": null,
      "outputs": [
        {
          "output_type": "execute_result",
          "data": {
            "text/plain": [
              "{'Ankit': 4, 'Arnav': 6, 'Chetan': 1, 'Vaibhav': 3}"
            ]
          },
          "metadata": {
            "tags": []
          },
          "execution_count": 146
        }
      ]
    },
    {
      "cell_type": "code",
      "metadata": {
        "id": "CrL1ejyK1bZF",
        "colab_type": "code",
        "colab": {}
      },
      "source": [
        "a['Chetan']=5"
      ],
      "execution_count": null,
      "outputs": []
    },
    {
      "cell_type": "code",
      "metadata": {
        "id": "tqzkglYZ1gYo",
        "colab_type": "code",
        "colab": {
          "base_uri": "https://localhost:8080/",
          "height": 35
        },
        "outputId": "53b7cb0f-5685-43b2-a927-33ef009341ee"
      },
      "source": [
        "a"
      ],
      "execution_count": null,
      "outputs": [
        {
          "output_type": "execute_result",
          "data": {
            "text/plain": [
              "{'Ankit': 4, 'Arnav': 6, 'Chetan': 5, 'Vaibhav': 3}"
            ]
          },
          "metadata": {
            "tags": []
          },
          "execution_count": 148
        }
      ]
    },
    {
      "cell_type": "markdown",
      "metadata": {
        "id": "0H-skgZsdBbZ",
        "colab_type": "text"
      },
      "source": [
        "Getting all the lock value in the form of list by passing the dictionary in list() function\n",
        "\n",
        "for Eg:- \n",
        "a={'Chetan': 1 , 'Ankit': 2 , 'Vaibhav':3}\n",
        "\n",
        "b=list(a)\n",
        "\n",
        "b=['Chetan','Ankit','Vaibhav']"
      ]
    },
    {
      "cell_type": "code",
      "metadata": {
        "id": "t1FBW1Miy49L",
        "colab_type": "code",
        "colab": {
          "base_uri": "https://localhost:8080/",
          "height": 35
        },
        "outputId": "5e1f5ade-3ea6-48f6-e2ac-5b25db80c165"
      },
      "source": [
        "b=list(a)\n",
        "b"
      ],
      "execution_count": null,
      "outputs": [
        {
          "output_type": "execute_result",
          "data": {
            "text/plain": [
              "['Chetan', 'Ankit', 'Vaibhav', 'Arnav']"
            ]
          },
          "metadata": {
            "tags": []
          },
          "execution_count": 149
        }
      ]
    },
    {
      "cell_type": "markdown",
      "metadata": {
        "id": "Lh_QyXYrdhf7",
        "colab_type": "text"
      },
      "source": [
        "Checking a particular lock is present in the dictionary or not\n",
        "\n",
        "It will return boolen value i.e true{if_value_is_present_} and false{if_value_is_not_present}"
      ]
    },
    {
      "cell_type": "code",
      "metadata": {
        "id": "8bTAL8Dhy46J",
        "colab_type": "code",
        "colab": {
          "base_uri": "https://localhost:8080/",
          "height": 35
        },
        "outputId": "6aec13c2-f289-4f7d-81a8-e3666ba4dbfe"
      },
      "source": [
        "'Vaibhav' in a"
      ],
      "execution_count": null,
      "outputs": [
        {
          "output_type": "execute_result",
          "data": {
            "text/plain": [
              "True"
            ]
          },
          "metadata": {
            "tags": []
          },
          "execution_count": 150
        }
      ]
    },
    {
      "cell_type": "code",
      "metadata": {
        "id": "wXcTfWiszwx0",
        "colab_type": "code",
        "colab": {
          "base_uri": "https://localhost:8080/",
          "height": 35
        },
        "outputId": "afc21172-13df-4346-fe7e-3a0f4a2d8eae"
      },
      "source": [
        "'Cheeta' in a"
      ],
      "execution_count": null,
      "outputs": [
        {
          "output_type": "execute_result",
          "data": {
            "text/plain": [
              "False"
            ]
          },
          "metadata": {
            "tags": []
          },
          "execution_count": 151
        }
      ]
    },
    {
      "cell_type": "code",
      "metadata": {
        "id": "51IgrNKiy445",
        "colab_type": "code",
        "colab": {
          "base_uri": "https://localhost:8080/",
          "height": 35
        },
        "outputId": "587530d6-49e4-478a-b066-e64723ce8af6"
      },
      "source": [
        "'Cheeta' not in a"
      ],
      "execution_count": null,
      "outputs": [
        {
          "output_type": "execute_result",
          "data": {
            "text/plain": [
              "True"
            ]
          },
          "metadata": {
            "tags": []
          },
          "execution_count": 152
        }
      ]
    },
    {
      "cell_type": "markdown",
      "metadata": {
        "id": "iOrMQsandusn",
        "colab_type": "text"
      },
      "source": [
        "Another short way of creating a dictionary"
      ]
    },
    {
      "cell_type": "code",
      "metadata": {
        "id": "9SD7k68Ny43Y",
        "colab_type": "code",
        "colab": {}
      },
      "source": [
        "b={x: x**2 for x in (2, 4, 6)}"
      ],
      "execution_count": null,
      "outputs": []
    },
    {
      "cell_type": "code",
      "metadata": {
        "id": "SyFJpev-y413",
        "colab_type": "code",
        "colab": {
          "base_uri": "https://localhost:8080/",
          "height": 35
        },
        "outputId": "ad3bc383-ce99-4160-b256-646ca0d0f589"
      },
      "source": [
        "b"
      ],
      "execution_count": null,
      "outputs": [
        {
          "output_type": "execute_result",
          "data": {
            "text/plain": [
              "{2: 4, 4: 16, 6: 36}"
            ]
          },
          "metadata": {
            "tags": []
          },
          "execution_count": 154
        }
      ]
    },
    {
      "cell_type": "markdown",
      "metadata": {
        "id": "KW4ugVj9d60F",
        "colab_type": "text"
      },
      "source": [
        "When the keys are simple strings, it is sometimes easier to specify pairs using keyword arguments:"
      ]
    },
    {
      "cell_type": "code",
      "metadata": {
        "id": "sDx5bP-ty4tE",
        "colab_type": "code",
        "colab": {}
      },
      "source": [
        "a=dict(Vipul=1,Anshul=2,Vaibhav=3)"
      ],
      "execution_count": null,
      "outputs": []
    },
    {
      "cell_type": "code",
      "metadata": {
        "id": "OyQ7RLLVy4pF",
        "colab_type": "code",
        "colab": {
          "base_uri": "https://localhost:8080/",
          "height": 35
        },
        "outputId": "61aec4cf-ce83-4aa4-f205-1fb541ff8a71"
      },
      "source": [
        "a"
      ],
      "execution_count": null,
      "outputs": [
        {
          "output_type": "execute_result",
          "data": {
            "text/plain": [
              "{'Anshul': 2, 'Vaibhav': 3, 'Vipul': 1}"
            ]
          },
          "metadata": {
            "tags": []
          },
          "execution_count": 156
        }
      ]
    },
    {
      "cell_type": "markdown",
      "metadata": {
        "id": "B-eAk-wAd4Ka",
        "colab_type": "text"
      },
      "source": [
        "Iterating over our dictionary"
      ]
    },
    {
      "cell_type": "markdown",
      "metadata": {
        "id": "jffHUFIAeBGE",
        "colab_type": "text"
      },
      "source": [
        "*    Printing only our lock values"
      ]
    },
    {
      "cell_type": "code",
      "metadata": {
        "id": "qKJj3Ms-1kWl",
        "colab_type": "code",
        "colab": {
          "base_uri": "https://localhost:8080/",
          "height": 70
        },
        "outputId": "1cf478f8-56db-4ded-fc84-849c0d5141f7"
      },
      "source": [
        "for i in a:\n",
        "  print(i)"
      ],
      "execution_count": null,
      "outputs": [
        {
          "output_type": "stream",
          "text": [
            "Vipul\n",
            "Anshul\n",
            "Vaibhav\n"
          ],
          "name": "stdout"
        }
      ]
    },
    {
      "cell_type": "markdown",
      "metadata": {
        "id": "H9WLoWqseFXv",
        "colab_type": "text"
      },
      "source": [
        "*    Printing only key values"
      ]
    },
    {
      "cell_type": "code",
      "metadata": {
        "id": "oiC71Mwn1u_b",
        "colab_type": "code",
        "colab": {
          "base_uri": "https://localhost:8080/",
          "height": 70
        },
        "outputId": "65ba6282-63d3-4b1e-c7e7-abd2ec5c84e1"
      },
      "source": [
        "for i in a:\n",
        "  print(a[i])"
      ],
      "execution_count": null,
      "outputs": [
        {
          "output_type": "stream",
          "text": [
            "1\n",
            "2\n",
            "3\n"
          ],
          "name": "stdout"
        }
      ]
    },
    {
      "cell_type": "markdown",
      "metadata": {
        "id": "z7efK18_eIlP",
        "colab_type": "text"
      },
      "source": [
        "*    Printing both the lock and key values"
      ]
    },
    {
      "cell_type": "code",
      "metadata": {
        "id": "3YIh-TiI1nVv",
        "colab_type": "code",
        "colab": {
          "base_uri": "https://localhost:8080/",
          "height": 70
        },
        "outputId": "ac99b235-a9bf-463a-8033-4ea3915517e2"
      },
      "source": [
        "for i in a:\n",
        "  print(i,a [i] ,end=' ')\n",
        "  print('')"
      ],
      "execution_count": null,
      "outputs": [
        {
          "output_type": "stream",
          "text": [
            "Vipul 1 \n",
            "Anshul 2 \n",
            "Vaibhav 3 \n"
          ],
          "name": "stdout"
        }
      ]
    },
    {
      "cell_type": "markdown",
      "metadata": {
        "id": "P-LnHJeJAzHr",
        "colab_type": "text"
      },
      "source": [
        "# Looping techniques"
      ]
    },
    {
      "cell_type": "markdown",
      "metadata": {
        "id": "BU28RBN82s7K",
        "colab_type": "text"
      },
      "source": [
        "We can Loop through both keys and values in dictionary by using the items() keyword\n",
        "\n",
        "for eg:-\n",
        "\n",
        "new_list={'a':'b' , 'c':'d' }\n",
        "\n",
        "for i,j in new_list.items():\n",
        "\n",
        "  print(i,j)\n",
        "\n",
        "In the above example i will point to a & c and j will point to b & d.\n"
      ]
    },
    {
      "cell_type": "code",
      "metadata": {
        "id": "xVmanylZA0Gd",
        "colab_type": "code",
        "colab": {
          "base_uri": "https://localhost:8080/",
          "height": 70
        },
        "outputId": "fcc2183e-edad-470e-c39d-da902a08a927"
      },
      "source": [
        "a = {'Coding': 'Sites', 'Bread': 'Butter', 'Pen':'Pencil'}\n",
        "for k, v in a.items():\n",
        "  print(k,v)"
      ],
      "execution_count": null,
      "outputs": [
        {
          "output_type": "stream",
          "text": [
            "Coding Sites\n",
            "Bread Butter\n",
            "Pen Pencil\n"
          ],
          "name": "stdout"
        }
      ]
    },
    {
      "cell_type": "markdown",
      "metadata": {
        "id": "S5uj3_HE2zfy",
        "colab_type": "text"
      },
      "source": [
        "When looping through a sequence, the position index and corresponding value can be retrieved at the same time using the enumerate() function."
      ]
    },
    {
      "cell_type": "markdown",
      "metadata": {
        "id": "6F-lWBi79kiE",
        "colab_type": "text"
      },
      "source": [
        "*    List"
      ]
    },
    {
      "cell_type": "code",
      "metadata": {
        "id": "StLgLtQw2pWC",
        "colab_type": "code",
        "colab": {
          "base_uri": "https://localhost:8080/",
          "height": 70
        },
        "outputId": "59194d7f-818f-417c-d545-c0f1f788ef41"
      },
      "source": [
        "a=['tic', 'tac', 'toe']\n",
        "for i,j in enumerate(a):\n",
        "  print(i,j,end=' ')\n",
        "  print('')"
      ],
      "execution_count": null,
      "outputs": [
        {
          "output_type": "stream",
          "text": [
            "0 tic \n",
            "1 tac \n",
            "2 toe \n"
          ],
          "name": "stdout"
        }
      ]
    },
    {
      "cell_type": "markdown",
      "metadata": {
        "id": "qWv0-HO19max",
        "colab_type": "text"
      },
      "source": [
        "*     Set"
      ]
    },
    {
      "cell_type": "code",
      "metadata": {
        "id": "x1gNC0DU8MaX",
        "colab_type": "code",
        "colab": {
          "base_uri": "https://localhost:8080/",
          "height": 88
        },
        "outputId": "3ed0b3d4-edc7-4f2c-93ae-4380acf89e53"
      },
      "source": [
        "a={'apple', 'orange', 'apple', 'pear', 'orange', 'banana'}\n",
        "for i,j in enumerate(a):\n",
        "  print(i,j,end=' ')\n",
        "  print('')"
      ],
      "execution_count": null,
      "outputs": [
        {
          "output_type": "stream",
          "text": [
            "0 orange \n",
            "1 pear \n",
            "2 banana \n",
            "3 apple \n"
          ],
          "name": "stdout"
        }
      ]
    },
    {
      "cell_type": "markdown",
      "metadata": {
        "id": "Nx9EcfG59oBh",
        "colab_type": "text"
      },
      "source": [
        "*    Dictionary"
      ]
    },
    {
      "cell_type": "markdown",
      "metadata": {
        "id": "5rAD0emr9p1H",
        "colab_type": "text"
      },
      "source": [
        "In dictionary with the help of using items() keyword we can print both key and value.\n",
        "\n",
        "By using the enumerate function and passing the dictionary with the items() keyword it will return a tuple and we can access the key value value pair by using theindexing"
      ]
    },
    {
      "cell_type": "code",
      "metadata": {
        "id": "j3djEkp48rn3",
        "colab_type": "code",
        "colab": {
          "base_uri": "https://localhost:8080/",
          "height": 70
        },
        "outputId": "a8e18413-3467-408c-f3d7-6060d944c22f"
      },
      "source": [
        "a={'Chetan': 1 , 'Ankit': 2 , 'Vaibhav':3}\n",
        "for i,j in enumerate(a.items()):\n",
        "  print(i,j[0],j[1])"
      ],
      "execution_count": null,
      "outputs": [
        {
          "output_type": "stream",
          "text": [
            "0 Chetan 1\n",
            "1 Ankit 2\n",
            "2 Vaibhav 3\n"
          ],
          "name": "stdout"
        }
      ]
    },
    {
      "cell_type": "markdown",
      "metadata": {
        "id": "ctHWYNm63HK0",
        "colab_type": "text"
      },
      "source": [
        "To loop over two or more sequences at the same time, the entries can be paired with the zip() function"
      ]
    },
    {
      "cell_type": "code",
      "metadata": {
        "id": "DjzzA1lV3Ab3",
        "colab_type": "code",
        "colab": {
          "base_uri": "https://localhost:8080/",
          "height": 106
        },
        "outputId": "34f55ce2-0299-46a9-c099-5fe32f09b3ae"
      },
      "source": [
        "a = [1,2,3,4,5]\n",
        "b = [1,4,9,16,25]\n",
        "c = [1,8,27,64,125] \n",
        "for x,y,z in zip(a,b,c):\n",
        "  print(x,y,z)"
      ],
      "execution_count": null,
      "outputs": [
        {
          "output_type": "stream",
          "text": [
            "1 1 1\n",
            "2 4 8\n",
            "3 9 27\n",
            "4 16 64\n",
            "5 25 125\n"
          ],
          "name": "stdout"
        }
      ]
    },
    {
      "cell_type": "markdown",
      "metadata": {
        "id": "HyrxrpNKAn5i",
        "colab_type": "text"
      },
      "source": [
        "# Bold text"
      ]
    },
    {
      "cell_type": "markdown",
      "metadata": {
        "id": "JqlptP6Q4qe0",
        "colab_type": "text"
      },
      "source": [
        "<h6>In this we will learn how to output bold text in python. Well we are having a lot of different ways to print bold text in python you can choose any of them which suits you better"
      ]
    },
    {
      "cell_type": "markdown",
      "metadata": {
        "id": "BCAYm5_2597s",
        "colab_type": "text"
      },
      "source": [
        "1st method"
      ]
    },
    {
      "cell_type": "code",
      "metadata": {
        "id": "3DLuTteNApA9",
        "colab_type": "code",
        "colab": {}
      },
      "source": [
        "a_string = \"End of lesson 4\"\n",
        "bolded_string = \"\\033[1m\" + a_string + \"\\033[0m\""
      ],
      "execution_count": null,
      "outputs": []
    },
    {
      "cell_type": "code",
      "metadata": {
        "id": "UaBR97614JSr",
        "colab_type": "code",
        "colab": {
          "base_uri": "https://localhost:8080/",
          "height": 35
        },
        "outputId": "53292bf2-31e1-4782-e413-3d419f50311e"
      },
      "source": [
        "print(bolded_string )"
      ],
      "execution_count": null,
      "outputs": [
        {
          "output_type": "stream",
          "text": [
            "\u001b[1mEnd of lesson 4\u001b[0m\n"
          ],
          "name": "stdout"
        }
      ]
    },
    {
      "cell_type": "markdown",
      "metadata": {
        "id": "WZR38XGz6APZ",
        "colab_type": "text"
      },
      "source": [
        "2nd method"
      ]
    },
    {
      "cell_type": "code",
      "metadata": {
        "id": "-jDNGwOU4mP3",
        "colab_type": "code",
        "colab": {
          "base_uri": "https://localhost:8080/",
          "height": 35
        },
        "outputId": "8d1a9e85-d933-4264-cc43-d5466fce1bf7"
      },
      "source": [
        "!pip install termcolor"
      ],
      "execution_count": null,
      "outputs": [
        {
          "output_type": "stream",
          "text": [
            "Requirement already satisfied: termcolor in /usr/local/lib/python3.6/dist-packages (1.1.0)\n"
          ],
          "name": "stdout"
        }
      ]
    },
    {
      "cell_type": "code",
      "metadata": {
        "id": "GIDm5vgB5qlh",
        "colab_type": "code",
        "colab": {
          "base_uri": "https://localhost:8080/",
          "height": 35
        },
        "outputId": "6039e2c6-3267-4fd6-bb7b-0808bbf4cdeb"
      },
      "source": [
        "from termcolor import colored\n",
        "print(colored('End of leeson 4', attrs=['bold']))"
      ],
      "execution_count": null,
      "outputs": [
        {
          "output_type": "stream",
          "text": [
            "\u001b[1mEnd of leeson 4\u001b[0m\n"
          ],
          "name": "stdout"
        }
      ]
    },
    {
      "cell_type": "code",
      "metadata": {
        "id": "9xPlzWqJgpyr",
        "colab_type": "code",
        "colab": {}
      },
      "source": [
        ""
      ],
      "execution_count": null,
      "outputs": []
    }
  ]
}