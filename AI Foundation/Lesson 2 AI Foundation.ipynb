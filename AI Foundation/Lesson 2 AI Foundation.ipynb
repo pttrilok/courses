{
  "nbformat": 4,
  "nbformat_minor": 0,
  "metadata": {
    "colab": {
      "name": "Lesson 2 AI Foundation",
      "provenance": [],
      "collapsed_sections": [
        "vPXmKZdUrvXW",
        "jk3qk5twKeEW",
        "5lDrsXbV9UXy"
      ],
      "include_colab_link": true
    },
    "kernelspec": {
      "name": "python3",
      "display_name": "Python 3"
    }
  },
  "cells": [
    {
      "cell_type": "markdown",
      "metadata": {
        "id": "view-in-github",
        "colab_type": "text"
      },
      "source": [
        "<a href=\"https://colab.research.google.com/github/pttrilok/courses/blob/master/AI%20Foundation/Lesson%202%20AI%20Foundation.ipynb\" target=\"_parent\"><img src=\"https://colab.research.google.com/assets/colab-badge.svg\" alt=\"Open In Colab\"/></a>"
      ]
    },
    {
      "cell_type": "markdown",
      "metadata": {
        "id": "jCDbu-75jfiR",
        "colab_type": "text"
      },
      "source": [
        "In this Module we will be studying about the following topics :\n",
        "\n",
        "\n",
        "*  First step to programming\n",
        "     *    if statement\n",
        "     *    loops\n",
        "          *    while loop\n",
        "          *    for loop  +   range() function\n",
        "*  Various patterns using nested loops\n",
        "*  break, continue and pass statement"
      ]
    },
    {
      "cell_type": "markdown",
      "metadata": {
        "id": "vPXmKZdUrvXW",
        "colab_type": "text"
      },
      "source": [
        "# **First step to Programming**"
      ]
    },
    {
      "cell_type": "markdown",
      "metadata": {
        "id": "FNJD8JMLFHxA",
        "colab_type": "text"
      },
      "source": [
        "> **if Statement**"
      ]
    },
    {
      "cell_type": "markdown",
      "metadata": {
        "id": "fICIGOg1Xyub",
        "colab_type": "text"
      },
      "source": [
        "In Python, like in C, any non-zero integer value is true; zero is false. The condition may also be a string or list value, in fact any sequence; anything with a non-zero length is true, empty sequences are false. \n",
        "\n",
        "The standard comparison operators are same as in C, `<` (less than) , `>`(greater than), `==` (equal to), `<=` (less than equal to), `>=` (greater than equal to) and `!=` (not equal to). \n",
        "\n",
        "The body of the loop is indented. To add indentation in interative prompt you have to type a tab. (Here in colab notebook we have auto indent facility)"
      ]
    },
    {
      "cell_type": "code",
      "metadata": {
        "id": "4C9Dfhn6GEjZ",
        "colab_type": "code",
        "colab": {
          "base_uri": "https://localhost:8080/",
          "height": 34
        },
        "outputId": "895158aa-8663-43fb-9e7e-d18e9378b4c6"
      },
      "source": [
        "a = 20\n",
        "b = 5\n",
        "if a > b:\n",
        "  print(\"a is greater.\")"
      ],
      "execution_count": null,
      "outputs": [
        {
          "output_type": "stream",
          "text": [
            "a is greater.\n"
          ],
          "name": "stdout"
        }
      ]
    },
    {
      "cell_type": "code",
      "metadata": {
        "id": "7YHyCfvRGvzw",
        "colab_type": "code",
        "colab": {
          "base_uri": "https://localhost:8080/",
          "height": 34
        },
        "outputId": "d5e1a7b0-4baa-47be-b1ba-fc7d57ca4597"
      },
      "source": [
        "x = 32     #try with other values\n",
        "\n",
        "if x < 0:\n",
        "    x = 0\n",
        "    print('Negative changed to zero')\n",
        "elif x == 0:       #elif is short for else if\n",
        "    print('Zero')\n",
        "elif x == 1:\n",
        "    print('Single')\n",
        "else:\n",
        "    print('More')"
      ],
      "execution_count": null,
      "outputs": [
        {
          "output_type": "stream",
          "text": [
            "More\n"
          ],
          "name": "stdout"
        }
      ]
    },
    {
      "cell_type": "markdown",
      "metadata": {
        "id": "sb_yE2N1GFJw",
        "colab_type": "text"
      },
      "source": [
        "`print()` function is used to write the argument it is given."
      ]
    },
    {
      "cell_type": "markdown",
      "metadata": {
        "id": "AG2gIMuxr7gb",
        "colab_type": "text"
      },
      "source": [
        ">**Loops**"
      ]
    },
    {
      "cell_type": "markdown",
      "metadata": {
        "id": "zy_xLna2FzSI",
        "colab_type": "text"
      },
      "source": [
        "*    **While loop**\n",
        "\n",
        "With the while loop we can execute a set of statements as long as a condition is true. "
      ]
    },
    {
      "cell_type": "code",
      "metadata": {
        "id": "8u4v1LMEXyJC",
        "colab_type": "code",
        "colab": {
          "base_uri": "https://localhost:8080/",
          "height": 101
        },
        "outputId": "0b6368eb-91c2-45c7-eeb2-4b361970cc49"
      },
      "source": [
        "i = 1         #initialising the variable\n",
        "while i < 6:  #condition\n",
        "  print(i)    \n",
        "  i = i + 1   #incrementing i"
      ],
      "execution_count": null,
      "outputs": [
        {
          "output_type": "stream",
          "text": [
            "1\n",
            "2\n",
            "3\n",
            "4\n",
            "5\n"
          ],
          "name": "stdout"
        }
      ]
    },
    {
      "cell_type": "code",
      "metadata": {
        "id": "d9lQVGXXGASH",
        "colab_type": "code",
        "colab": {}
      },
      "source": [
        ""
      ],
      "execution_count": null,
      "outputs": []
    },
    {
      "cell_type": "markdown",
      "metadata": {
        "id": "qcnatsbdhjTF",
        "colab_type": "text"
      },
      "source": [
        "\n",
        "NOTE : Don't forget to increment i or else the loop will continue forever."
      ]
    },
    {
      "cell_type": "markdown",
      "metadata": {
        "id": "MKIFjSc5f1IZ",
        "colab_type": "text"
      },
      "source": [
        "Fibonacci series :\n",
        "\n",
        "0, 1, 1, 2, 3, 5, 8, 13, 21, . . . . . .\n",
        "\n",
        "Each number is the sum of the two preceding ones, starting from 0 and 1."
      ]
    },
    {
      "cell_type": "code",
      "metadata": {
        "id": "oHI2CbyuBKnD",
        "colab_type": "code",
        "colab": {
          "base_uri": "https://localhost:8080/",
          "height": 134
        },
        "outputId": "6c03c24c-9513-4634-9077-f96042883ae0"
      },
      "source": [
        "# Fibonacci Series\n",
        "a, b = 0, 1       # multiple assignment\n",
        "while a < 10:\n",
        "  print (a)\n",
        "  a, b = b, a+b\n"
      ],
      "execution_count": null,
      "outputs": [
        {
          "output_type": "stream",
          "text": [
            "0\n",
            "1\n",
            "1\n",
            "2\n",
            "3\n",
            "5\n",
            "8\n"
          ],
          "name": "stdout"
        }
      ]
    },
    {
      "cell_type": "markdown",
      "metadata": {
        "id": "Y1dPf_8ziDJp",
        "colab_type": "text"
      },
      "source": [
        "NOTE:   \n",
        "First and last line contains **multiple assignment** : On the first line, the variables a and b simultaneously get the new values 0 and 1. On the last line this is used again, demonstrating that the expressions on the right-hand side are all evaluated first before any of the assignments take place. The right-hand side expressions are evaluated from the left to the right."
      ]
    },
    {
      "cell_type": "markdown",
      "metadata": {
        "id": "i3rW8BwzfenV",
        "colab_type": "text"
      },
      "source": [
        "We can also print the series in the same line seprated by commas:\n",
        "\n",
        "We can use the `end` parameter of the print function to end a print statement using a string or character."
      ]
    },
    {
      "cell_type": "code",
      "metadata": {
        "id": "pKvWCJe3frSS",
        "colab_type": "code",
        "colab": {
          "base_uri": "https://localhost:8080/",
          "height": 34
        },
        "outputId": "95f99f53-2799-4b10-f6df-36dd550cfb42"
      },
      "source": [
        "# Fibonacci Series\n",
        "a, b = 0, 1\n",
        "while a < 10:\n",
        "  print (a, end = \", \")  #end the print statement using by a \", \"\n",
        "  a, b = b, a+b"
      ],
      "execution_count": null,
      "outputs": [
        {
          "output_type": "stream",
          "text": [
            "0, 1, 1, 2, 3, 5, 8, "
          ],
          "name": "stdout"
        }
      ]
    },
    {
      "cell_type": "code",
      "metadata": {
        "id": "Dr30lSVigTqf",
        "colab_type": "code",
        "colab": {
          "base_uri": "https://localhost:8080/",
          "height": 34
        },
        "outputId": "8672d2df-3be6-4585-a1c7-0339061dd268"
      },
      "source": [
        "# Fibonacci Series\n",
        "a, b = 0, 1\n",
        "while a < 10:\n",
        "  print (a, end = \" : \")\n",
        "  a, b = b, a+b"
      ],
      "execution_count": null,
      "outputs": [
        {
          "output_type": "stream",
          "text": [
            "0 : 1 : 1 : 2 : 3 : 5 : 8 : "
          ],
          "name": "stdout"
        }
      ]
    },
    {
      "cell_type": "markdown",
      "metadata": {
        "id": "rayNw3IgAHRc",
        "colab_type": "text"
      },
      "source": [
        "*    ***For loop***\n",
        "For loop in Python, is different from that in C . \n",
        "A for loop is used for iterating over a sequence (that is either a list, a tuple, a dictionary, a set, or a string), in the order they appear in the sequence."
      ]
    },
    {
      "cell_type": "markdown",
      "metadata": {
        "id": "QLO4OzhZDL6l",
        "colab_type": "text"
      },
      "source": [
        "1. Iterating over list"
      ]
    },
    {
      "cell_type": "code",
      "metadata": {
        "id": "z_JyReRCCUd9",
        "colab_type": "code",
        "colab": {
          "base_uri": "https://localhost:8080/",
          "height": 101
        },
        "outputId": "857cfab8-e559-4be8-e56d-8414eb607e40"
      },
      "source": [
        "fruits = [\"banana\", \"apple\", \"cherry\", \"strawberry\", \"kiwi\"]\n",
        "for fruit in fruits:\n",
        "  print(fruit, len(fruit))"
      ],
      "execution_count": null,
      "outputs": [
        {
          "output_type": "stream",
          "text": [
            "banana 6\n",
            "apple 5\n",
            "cherry 6\n",
            "strawberry 10\n",
            "kiwi 4\n"
          ],
          "name": "stdout"
        }
      ]
    },
    {
      "cell_type": "markdown",
      "metadata": {
        "id": "Bq7QVfQaDkRU",
        "colab_type": "text"
      },
      "source": [
        "2. Iterating over string"
      ]
    },
    {
      "cell_type": "code",
      "metadata": {
        "id": "mrxaPzMt-8dz",
        "colab_type": "code",
        "colab": {
          "base_uri": "https://localhost:8080/",
          "height": 118
        },
        "outputId": "a3f6b5b9-7c69-4cd5-b692-3055be80ce10"
      },
      "source": [
        "name = \"banana\"\n",
        "for ch in name:\n",
        "  print(ch)"
      ],
      "execution_count": null,
      "outputs": [
        {
          "output_type": "stream",
          "text": [
            "b\n",
            "a\n",
            "n\n",
            "a\n",
            "n\n",
            "a\n"
          ],
          "name": "stdout"
        }
      ]
    },
    {
      "cell_type": "markdown",
      "metadata": {
        "id": "rjD0w8_yH7EB",
        "colab_type": "text"
      },
      "source": [
        "> **`Range()` function**"
      ]
    },
    {
      "cell_type": "markdown",
      "metadata": {
        "id": "-__Qo4rJIIkc",
        "colab_type": "text"
      },
      "source": [
        "Range ( start, stop, skip) \n",
        "\n",
        "This will be well understood through following examples:\n",
        "\n",
        "*  range(9, 15)\n",
        "\n",
        "-->  9, 10, 11, 12, 13, 14    \n",
        "*  range(2, 19, 2)        \n",
        "\n",
        "-->  2, 4, 6, 8, 10, 12, 14, 16, 18\n",
        "\n",
        "*  range(5, 20, 5)\n",
        "\n",
        "-->  5, 10, 15"
      ]
    },
    {
      "cell_type": "code",
      "metadata": {
        "id": "eXwB2XEXJbnl",
        "colab_type": "code",
        "colab": {
          "base_uri": "https://localhost:8080/",
          "height": 134
        },
        "outputId": "66bc1243-ca9e-4b80-a8a2-3d78199e7503"
      },
      "source": [
        "for i in range(3, 10):\n",
        "  print(i, i + 2)"
      ],
      "execution_count": null,
      "outputs": [
        {
          "output_type": "stream",
          "text": [
            "3 5\n",
            "4 6\n",
            "5 7\n",
            "6 8\n",
            "7 9\n",
            "8 10\n",
            "9 11\n"
          ],
          "name": "stdout"
        }
      ]
    },
    {
      "cell_type": "markdown",
      "metadata": {
        "id": "zvNVm7bTMhhE",
        "colab_type": "text"
      },
      "source": [
        "While looking at these examples the object returned by `range()`behaves as if it is a list but in fact it isn't. \n",
        "\n",
        "We say such an object is iterable, that is, suitable as a target for **functions and constructs** that expect something from which they can obtain successive items until the supply is exhausted. "
      ]
    },
    {
      "cell_type": "code",
      "metadata": {
        "id": "_RO_f9FBMEwu",
        "colab_type": "code",
        "colab": {
          "base_uri": "https://localhost:8080/",
          "height": 34
        },
        "outputId": "749bd1d8-5ac2-463f-fef9-c539a5bb88f7"
      },
      "source": [
        "#lets see what happens if we print a range\n",
        "\n",
        "print(range(15))      "
      ],
      "execution_count": null,
      "outputs": [
        {
          "output_type": "stream",
          "text": [
            "range(0, 15)\n"
          ],
          "name": "stdout"
        }
      ]
    },
    {
      "cell_type": "code",
      "metadata": {
        "id": "yQQaeanFJPGJ",
        "colab_type": "code",
        "colab": {
          "base_uri": "https://localhost:8080/",
          "height": 34
        },
        "outputId": "b1fc6218-8be9-4f17-80b9-c916adad1ef9"
      },
      "source": [
        "# we can use range in sum() function\n",
        "\n",
        "sum(range(10))   # 0 + 1 + 2 + 3 + 4 + 5 + 6 + 7 + 8 + 9"
      ],
      "execution_count": null,
      "outputs": [
        {
          "output_type": "execute_result",
          "data": {
            "text/plain": [
              "45"
            ]
          },
          "metadata": {
            "tags": []
          },
          "execution_count": 5
        }
      ]
    },
    {
      "cell_type": "markdown",
      "metadata": {
        "id": "zM_P5DzdRnIN",
        "colab_type": "text"
      },
      "source": [
        "*   Later we'll see more functions that take iterables as argument and return iterables. "
      ]
    },
    {
      "cell_type": "code",
      "metadata": {
        "id": "x6qahtXQQCcF",
        "colab_type": "code",
        "colab": {
          "base_uri": "https://localhost:8080/",
          "height": 34
        },
        "outputId": "349fb06d-93a0-4978-d179-34abb0b72659"
      },
      "source": [
        "# To get a list from range \n",
        "\n",
        "list(range(10))    #list() function creates list from iterables"
      ],
      "execution_count": null,
      "outputs": [
        {
          "output_type": "stream",
          "text": [
            "[0, 1, 2, 3, 4, 5, 6, 7, 8, 9]\n"
          ],
          "name": "stdout"
        }
      ]
    },
    {
      "cell_type": "markdown",
      "metadata": {
        "id": "sE_SJFPClDG2",
        "colab_type": "text"
      },
      "source": [
        "*    Nested loops\n",
        "\n",
        "A nested loop is a loop inside a loop.\n",
        "\n",
        "The \"inner loop\" will be executed one time for each iteration of the \"outer loop\":\n",
        "\n",
        "Looking at some examples will make things clear:"
      ]
    },
    {
      "cell_type": "code",
      "metadata": {
        "id": "Qfdc6MHnSOra",
        "colab_type": "code",
        "colab": {
          "base_uri": "https://localhost:8080/",
          "height": 67
        },
        "outputId": "b62e7477-7499-487c-8dd3-6f01dad742fb"
      },
      "source": [
        "count = [\"two\", \"three\", \"four\"]\n",
        "fruits = [\"apples\", \"bananas\", \"oranges\"]\n",
        "\n",
        "for x in count:    \n",
        "  for y in fruits:\n",
        "    print(x, y , end = \" ---- \")\n",
        "  print()"
      ],
      "execution_count": null,
      "outputs": [
        {
          "output_type": "stream",
          "text": [
            "two apples ---- two bananas ---- two oranges ---- \n",
            "three apples ---- three bananas ---- three oranges ---- \n",
            "four apples ---- four bananas ---- four oranges ---- \n"
          ],
          "name": "stdout"
        }
      ]
    },
    {
      "cell_type": "markdown",
      "metadata": {
        "id": "jk3qk5twKeEW",
        "colab_type": "text"
      },
      "source": [
        "# **Various pattern printing using nested for loops**"
      ]
    },
    {
      "cell_type": "markdown",
      "metadata": {
        "id": "EVJ4iwlaKqKY",
        "colab_type": "text"
      },
      "source": [
        "Now we are havinng enough understanding of the loops now with the help of them let's print some different types of patterns "
      ]
    },
    {
      "cell_type": "markdown",
      "metadata": {
        "id": "OoNmCbCNLC7Z",
        "colab_type": "text"
      },
      "source": [
        "1) Printing a square of size 4 * 4 "
      ]
    },
    {
      "cell_type": "markdown",
      "metadata": {
        "id": "hVamGr0WK7Tr",
        "colab_type": "text"
      },
      "source": [
        "1111\n",
        "\n",
        "1111\n",
        "\n",
        "1111\n",
        "\n",
        "1111"
      ]
    },
    {
      "cell_type": "code",
      "metadata": {
        "id": "kjpH-pFdKiYO",
        "colab_type": "code",
        "colab": {
          "base_uri": "https://localhost:8080/",
          "height": 159
        },
        "outputId": "f372b72f-e774-4b57-f18b-06e3adaaca8b"
      },
      "source": [
        "l=4 # intializing length to 4\n",
        "for i in range(0,l):\n",
        "  for j in range(0,l):\n",
        "    print('1',end='')\n",
        "  print('\\n')"
      ],
      "execution_count": null,
      "outputs": [
        {
          "output_type": "stream",
          "text": [
            "1111\n",
            "\n",
            "1111\n",
            "\n",
            "1111\n",
            "\n",
            "1111\n",
            "\n"
          ],
          "name": "stdout"
        }
      ]
    },
    {
      "cell_type": "markdown",
      "metadata": {
        "id": "0aJ8-LEsLX1p",
        "colab_type": "text"
      },
      "source": [
        "2) Rectangle of size 4 * 3  "
      ]
    },
    {
      "cell_type": "markdown",
      "metadata": {
        "id": "tuEzuBlrLuJX",
        "colab_type": "text"
      },
      "source": [
        "111\n",
        "\n",
        "111\n",
        "\n",
        "111\n",
        "\n",
        "111"
      ]
    },
    {
      "cell_type": "code",
      "metadata": {
        "id": "zgpVgdfsKoC6",
        "colab_type": "code",
        "colab": {
          "base_uri": "https://localhost:8080/",
          "height": 159
        },
        "outputId": "0632616e-07c2-4f08-cec9-75b478eeeeea"
      },
      "source": [
        "l=4 # intializing length to 4\n",
        "b=3 # intializing breadth to 4\n",
        "for i in range(0,l):\n",
        "  for j in range(0,b):\n",
        "    print('1',end='')\n",
        "  print('\\n')"
      ],
      "execution_count": null,
      "outputs": [
        {
          "output_type": "stream",
          "text": [
            "111\n",
            "\n",
            "111\n",
            "\n",
            "111\n",
            "\n",
            "111\n",
            "\n"
          ],
          "name": "stdout"
        }
      ]
    },
    {
      "cell_type": "markdown",
      "metadata": {
        "id": "T3amqSadLxcb",
        "colab_type": "text"
      },
      "source": [
        "3) Triangle"
      ]
    },
    {
      "cell_type": "markdown",
      "metadata": {
        "id": "7JWKGIHOL9_-",
        "colab_type": "text"
      },
      "source": [
        "1\n",
        "\n",
        "1 2\n",
        "\n",
        "1 2 3\n",
        "\n",
        "1 2 3 4 \n",
        "\n",
        "1 2 3 4 5"
      ]
    },
    {
      "cell_type": "code",
      "metadata": {
        "id": "PtW_0P3bLmNu",
        "colab_type": "code",
        "colab": {
          "base_uri": "https://localhost:8080/",
          "height": 195
        },
        "outputId": "4bed8e59-bf2c-48c6-d639-760b70fdb619"
      },
      "source": [
        "l=5 # intializing length to 5\n",
        "for i in range(1,l+1):\n",
        "  for j in range(1,i+1):\n",
        "    print(j,end='')\n",
        "  print('\\n')"
      ],
      "execution_count": null,
      "outputs": [
        {
          "output_type": "stream",
          "text": [
            "1\n",
            "\n",
            "12\n",
            "\n",
            "123\n",
            "\n",
            "1234\n",
            "\n",
            "12345\n",
            "\n"
          ],
          "name": "stdout"
        }
      ]
    },
    {
      "cell_type": "markdown",
      "metadata": {
        "id": "NWwVSgL5Mpcs",
        "colab_type": "text"
      },
      "source": [
        "4) Triangle 2"
      ]
    },
    {
      "cell_type": "markdown",
      "metadata": {
        "id": "IlvU8rD8Mx91",
        "colab_type": "text"
      },
      "source": [
        "1\n",
        "\n",
        "121\n",
        "\n",
        "12321\n",
        "\n",
        "1234321\n",
        "\n",
        "123454321"
      ]
    },
    {
      "cell_type": "code",
      "metadata": {
        "id": "NlNCyf2oMeGk",
        "colab_type": "code",
        "colab": {
          "base_uri": "https://localhost:8080/",
          "height": 195
        },
        "outputId": "76da0b1f-b2da-449e-a0fc-2c1b25c961c3"
      },
      "source": [
        "l=5 \n",
        "for i in range(1,l+1):\n",
        "  for j in range(1,i):\n",
        "    print(j,end='')\n",
        "  for j in range(i,0,-1):\n",
        "      print(j,end='')\n",
        "  print('\\n')\n",
        "\n"
      ],
      "execution_count": null,
      "outputs": [
        {
          "output_type": "stream",
          "text": [
            "1\n",
            "\n",
            "121\n",
            "\n",
            "12321\n",
            "\n",
            "1234321\n",
            "\n",
            "123454321\n",
            "\n"
          ],
          "name": "stdout"
        }
      ]
    },
    {
      "cell_type": "markdown",
      "metadata": {
        "id": "jyuGd_CuPx-1",
        "colab_type": "text"
      },
      "source": [
        "5) Hollow Triangle"
      ]
    },
    {
      "cell_type": "markdown",
      "metadata": {
        "id": "svpF9NRwQBY-",
        "colab_type": "text"
      },
      "source": [
        "1\n",
        "\n",
        "12\n",
        "\n",
        "1*3\n",
        "\n",
        "1**4\n",
        "\n",
        "1***5"
      ]
    },
    {
      "cell_type": "code",
      "metadata": {
        "id": "51-QWkN9Piiz",
        "colab_type": "code",
        "colab": {
          "base_uri": "https://localhost:8080/",
          "height": 195
        },
        "outputId": "da205815-97b9-4582-b25f-6e492ddcf6ba"
      },
      "source": [
        "l=5\n",
        "for i in range(1,l+1):\n",
        "  for j in range(1,i+1):\n",
        "    if j==i or j==1:\n",
        "      print(j,end='')\n",
        "    else:\n",
        "      print('*',end='')\n",
        "  print('\\n')"
      ],
      "execution_count": null,
      "outputs": [
        {
          "output_type": "stream",
          "text": [
            "1\n",
            "\n",
            "12\n",
            "\n",
            "1*3\n",
            "\n",
            "1**4\n",
            "\n",
            "1***5\n",
            "\n"
          ],
          "name": "stdout"
        }
      ]
    },
    {
      "cell_type": "markdown",
      "metadata": {
        "id": "R-4MuXFQ8Shz",
        "colab_type": "text"
      },
      "source": [
        "6) Equilateral Triangle"
      ]
    },
    {
      "cell_type": "markdown",
      "metadata": {
        "id": "RCv6TltJ8VIS",
        "colab_type": "text"
      },
      "source": [
        "![](https://imgur.com/MIjE2RP.jpg)"
      ]
    },
    {
      "cell_type": "code",
      "metadata": {
        "id": "j8CAcDj38SUe",
        "colab_type": "code",
        "colab": {
          "base_uri": "https://localhost:8080/",
          "height": 195
        },
        "outputId": "aa815f10-1e81-4ec6-b455-dbbf7edd0b02"
      },
      "source": [
        "l=10\n",
        "for i in range(1,l+1):\n",
        "  for j in range(i,l):\n",
        "    print(' ',end='')\n",
        "  for j in range(1,2*i):\n",
        "    print('*',end='')\n",
        "  print('')\n"
      ],
      "execution_count": null,
      "outputs": [
        {
          "output_type": "stream",
          "text": [
            "         *\n",
            "        ***\n",
            "       *****\n",
            "      *******\n",
            "     *********\n",
            "    ***********\n",
            "   *************\n",
            "  ***************\n",
            " *****************\n",
            "*******************\n"
          ],
          "name": "stdout"
        }
      ]
    },
    {
      "cell_type": "markdown",
      "metadata": {
        "id": "4pwvXgXh8CEX",
        "colab_type": "text"
      },
      "source": [
        "7) Double the number\n"
      ]
    },
    {
      "cell_type": "markdown",
      "metadata": {
        "id": "DNNBeZwi8Yrd",
        "colab_type": "text"
      },
      "source": [
        "1 \n",
        "   \n",
        "   2    1 \n",
        "\n",
        "   \n",
        "   4    2    1 \n",
        "   \n",
        "   8    4    2    1 \n",
        "  \n",
        "  16    8    4    2    1 \n",
        "  \n",
        "  32   16    8    4    2    1 \n",
        "  \n",
        "  64   32   16    8    4    2    1 \n",
        " \n",
        " 128   64   32   16    8    4    2    1"
      ]
    },
    {
      "cell_type": "code",
      "metadata": {
        "id": "-_V3dcDJRJob",
        "colab_type": "code",
        "colab": {
          "base_uri": "https://localhost:8080/",
          "height": 159
        },
        "outputId": "ad6f90e0-0fb1-4886-cc06-be32984efb6a"
      },
      "source": [
        "l=8\n",
        "for i in range(1,l+1):\n",
        "  p=2**(i-1)\n",
        "  for j in range(0,i):\n",
        "    print(p,end=' ')\n",
        "    p=p//2\n",
        "  print(\"\")"
      ],
      "execution_count": null,
      "outputs": [
        {
          "output_type": "stream",
          "text": [
            "1 \n",
            "2 1 \n",
            "4 2 1 \n",
            "8 4 2 1 \n",
            "16 8 4 2 1 \n",
            "32 16 8 4 2 1 \n",
            "64 32 16 8 4 2 1 \n",
            "128 64 32 16 8 4 2 1 \n"
          ],
          "name": "stdout"
        }
      ]
    },
    {
      "cell_type": "markdown",
      "metadata": {
        "id": "7kKizc4s73VM",
        "colab_type": "text"
      },
      "source": [
        "8) Reverse number from a particular range"
      ]
    },
    {
      "cell_type": "markdown",
      "metadata": {
        "id": "EN3F6CbyDhNc",
        "colab_type": "text"
      },
      "source": [
        "1\n",
        "\n",
        "3 2\n",
        "\n",
        "6 5 4\n",
        "\n",
        "10 9 8 7\n",
        "\n",
        "15 14 13 12 11"
      ]
    },
    {
      "cell_type": "code",
      "metadata": {
        "id": "LlvCYf9yDhoR",
        "colab_type": "code",
        "colab": {
          "base_uri": "https://localhost:8080/",
          "height": 106
        },
        "outputId": "f1617150-7504-4dde-b17e-d5b501c3d145"
      },
      "source": [
        "current=1\n",
        "count=1\n",
        "s=0\n",
        "for i in range(1,6):\n",
        "  current=count\n",
        "  count=count+i+1\n",
        "  for j in range(0,i):\n",
        "    print(current,end=' ')\n",
        "    current=current-1\n",
        "  print(' ')"
      ],
      "execution_count": null,
      "outputs": [
        {
          "output_type": "stream",
          "text": [
            "1  \n",
            "3 2  \n",
            "6 5 4  \n",
            "10 9 8 7  \n",
            "15 14 13 12 11  \n"
          ],
          "name": "stdout"
        }
      ]
    },
    {
      "cell_type": "markdown",
      "metadata": {
        "id": "5lDrsXbV9UXy",
        "colab_type": "text"
      },
      "source": [
        "# **break , continue and pass statements**"
      ]
    },
    {
      "cell_type": "markdown",
      "metadata": {
        "id": "yEOYNGwe9cWb",
        "colab_type": "text"
      },
      "source": [
        "In a coding event you are solving a question and it has 21 test cases and now to get awarded the marks for it  you have to solve atleast 15 test cases.\n",
        "\n",
        "So once you solved atleast 15 test case u want to jump to the next question so in this case **break** statement is used\n",
        "\n",
        "Also for a particular value you want to execute half your code statement and procced to the next test case **continue** statement is used \n",
        "\n",
        "If you have solved more than 15 test cases and it doesn't matter whether the remaining test cases are correct or not in this case **pass** statement is used"
      ]
    },
    {
      "cell_type": "markdown",
      "metadata": {
        "id": "aQMgLv7aB5kn",
        "colab_type": "text"
      },
      "source": [
        "**break statement**"
      ]
    },
    {
      "cell_type": "markdown",
      "metadata": {
        "id": "rB2C4MdgDCJJ",
        "colab_type": "text"
      },
      "source": [
        "It end the current loop immediately when it is encountered\n",
        "\n",
        "Writing a code which will break the execution of loop if the number is divisible by 7"
      ]
    },
    {
      "cell_type": "code",
      "metadata": {
        "id": "As0UgO9-7FeO",
        "colab_type": "code",
        "colab": {
          "base_uri": "https://localhost:8080/",
          "height": 177
        },
        "outputId": "98b9ede8-87a2-4fe6-a67e-1ec8518fdfe0"
      },
      "source": [
        "l=100\n",
        "for i in range(1,l+1):\n",
        "  print(i)\n",
        "  if i%7==0:\n",
        "    print('The current number is divisible by 7')\n",
        "    break\n",
        "print('Mission accomplished')"
      ],
      "execution_count": null,
      "outputs": [
        {
          "output_type": "stream",
          "text": [
            "1\n",
            "2\n",
            "3\n",
            "4\n",
            "5\n",
            "6\n",
            "7\n",
            "The current number is divisible by 7\n",
            "Mission accomplished\n"
          ],
          "name": "stdout"
        }
      ]
    },
    {
      "cell_type": "markdown",
      "metadata": {
        "id": "wL4rsCDOFmcy",
        "colab_type": "text"
      },
      "source": [
        "Print all the characters in a string unless 'a' is encountered"
      ]
    },
    {
      "cell_type": "code",
      "metadata": {
        "id": "K_Hm_1EJE3BF",
        "colab_type": "code",
        "colab": {
          "base_uri": "https://localhost:8080/",
          "height": 159
        },
        "outputId": "7531e36d-d15d-4ced-cd57-05f394454370"
      },
      "source": [
        "s='hey how are u ?'\n",
        "for i in range(0,len(s)):\n",
        "  if s[i]=='a':\n",
        "    break\n",
        "  else:\n",
        "    print(s[i])"
      ],
      "execution_count": null,
      "outputs": [
        {
          "output_type": "stream",
          "text": [
            "h\n",
            "e\n",
            "y\n",
            " \n",
            "h\n",
            "o\n",
            "w\n",
            " \n"
          ],
          "name": "stdout"
        }
      ]
    },
    {
      "cell_type": "markdown",
      "metadata": {
        "id": "0scQ8So2CBox",
        "colab_type": "text"
      },
      "source": [
        "**continue statement**\n",
        "\n",
        "It skips the current iteration of the loop and continues with the next iteration\n",
        "\n",
        "We will write a code which will print values from 0 to 10 excluding 5,6,7 "
      ]
    },
    {
      "cell_type": "code",
      "metadata": {
        "id": "i9vilQEECBa6",
        "colab_type": "code",
        "colab": {
          "base_uri": "https://localhost:8080/",
          "height": 212
        },
        "outputId": "e45a6359-8908-45e9-c5cf-d0d83ae968c2"
      },
      "source": [
        "l=10\n",
        "for i in range(0,l+1):\n",
        "  if i>= 5 and i<= 7:\n",
        "    print('Found a number between 5 & 7')\n",
        "    continue\n",
        "  print(i) "
      ],
      "execution_count": null,
      "outputs": [
        {
          "output_type": "stream",
          "text": [
            "0\n",
            "1\n",
            "2\n",
            "3\n",
            "4\n",
            "Found a number between 5 & 7\n",
            "Found a number between 5 & 7\n",
            "Found a number between 5 & 7\n",
            "8\n",
            "9\n",
            "10\n"
          ],
          "name": "stdout"
        }
      ]
    },
    {
      "cell_type": "markdown",
      "metadata": {
        "id": "VO8JwTwJE8yy",
        "colab_type": "text"
      },
      "source": [
        "Printing only odd values"
      ]
    },
    {
      "cell_type": "code",
      "metadata": {
        "id": "2FdSGh-sC1Il",
        "colab_type": "code",
        "colab": {
          "base_uri": "https://localhost:8080/",
          "height": 301
        },
        "outputId": "4ddee418-c421-4973-a8c5-5a71dc208cb1"
      },
      "source": [
        "l=15\n",
        "for i in range(0,l+1):\n",
        "  if i%2==0:\n",
        "    print('Given value is even')\n",
        "    continue\n",
        "  print(i)"
      ],
      "execution_count": null,
      "outputs": [
        {
          "output_type": "stream",
          "text": [
            "Given value is even\n",
            "1\n",
            "Given value is even\n",
            "3\n",
            "Given value is even\n",
            "5\n",
            "Given value is even\n",
            "7\n",
            "Given value is even\n",
            "9\n",
            "Given value is even\n",
            "11\n",
            "Given value is even\n",
            "13\n",
            "Given value is even\n",
            "15\n"
          ],
          "name": "stdout"
        }
      ]
    },
    {
      "cell_type": "markdown",
      "metadata": {
        "id": "Um09hNfoI_S0",
        "colab_type": "text"
      },
      "source": [
        "**pass statement**"
      ]
    },
    {
      "cell_type": "markdown",
      "metadata": {
        "id": "AKiLee4jxeo1",
        "colab_type": "text"
      },
      "source": [
        "It is bascially none statement i.e do nothing"
      ]
    },
    {
      "cell_type": "code",
      "metadata": {
        "id": "1FdwlZbWGSal",
        "colab_type": "code",
        "colab": {
          "base_uri": "https://localhost:8080/"
        },
        "outputId": "8f4d71a6-da73-4548-e82d-ad31d7e18930"
      },
      "source": [
        "s='Pass Statement'\n",
        "for i in range(0,len(s)):\n",
        "\tif s[i]=='S':\n",
        "\t\tpass\n",
        "\t\tprint(\"I'm here for nothing \",end=' ')\n",
        "\tprint(s[i])"
      ],
      "execution_count": null,
      "outputs": [
        {
          "output_type": "stream",
          "text": [
            "P\n",
            "a\n",
            "s\n",
            "s\n",
            " \n",
            "I'm here for nothing  S\n",
            "t\n",
            "a\n",
            "t\n",
            "e\n",
            "m\n",
            "e\n",
            "n\n",
            "t\n"
          ],
          "name": "stdout"
        }
      ]
    },
    {
      "cell_type": "markdown",
      "metadata": {
        "id": "1Aq1lDTIygvU",
        "colab_type": "text"
      },
      "source": [
        "Let's look at the difference between **continue** and **pass** statement to get a crystal clear understanding"
      ]
    },
    {
      "cell_type": "markdown",
      "metadata": {
        "id": "KFqgxaIb4hR7",
        "colab_type": "text"
      },
      "source": [
        "Pass"
      ]
    },
    {
      "cell_type": "code",
      "metadata": {
        "id": "eUwHvmskySgN",
        "colab_type": "code",
        "colab": {
          "base_uri": "https://localhost:8080/"
        },
        "outputId": "4e55b4d2-ae0c-454e-bad5-047623d50136"
      },
      "source": [
        "l=5\n",
        "for i in range(0,l+1):\n",
        "\tif i==2:\n",
        "\t\tpass\n",
        "\t\tprint('asdf')\n",
        "\telse:\n",
        "\t\tprint(i)"
      ],
      "execution_count": null,
      "outputs": [
        {
          "output_type": "stream",
          "text": [
            "0\n",
            "1\n",
            "asdf\n",
            "3\n",
            "4\n",
            "5\n"
          ],
          "name": "stdout"
        }
      ]
    },
    {
      "cell_type": "markdown",
      "metadata": {
        "id": "ugyPue3c4jLb",
        "colab_type": "text"
      },
      "source": [
        "Continue"
      ]
    },
    {
      "cell_type": "code",
      "metadata": {
        "id": "hk1Iccytyp6R",
        "colab_type": "code",
        "colab": {
          "base_uri": "https://localhost:8080/"
        },
        "outputId": "16d57fb3-3b0d-4ca6-9a4e-153ab8321c0b"
      },
      "source": [
        "l=5\n",
        "for i in range(0,l+1):\n",
        "\tif i==2:\n",
        "\t\tcontinue\n",
        "\t\tprint('asdf')\n",
        "\telse:\n",
        "\t\tprint(i)"
      ],
      "execution_count": null,
      "outputs": [
        {
          "output_type": "stream",
          "text": [
            "0\n",
            "1\n",
            "3\n",
            "4\n",
            "5\n"
          ],
          "name": "stdout"
        }
      ]
    },
    {
      "cell_type": "markdown",
      "metadata": {
        "id": "NTZOnEKhmw43",
        "colab_type": "text"
      },
      "source": [
        "# **H.W.**"
      ]
    },
    {
      "cell_type": "markdown",
      "metadata": {
        "id": "YSqvPr6knEam",
        "colab_type": "text"
      },
      "source": [
        "Read basic definition and syntax of **tuple** and **dictionary**\n"
      ]
    }
  ]
}