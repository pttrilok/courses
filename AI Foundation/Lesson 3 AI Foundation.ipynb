{
  "nbformat": 4,
  "nbformat_minor": 0,
  "metadata": {
    "colab": {
      "name": "Lesson 3 Fundamentals of AI .ipynb",
      "provenance": [],
      "collapsed_sections": [
        "jQHy1O94Gh1y",
        "wDx4kwb7Hkrl",
        "LnW0yTr1IY98",
        "JgjoLChhVueo",
        "9trBgfbBV3em",
        "srKvTMN1Xhcz",
        "32OXnZ88YK5i"
      ],
      "include_colab_link": true
    },
    "kernelspec": {
      "name": "python3",
      "display_name": "Python 3"
    }
  },
  "cells": [
    {
      "cell_type": "markdown",
      "metadata": {
        "id": "view-in-github",
        "colab_type": "text"
      },
      "source": [
        "<a href=\"https://colab.research.google.com/github/pttrilok/courses/blob/master/AI%20Foundation/Lesson%203%20Fundamentals%20of%20AI.ipynb\" target=\"_parent\"><img src=\"https://colab.research.google.com/assets/colab-badge.svg\" alt=\"Open In Colab\"/></a>"
      ]
    },
    {
      "cell_type": "markdown",
      "metadata": {
        "id": "SKxDa4yWdEmH",
        "colab_type": "text"
      },
      "source": [
        "In this Module we will be studying about the following topics :\n",
        "*   Functions\n",
        "    * Defining Function\n",
        "    * Calling Function\n",
        "*   Arguments\n",
        "    * Defualt arguments\n",
        "    * Arbitrary Arguments\n",
        "    * Passing List as an Argument\n",
        "*   Keyword Arguments\n",
        "*   Return Values\n",
        "*   Pass Statement\n",
        "*   Recursion\n",
        "*   Lambda Expressions\n"
      ]
    },
    {
      "cell_type": "code",
      "metadata": {
        "id": "pcFSOwaXQiK_",
        "colab_type": "code",
        "colab": {}
      },
      "source": [
        ""
      ],
      "execution_count": null,
      "outputs": []
    },
    {
      "cell_type": "markdown",
      "metadata": {
        "id": "9i2AwpXcbXrT",
        "colab_type": "text"
      },
      "source": [
        "**<H1>Functions**"
      ]
    },
    {
      "cell_type": "markdown",
      "metadata": {
        "id": "5Jn6Dwr7dmYC",
        "colab_type": "text"
      },
      "source": [
        "A function is a block of code that performs specific task only when it is called.\n",
        "\n",
        "You can also pass data in function, it is called parameters.\n",
        "\n",
        "And the function can also return a value as a result."
      ]
    },
    {
      "cell_type": "markdown",
      "metadata": {
        "id": "jQHy1O94Gh1y",
        "colab_type": "text"
      },
      "source": [
        "# **Defining Functions**"
      ]
    },
    {
      "cell_type": "markdown",
      "metadata": {
        "id": "JWzqH9qLGeAN",
        "colab_type": "text"
      },
      "source": [
        "The `def` keyword is used to define the function followed by the name of the function and then the parenthesized formal parameters. The function body starts at the next line which is indented."
      ]
    },
    {
      "cell_type": "code",
      "metadata": {
        "id": "EydOGPeRNMhU",
        "colab_type": "code",
        "colab": {}
      },
      "source": [
        "def my_function():\n",
        "  print(\"Hello guyzzz\")"
      ],
      "execution_count": null,
      "outputs": []
    },
    {
      "cell_type": "markdown",
      "metadata": {
        "id": "Q1-R3QF3ijy_",
        "colab_type": "text"
      },
      "source": [
        "**<H2>Calling function**\n",
        "\n",
        "Just simply write the name of the function followed by parenthesis"
      ]
    },
    {
      "cell_type": "code",
      "metadata": {
        "id": "9240rLNJi9Ip",
        "colab_type": "code",
        "colab": {
          "base_uri": "https://localhost:8080/",
          "height": 34
        },
        "outputId": "ff1a5927-ba7b-439a-e121-5523cc6e8101"
      },
      "source": [
        "my_function()"
      ],
      "execution_count": null,
      "outputs": [
        {
          "output_type": "stream",
          "text": [
            "Hello guyzzz\n"
          ],
          "name": "stdout"
        }
      ]
    },
    {
      "cell_type": "markdown",
      "metadata": {
        "id": "wDx4kwb7Hkrl",
        "colab_type": "text"
      },
      "source": [
        "# **Arguments**"
      ]
    },
    {
      "cell_type": "markdown",
      "metadata": {
        "id": "CJPeb5HkjLNn",
        "colab_type": "text"
      },
      "source": [
        "*  They are the information that we can pass to the function.\n",
        "\n",
        "  We can add as many arguments as we wish.\n",
        "\n",
        "  {informally we can say that arguments actually create personalised result} \n"
      ]
    },
    {
      "cell_type": "code",
      "metadata": {
        "id": "gAvIbEUTi_Ow",
        "colab_type": "code",
        "colab": {}
      },
      "source": [
        "#defining function\n",
        "def my_function1(country):\n",
        "  print(\"Welcome to \"+country)"
      ],
      "execution_count": null,
      "outputs": []
    },
    {
      "cell_type": "code",
      "metadata": {
        "id": "-IoY7xpZnQAu",
        "colab_type": "code",
        "colab": {
          "base_uri": "https://localhost:8080/",
          "height": 67
        },
        "outputId": "93892496-0479-4123-a863-fccb1a08e63e"
      },
      "source": [
        "#calling function for various values of country\n",
        "my_function1(\"India\")\n",
        "my_function1(\"England\")\n",
        "my_function1(\"Germany\")"
      ],
      "execution_count": null,
      "outputs": [
        {
          "output_type": "stream",
          "text": [
            "Welcome to India\n",
            "Welcome to England\n",
            "Welcome to Germany\n"
          ],
          "name": "stdout"
        }
      ]
    },
    {
      "cell_type": "code",
      "metadata": {
        "id": "oPkLfmZYrXh7",
        "colab_type": "code",
        "colab": {
          "base_uri": "https://localhost:8080/",
          "height": 195
        },
        "outputId": "0c12701b-f3cf-4679-d149-f88fefb32f1c"
      },
      "source": [
        "#lets see what happens if we do not pass any values to the function\n",
        "\n",
        "my_function1()"
      ],
      "execution_count": null,
      "outputs": [
        {
          "output_type": "error",
          "ename": "TypeError",
          "evalue": "ignored",
          "traceback": [
            "\u001b[0;31m---------------------------------------------------------------------------\u001b[0m",
            "\u001b[0;31mTypeError\u001b[0m                                 Traceback (most recent call last)",
            "\u001b[0;32m<ipython-input-24-358011bd65ea>\u001b[0m in \u001b[0;36m<module>\u001b[0;34m()\u001b[0m\n\u001b[1;32m      1\u001b[0m \u001b[0;31m#lets see what happens if we do not pass any values to the function\u001b[0m\u001b[0;34m\u001b[0m\u001b[0;34m\u001b[0m\u001b[0;34m\u001b[0m\u001b[0m\n\u001b[1;32m      2\u001b[0m \u001b[0;34m\u001b[0m\u001b[0m\n\u001b[0;32m----> 3\u001b[0;31m \u001b[0mmy_function1\u001b[0m\u001b[0;34m(\u001b[0m\u001b[0;34m)\u001b[0m\u001b[0;34m\u001b[0m\u001b[0;34m\u001b[0m\u001b[0m\n\u001b[0m",
            "\u001b[0;31mTypeError\u001b[0m: my_function1() missing 1 required positional argument: 'country'"
          ]
        }
      ]
    },
    {
      "cell_type": "markdown",
      "metadata": {
        "id": "6Mj-EMOlhcs6",
        "colab_type": "text"
      },
      "source": [
        "<H3>Here lets understand the basic difference between <B><I>parameters</I></B> and <B><I>arguments</I></B>:\n",
        "\n",
        "***Parameters*** are what we declare in the function \n",
        "\n",
        "***Arguments*** are what we pass while calling the function\n",
        "\n",
        "For example: In `my_function1()`    \n",
        "*   `country` is the parameter\n",
        "\n",
        "*   values like `\"India\"`   ,   `\"England\"`    ,   `\"Germany\"`   are arguments."
      ]
    },
    {
      "cell_type": "markdown",
      "metadata": {
        "id": "gH5qTzRFHrtA",
        "colab_type": "text"
      },
      "source": [
        "**<H1>Default Argument Values**"
      ]
    },
    {
      "cell_type": "markdown",
      "metadata": {
        "id": "R4_iHQuQYemt",
        "colab_type": "text"
      },
      "source": [
        "As the name suggests function will take some arguments and will intialize the values of those parameters irrespective of that parameters are recieving values or not.\n",
        "\n",
        "This method creates a function that can be called with fewer arguments than it is defined to allow"
      ]
    },
    {
      "cell_type": "code",
      "metadata": {
        "id": "uQ2d784XT4hQ",
        "colab_type": "code",
        "colab": {
          "base_uri": "https://localhost:8080/",
          "height": 88
        },
        "outputId": "46d30e02-486a-49ce-ef9b-2a94b30d1fb7"
      },
      "source": [
        "def my_function2(lang = \"Python\"):\n",
        "  print(\"I am working on \" + lang)\n",
        "\n",
        "my_function2(\"C\")\n",
        "my_function2(\"C++\")\n",
        "my_function2()\n",
        "my_function2(\"Java\")"
      ],
      "execution_count": null,
      "outputs": [
        {
          "output_type": "stream",
          "text": [
            "I am working on C\n",
            "I am working on C++\n",
            "I am working on Python\n",
            "I am working on Java\n"
          ],
          "name": "stdout"
        }
      ]
    },
    {
      "cell_type": "markdown",
      "metadata": {
        "id": "hOa9Ptt2cK-P",
        "colab_type": "text"
      },
      "source": [
        "Another form of setting default parameters intially"
      ]
    },
    {
      "cell_type": "markdown",
      "metadata": {
        "id": "jZYE4bwzdVGe",
        "colab_type": "text"
      },
      "source": [
        "**NOTE** :-  The default values are set permanently once we declare our function defination after that no changes made to the value will effect it "
      ]
    },
    {
      "cell_type": "code",
      "metadata": {
        "id": "IBcSTgFhaR01",
        "colab_type": "code",
        "colab": {
          "base_uri": "https://localhost:8080/",
          "height": 50
        },
        "outputId": "4293ac11-3683-472e-af18-578acc790177"
      },
      "source": [
        "lang='Python'\n",
        "\n",
        "def f(arg=lang):\n",
        "    print(arg)\n",
        "\n",
        "lang=\"C\"\n",
        "\n",
        "f(\"C++\")\n",
        "f()"
      ],
      "execution_count": null,
      "outputs": [
        {
          "output_type": "stream",
          "text": [
            "C++\n",
            "Python\n"
          ],
          "name": "stdout"
        }
      ]
    },
    {
      "cell_type": "markdown",
      "metadata": {
        "id": "Rsm92_xbe4ED",
        "colab_type": "text"
      },
      "source": [
        "Although we can make changes to the values before the function declaration statement"
      ]
    },
    {
      "cell_type": "code",
      "metadata": {
        "id": "MqL9YXmle-jW",
        "colab_type": "code",
        "colab": {
          "base_uri": "https://localhost:8080/",
          "height": 52
        },
        "outputId": "f5d60085-19c1-4afd-b887-96661e684e62"
      },
      "source": [
        "lang='Python'\n",
        "lang='C'\n",
        "\n",
        "def f(arg=lang):\n",
        "    print(arg)\n",
        "\n",
        "\n",
        "f(\"C++\")\n",
        "f()"
      ],
      "execution_count": null,
      "outputs": [
        {
          "output_type": "stream",
          "text": [
            "C++\n",
            "C\n"
          ],
          "name": "stdout"
        }
      ]
    },
    {
      "cell_type": "markdown",
      "metadata": {
        "id": "ig4CkmwGKGlH",
        "colab_type": "text"
      },
      "source": [
        "**<H1>Number of Arguments**"
      ]
    },
    {
      "cell_type": "markdown",
      "metadata": {
        "id": "3MRMG9wJoOUN",
        "colab_type": "text"
      },
      "source": [
        "We can add any number of arguments seprated by commas"
      ]
    },
    {
      "cell_type": "code",
      "metadata": {
        "id": "Xa_9h30VoAv6",
        "colab_type": "code",
        "colab": {}
      },
      "source": [
        "def name(fname, lname):\n",
        "  print(fname+\" \"+lname)"
      ],
      "execution_count": null,
      "outputs": []
    },
    {
      "cell_type": "code",
      "metadata": {
        "id": "T23nW8LZonX3",
        "colab_type": "code",
        "colab": {
          "base_uri": "https://localhost:8080/",
          "height": 34
        },
        "outputId": "2f5c7d40-c813-408a-c195-771012150625"
      },
      "source": [
        "name(\"Harry\", \"Potter\")  # You can try adding your own name"
      ],
      "execution_count": null,
      "outputs": [
        {
          "output_type": "stream",
          "text": [
            "Harry Potter\n"
          ],
          "name": "stdout"
        }
      ]
    },
    {
      "cell_type": "code",
      "metadata": {
        "id": "HkxGlZsRrM5O",
        "colab_type": "code",
        "colab": {
          "base_uri": "https://localhost:8080/",
          "height": 195
        },
        "outputId": "ee74c95b-63ab-4ddd-f2b9-9f52227c4831"
      },
      "source": [
        "# lets see what happens if we pass only one argument instead of two\n",
        "\n",
        "name(\"Harry\")"
      ],
      "execution_count": null,
      "outputs": [
        {
          "output_type": "error",
          "ename": "TypeError",
          "evalue": "ignored",
          "traceback": [
            "\u001b[0;31m---------------------------------------------------------------------------\u001b[0m",
            "\u001b[0;31mTypeError\u001b[0m                                 Traceback (most recent call last)",
            "\u001b[0;32m<ipython-input-25-2751dece01b0>\u001b[0m in \u001b[0;36m<module>\u001b[0;34m()\u001b[0m\n\u001b[1;32m      1\u001b[0m \u001b[0;31m# lets see what happens if we pass only one parameter instead of two\u001b[0m\u001b[0;34m\u001b[0m\u001b[0;34m\u001b[0m\u001b[0;34m\u001b[0m\u001b[0m\n\u001b[1;32m      2\u001b[0m \u001b[0;34m\u001b[0m\u001b[0m\n\u001b[0;32m----> 3\u001b[0;31m \u001b[0mname\u001b[0m\u001b[0;34m(\u001b[0m\u001b[0;34m\"Harry\"\u001b[0m\u001b[0;34m)\u001b[0m\u001b[0;34m\u001b[0m\u001b[0;34m\u001b[0m\u001b[0m\n\u001b[0m",
            "\u001b[0;31mTypeError\u001b[0m: name() missing 1 required positional argument: 'lname'"
          ]
        }
      ]
    },
    {
      "cell_type": "markdown",
      "metadata": {
        "id": "C4PuweNesN7E",
        "colab_type": "text"
      },
      "source": [
        "In the above example the function expected 2 arguments and received just 1"
      ]
    },
    {
      "cell_type": "markdown",
      "metadata": {
        "id": "TligLcw1H39u",
        "colab_type": "text"
      },
      "source": [
        "**<H1>Arbitrary Arguments**  `*arg` "
      ]
    },
    {
      "cell_type": "markdown",
      "metadata": {
        "id": "hYzPiwLHsgh5",
        "colab_type": "text"
      },
      "source": [
        "In a similar situation, if we are unaware of the number of arguments that will be passed. Then we simply put `*` before the parameter name in the function definition .\n",
        "\n",
        "What actually happens is that the arguments that are passed are accepted as a tuple of arguments and hence the items are accessed accordingly.\n",
        "\n",
        "NOTE: A tuple is an immutable collection i.e. you cannot append, remove, insert or alter any values in it. eg: `a = (3, 5, 2)`"
      ]
    },
    {
      "cell_type": "code",
      "metadata": {
        "id": "0A5bx3Ncr9PS",
        "colab_type": "code",
        "colab": {}
      },
      "source": [
        "def my_function3(*fruits):\n",
        "  for fruit in fruits:\n",
        "    print(\"I love to eat \"+fruit)"
      ],
      "execution_count": null,
      "outputs": []
    },
    {
      "cell_type": "code",
      "metadata": {
        "id": "vyjDuwvMuG_V",
        "colab_type": "code",
        "colab": {
          "base_uri": "https://localhost:8080/",
          "height": 67
        },
        "outputId": "2a3c5afe-5bed-42ea-d2af-b6cc897b3593"
      },
      "source": [
        "my_function3(\"bananas\",\"apples\",\"oranges\")"
      ],
      "execution_count": null,
      "outputs": [
        {
          "output_type": "stream",
          "text": [
            "I love to eat bananas\n",
            "I love to eat apples\n",
            "I love to eat oranges\n"
          ],
          "name": "stdout"
        }
      ]
    },
    {
      "cell_type": "markdown",
      "metadata": {
        "id": "WaWQ2aGbVoIM",
        "colab_type": "text"
      },
      "source": [
        "**<H1>Passing a List as an Argument**"
      ]
    },
    {
      "cell_type": "markdown",
      "metadata": {
        "id": "32UAiqzVf4Xf",
        "colab_type": "text"
      },
      "source": [
        "You can send any data types of argument to a function (string, number, list, dictionary and many more) and  it will be treated as the same data type inside the function.\n",
        "\n",
        "For eg  if you send a string as an argument, it will still be a string when it reaches the function. In the same way lit will be treated as list"
      ]
    },
    {
      "cell_type": "code",
      "metadata": {
        "id": "o-myGBhIVXCN",
        "colab_type": "code",
        "colab": {
          "base_uri": "https://localhost:8080/",
          "height": 118
        },
        "outputId": "8f49e4b8-5f14-40da-f181-04f0d0887235"
      },
      "source": [
        "def my_function4(coding_sites):\n",
        "  for i in coding_sites:\n",
        "    print(i)\n",
        "\n",
        "Coding_Sites=['Hackerrank','Hackerearth','Geeksforgeeks','Codeshef','Codeforces','Leetcode']\n",
        "\n",
        "my_function4(Coding_Sites)\n"
      ],
      "execution_count": null,
      "outputs": [
        {
          "output_type": "stream",
          "text": [
            "Hackerrank\n",
            "Hackerearth\n",
            "Geeksforgeeks\n",
            "Codeshef\n",
            "Codeforces\n",
            "Leetcode\n"
          ],
          "name": "stdout"
        }
      ]
    },
    {
      "cell_type": "markdown",
      "metadata": {
        "id": "EtPh32mThRSd",
        "colab_type": "text"
      },
      "source": [
        "As we know list is mutable so we can make changes to it like we can append numbers to end and remove elements from it let's how we can implement it"
      ]
    },
    {
      "cell_type": "code",
      "metadata": {
        "id": "IOGTDA4rhNdK",
        "colab_type": "code",
        "colab": {
          "base_uri": "https://localhost:8080/",
          "height": 252
        },
        "outputId": "970b59b5-9997-4a54-fa77-3c39ed584a70"
      },
      "source": [
        "def my_function5(coding_sites):\n",
        "  coding_sites.append('Spoj') # Adding a value at the end\n",
        "  for i in coding_sites:\n",
        "    print(i)\n",
        "\n",
        "  print(len(coding_sites))\n",
        "  \n",
        "  coding_sites=coding_sites[0:6] # Removing the last element in the list\n",
        "  for i in coding_sites:\n",
        "    print(i)\n",
        "\n",
        "coding_sites=['Hackerrank','Hackerearth','Geeksforgeeks','Codeshef','Codeforces','Leetcode']\n",
        "\n",
        "my_function5(coding_sites)"
      ],
      "execution_count": null,
      "outputs": [
        {
          "output_type": "stream",
          "text": [
            "Hackerrank\n",
            "Hackerearth\n",
            "Geeksforgeeks\n",
            "Codeshef\n",
            "Codeforces\n",
            "Leetcode\n",
            "Spoj\n",
            "7\n",
            "Hackerrank\n",
            "Hackerearth\n",
            "Geeksforgeeks\n",
            "Codeshef\n",
            "Codeforces\n",
            "Leetcode\n"
          ],
          "name": "stdout"
        }
      ]
    },
    {
      "cell_type": "markdown",
      "metadata": {
        "id": "LnW0yTr1IY98",
        "colab_type": "text"
      },
      "source": [
        "# **Keyword Arguments**"
      ]
    },
    {
      "cell_type": "markdown",
      "metadata": {
        "id": "Ek421bwlu1sE",
        "colab_type": "text"
      },
      "source": [
        "Functions can also be called using keyword arguments of the form `key = value`.\n",
        "\n",
        "While calling functions using arguments the order of passing arguments matters\n",
        "\n",
        "But while calling function through keyword arguments order does not matter."
      ]
    },
    {
      "cell_type": "code",
      "metadata": {
        "id": "IGbQo_0ikBXF",
        "colab_type": "code",
        "colab": {}
      },
      "source": [
        "# lets look at the name() function we created earlier\n",
        "\n",
        "def name(fname, lname):\n",
        "  print(fname+\" \"+lname)"
      ],
      "execution_count": null,
      "outputs": []
    },
    {
      "cell_type": "code",
      "metadata": {
        "id": "UJwTi_yIkBab",
        "colab_type": "code",
        "colab": {
          "base_uri": "https://localhost:8080/",
          "height": 34
        },
        "outputId": "6d2aa3c9-dfb3-4dd8-9ce8-d76c629e6883"
      },
      "source": [
        "# calling function using arguments \n",
        "\n",
        "name (\"Daniel\", \"Radcliffe\")   # fname=\"Daniel\" and lname=\"Radcliffe\""
      ],
      "execution_count": null,
      "outputs": [
        {
          "output_type": "stream",
          "text": [
            "Daniel Radcliffe\n"
          ],
          "name": "stdout"
        }
      ]
    },
    {
      "cell_type": "code",
      "metadata": {
        "id": "bgx368k7uLGw",
        "colab_type": "code",
        "colab": {
          "base_uri": "https://localhost:8080/",
          "height": 34
        },
        "outputId": "ff4700d7-7142-4dbf-c0df-088ae24c6a45"
      },
      "source": [
        "name (\"Radcliffe\",\"Daniel\")    # fname=\"Radcliffe\" and lname=\"Daniel\""
      ],
      "execution_count": null,
      "outputs": [
        {
          "output_type": "stream",
          "text": [
            "Radcliffe Daniel\n"
          ],
          "name": "stdout"
        }
      ]
    },
    {
      "cell_type": "code",
      "metadata": {
        "id": "PMUDOIEWlizE",
        "colab_type": "code",
        "colab": {
          "base_uri": "https://localhost:8080/",
          "height": 34
        },
        "outputId": "7462c38c-5424-4772-bfb9-c49c4cc3adfb"
      },
      "source": [
        "# calling function using keyword arguments\n",
        "\n",
        "name(lname = \"Radcliffe\", fname = \"Daniel\")"
      ],
      "execution_count": null,
      "outputs": [
        {
          "output_type": "stream",
          "text": [
            "Daniel Radcliffe\n"
          ],
          "name": "stdout"
        }
      ]
    },
    {
      "cell_type": "code",
      "metadata": {
        "id": "_mT9lEpalxYK",
        "colab_type": "code",
        "colab": {}
      },
      "source": [
        "def dog(count, colour = \"brown\", breed = \"German Shepherd\", action = \"barking\"):\n",
        "  print(\"There are\",count,colour +\" \"+ breed, end = \".\")\n",
        "  print(\"They are \"+ action)\n"
      ],
      "execution_count": null,
      "outputs": []
    },
    {
      "cell_type": "code",
      "metadata": {
        "id": "hxoGtxjvniWo",
        "colab_type": "code",
        "colab": {
          "base_uri": "https://localhost:8080/",
          "height": 118
        },
        "outputId": "03bbe770-1828-4474-b0d2-ea3dc8147540"
      },
      "source": [
        "# the dog function can be called in the following ways\n",
        "\n",
        "print(\"# 1\", end = \" \")\n",
        "dog(5)                                                        # 1 positional argument\n",
        "print(\"# 2\", end = \" \")\n",
        "dog(count = 5)                                                # 1 keyword argument\n",
        "print(\"# 3\", end = \" \")\n",
        "dog(count = 5, action = \"sleeping\")                           # 2 keyword arguments\n",
        "print(\"# 4\", end = \" \")\n",
        "dog(breed = \"St. Bernard\", colour = \"white\", count = \"2\")     # 3 keyword arguments\n",
        "print(\"# 5\", end = \" \")\n",
        "dog(10, \"black\", \"Cane Corso\")                                # 3 positional arguments\n",
        "print(\"# 6\", end = \" \")\n",
        "dog(6, action = \"eating\")                                     # 1 positional argument and 1 keyword argument"
      ],
      "execution_count": null,
      "outputs": [
        {
          "output_type": "stream",
          "text": [
            "# 1 There are 5 brown German Shepherd.They are barking\n",
            "# 2 There are 5 brown German Shepherd.They are barking\n",
            "# 3 There are 5 brown German Shepherd.They are sleeping\n",
            "# 4 There are 2 white St. Bernard.They are barking\n",
            "# 5 There are 10 black Cane Corso.They are barking\n",
            "# 6 There are 6 brown German Shepherd.They are eating\n"
          ],
          "name": "stdout"
        }
      ]
    },
    {
      "cell_type": "markdown",
      "metadata": {
        "id": "YovNOKA-rp4F",
        "colab_type": "text"
      },
      "source": [
        "The followng are invalid calling statements:"
      ]
    },
    {
      "cell_type": "code",
      "metadata": {
        "id": "5Yvhe2EpnpDb",
        "colab_type": "code",
        "colab": {
          "base_uri": "https://localhost:8080/",
          "height": 162
        },
        "outputId": "dc2e3b25-abf8-45ac-fd5d-c2d35aed1f47"
      },
      "source": [
        "dog()                      # 1 required argument count is missing"
      ],
      "execution_count": null,
      "outputs": [
        {
          "output_type": "error",
          "ename": "TypeError",
          "evalue": "ignored",
          "traceback": [
            "\u001b[0;31m---------------------------------------------------------------------------\u001b[0m",
            "\u001b[0;31mTypeError\u001b[0m                                 Traceback (most recent call last)",
            "\u001b[0;32m<ipython-input-27-26a4184126ac>\u001b[0m in \u001b[0;36m<module>\u001b[0;34m()\u001b[0m\n\u001b[0;32m----> 1\u001b[0;31m \u001b[0mdog\u001b[0m\u001b[0;34m(\u001b[0m\u001b[0;34m)\u001b[0m                      \u001b[0;31m# 1 required argument count is missing\u001b[0m\u001b[0;34m\u001b[0m\u001b[0;34m\u001b[0m\u001b[0m\n\u001b[0m",
            "\u001b[0;31mTypeError\u001b[0m: dog() missing 1 required positional argument: 'count'"
          ]
        }
      ]
    },
    {
      "cell_type": "code",
      "metadata": {
        "id": "gjIL38v1rexq",
        "colab_type": "code",
        "colab": {
          "base_uri": "https://localhost:8080/",
          "height": 128
        },
        "outputId": "c3af4cbe-5521-4ed1-9761-ee268af3330c"
      },
      "source": [
        "dog(count = 5, \"Poodle\")   # positional argument follows keyword argument"
      ],
      "execution_count": null,
      "outputs": [
        {
          "output_type": "error",
          "ename": "SyntaxError",
          "evalue": "ignored",
          "traceback": [
            "\u001b[0;36m  File \u001b[0;32m\"<ipython-input-29-a0efc3131b01>\"\u001b[0;36m, line \u001b[0;32m1\u001b[0m\n\u001b[0;31m    dog(count = 5, \"Poodle\")   # positional argument follows keyword argument\u001b[0m\n\u001b[0m                  ^\u001b[0m\n\u001b[0;31mSyntaxError\u001b[0m\u001b[0;31m:\u001b[0m positional argument follows keyword argument\n"
          ]
        }
      ]
    },
    {
      "cell_type": "code",
      "metadata": {
        "id": "4GtenYb5rkgQ",
        "colab_type": "code",
        "colab": {
          "base_uri": "https://localhost:8080/",
          "height": 162
        },
        "outputId": "13f28824-8d1d-42c9-96c9-d898eb174f27"
      },
      "source": [
        "dog(9, count = 3)          # duplicate value for the same argument "
      ],
      "execution_count": null,
      "outputs": [
        {
          "output_type": "error",
          "ename": "TypeError",
          "evalue": "ignored",
          "traceback": [
            "\u001b[0;31m---------------------------------------------------------------------------\u001b[0m",
            "\u001b[0;31mTypeError\u001b[0m                                 Traceback (most recent call last)",
            "\u001b[0;32m<ipython-input-31-28873430fdf0>\u001b[0m in \u001b[0;36m<module>\u001b[0;34m()\u001b[0m\n\u001b[0;32m----> 1\u001b[0;31m \u001b[0mdog\u001b[0m\u001b[0;34m(\u001b[0m\u001b[0;36m9\u001b[0m\u001b[0;34m,\u001b[0m \u001b[0mcount\u001b[0m \u001b[0;34m=\u001b[0m \u001b[0;36m3\u001b[0m\u001b[0;34m)\u001b[0m          \u001b[0;31m# duplicate value for the same argument\u001b[0m\u001b[0;34m\u001b[0m\u001b[0;34m\u001b[0m\u001b[0m\n\u001b[0m",
            "\u001b[0;31mTypeError\u001b[0m: dog() got multiple values for argument 'count'"
          ]
        }
      ]
    },
    {
      "cell_type": "code",
      "metadata": {
        "id": "Xyk5cv3xrm0N",
        "colab_type": "code",
        "colab": {
          "base_uri": "https://localhost:8080/",
          "height": 162
        },
        "outputId": "124285d0-20f9-4f37-daa3-fdd087357c09"
      },
      "source": [
        "dog(state = \"alive\")       # unknown keyword argument"
      ],
      "execution_count": null,
      "outputs": [
        {
          "output_type": "error",
          "ename": "TypeError",
          "evalue": "ignored",
          "traceback": [
            "\u001b[0;31m---------------------------------------------------------------------------\u001b[0m",
            "\u001b[0;31mTypeError\u001b[0m                                 Traceback (most recent call last)",
            "\u001b[0;32m<ipython-input-32-69b0bbedb089>\u001b[0m in \u001b[0;36m<module>\u001b[0;34m()\u001b[0m\n\u001b[0;32m----> 1\u001b[0;31m \u001b[0mdog\u001b[0m\u001b[0;34m(\u001b[0m\u001b[0mstate\u001b[0m \u001b[0;34m=\u001b[0m \u001b[0;34m\"alive\"\u001b[0m\u001b[0;34m)\u001b[0m       \u001b[0;31m# unknown keyword argument\u001b[0m\u001b[0;34m\u001b[0m\u001b[0;34m\u001b[0m\u001b[0m\n\u001b[0m",
            "\u001b[0;31mTypeError\u001b[0m: dog() got an unexpected keyword argument 'state'"
          ]
        }
      ]
    },
    {
      "cell_type": "markdown",
      "metadata": {
        "id": "xQAkqneGIiPX",
        "colab_type": "text"
      },
      "source": [
        "**<H1>Arbitrary Keyword Arguments**"
      ]
    },
    {
      "cell_type": "markdown",
      "metadata": {
        "id": "cpYpJg_MXJAl",
        "colab_type": "text"
      },
      "source": [
        "In a similar situation, if we are unaware of the number of keyword arguments that will be passed. Then we simply put ` ** ` before the parameter name in the function definition .\n",
        "\n",
        "This way the function will receive a dictionary of arguments, and can access the items accordingly:\n",
        "\n",
        "A dictionary is a collection which is unordered, mutable and indexed. In Python dictionaries are written with curly brackets, and they have keys and values. \n",
        "\n",
        "ex: `{1:\"first\" , 2:\"second\" , 3:\"third\"}`"
      ]
    },
    {
      "cell_type": "code",
      "metadata": {
        "id": "TXckR3_jrZPk",
        "colab_type": "code",
        "colab": {}
      },
      "source": [
        "def myfunction4(**kwargs):  \n",
        "    for key, value in kwargs.items():    # looping through all the keys and values of the dictionary\n",
        "        print (key + \" = \" + value)"
      ],
      "execution_count": null,
      "outputs": []
    },
    {
      "cell_type": "code",
      "metadata": {
        "id": "8sNe317sbNG7",
        "colab_type": "code",
        "colab": {
          "base_uri": "https://localhost:8080/",
          "height": 67
        },
        "outputId": "163e7244-0412-4e02-fafe-99fbea602129"
      },
      "source": [
        "myfunction4(first = \"apple\", second = \"banana\", third = \"orange\")"
      ],
      "execution_count": null,
      "outputs": [
        {
          "output_type": "stream",
          "text": [
            "first = apple\n",
            "second = banana\n",
            "third = orange\n"
          ],
          "name": "stdout"
        }
      ]
    },
    {
      "cell_type": "markdown",
      "metadata": {
        "id": "JgjoLChhVueo",
        "colab_type": "text"
      },
      "source": [
        "# **Return Values**"
      ]
    },
    {
      "cell_type": "markdown",
      "metadata": {
        "id": "GW85XXQpmFcQ",
        "colab_type": "text"
      },
      "source": [
        "As the name suggests it will return either string , list , number , boolean value and many more according to the logic applied inside the function "
      ]
    },
    {
      "cell_type": "markdown",
      "metadata": {
        "id": "4qcHg-M36cok",
        "colab_type": "text"
      },
      "source": [
        "*    Returning Number "
      ]
    },
    {
      "cell_type": "code",
      "metadata": {
        "id": "MipEiOqtVsLo",
        "colab_type": "code",
        "colab": {
          "base_uri": "https://localhost:8080/",
          "height": 35
        },
        "outputId": "0e28395e-9c16-428c-dafc-c76fd567476a"
      },
      "source": [
        "def sqre(x):\n",
        "  return x * x\n",
        "\n",
        "l=sqre(3)\n",
        "p=sqre(l)\n",
        "print(p)"
      ],
      "execution_count": null,
      "outputs": [
        {
          "output_type": "stream",
          "text": [
            "81\n"
          ],
          "name": "stdout"
        }
      ]
    },
    {
      "cell_type": "markdown",
      "metadata": {
        "id": "-ecDKl9J6g0c",
        "colab_type": "text"
      },
      "source": [
        "*    Returning Boolean value"
      ]
    },
    {
      "cell_type": "code",
      "metadata": {
        "id": "JHd7owiJp84I",
        "colab_type": "code",
        "colab": {
          "base_uri": "https://localhost:8080/",
          "height": 52
        },
        "outputId": "ce46ea3d-acf5-4d16-d567-785b6164b6c7"
      },
      "source": [
        "def check(x):\n",
        "  if x%2==0:\n",
        "    return True\n",
        "  else:\n",
        "    return False\n",
        "\n",
        "print(check(4))\n",
        "print(check(5))"
      ],
      "execution_count": null,
      "outputs": [
        {
          "output_type": "stream",
          "text": [
            "True\n",
            "False\n"
          ],
          "name": "stdout"
        }
      ]
    },
    {
      "cell_type": "markdown",
      "metadata": {
        "id": "Fl6lc-cc6kdd",
        "colab_type": "text"
      },
      "source": [
        "*    Returning List"
      ]
    },
    {
      "cell_type": "code",
      "metadata": {
        "id": "SL0KDxXz6EGu",
        "colab_type": "code",
        "colab": {
          "base_uri": "https://localhost:8080/",
          "height": 35
        },
        "outputId": "57d6ca7f-9073-4fc3-c2f9-91a01da02b65"
      },
      "source": [
        "def ar(x):\n",
        "  a=[]\n",
        "  for i in range(0,x):\n",
        "    a.append(i+1)\n",
        "  return a\n",
        "p=ar(5)\n",
        "print(p)"
      ],
      "execution_count": null,
      "outputs": [
        {
          "output_type": "stream",
          "text": [
            "[1, 2, 3, 4, 5]\n"
          ],
          "name": "stdout"
        }
      ]
    },
    {
      "cell_type": "markdown",
      "metadata": {
        "id": "LfFl3yy36qGa",
        "colab_type": "text"
      },
      "source": [
        "*    Returning string"
      ]
    },
    {
      "cell_type": "code",
      "metadata": {
        "id": "XMo2lkis6pxJ",
        "colab_type": "code",
        "colab": {
          "base_uri": "https://localhost:8080/",
          "height": 35
        },
        "outputId": "1af5f73f-943e-43c3-a4cc-d85be89026f6"
      },
      "source": [
        "def str(x):\n",
        "  x= x + ' Concept'\n",
        "  return x\n",
        "p=str(\"Welcome to the Return\")\n",
        "print(p)"
      ],
      "execution_count": null,
      "outputs": [
        {
          "output_type": "stream",
          "text": [
            "Welcome to the Return Concept\n"
          ],
          "name": "stdout"
        }
      ]
    },
    {
      "cell_type": "markdown",
      "metadata": {
        "id": "9trBgfbBV3em",
        "colab_type": "text"
      },
      "source": [
        "# **The pass Statement**"
      ]
    },
    {
      "cell_type": "markdown",
      "metadata": {
        "id": "LhSTonNFx-W0",
        "colab_type": "text"
      },
      "source": [
        "function definitions cannot be empty, but if you for some reason have a function definition with no content, put in the pass statement to avoid getting an error"
      ]
    },
    {
      "cell_type": "code",
      "metadata": {
        "id": "qugom7ztV0Oz",
        "colab_type": "code",
        "colab": {}
      },
      "source": [
        "def myfunction():\n",
        "  pass"
      ],
      "execution_count": null,
      "outputs": []
    },
    {
      "cell_type": "markdown",
      "metadata": {
        "id": "srKvTMN1Xhcz",
        "colab_type": "text"
      },
      "source": [
        "# **Recursion**"
      ]
    },
    {
      "cell_type": "markdown",
      "metadata": {
        "id": "Q34jkhbyuH6a",
        "colab_type": "text"
      },
      "source": [
        "Recursion is same as of loops :)\n",
        "\n",
        "Recursion is a common mathematical and programming concept. It means that a function calls itself. This has the benefit of meaning that you can loop through data to reach a result."
      ]
    },
    {
      "cell_type": "markdown",
      "metadata": {
        "id": "w21WaBRa4WcD",
        "colab_type": "text"
      },
      "source": [
        "**NOTE:-** Remember while using recursion u must put a terminating condition to exit from the programme unless your will result in a never ending process and will result into an error :("
      ]
    },
    {
      "cell_type": "markdown",
      "metadata": {
        "id": "cAeZidmq3wfd",
        "colab_type": "text"
      },
      "source": [
        "Printing factorial using recursion"
      ]
    },
    {
      "cell_type": "markdown",
      "metadata": {
        "id": "VdOIh09b41sY",
        "colab_type": "text"
      },
      "source": [
        "*    With terminating condition"
      ]
    },
    {
      "cell_type": "code",
      "metadata": {
        "id": "hKvTojLc44RL",
        "colab_type": "code",
        "colab": {
          "base_uri": "https://localhost:8080/",
          "height": 52
        },
        "outputId": "203ce7ac-4af8-4552-8034-7501bd1d9290"
      },
      "source": [
        "def fact(x):\n",
        "  if x==0:\n",
        "    return 1\n",
        "  elif x==1:\n",
        "    return 1\n",
        "  else:\n",
        "    return x*fact(x-1) \n",
        "print(\"factorial of 5\")\n",
        "k=5\n",
        "print(fact(k))"
      ],
      "execution_count": null,
      "outputs": [
        {
          "output_type": "stream",
          "text": [
            "factorial of 5\n",
            "120\n"
          ],
          "name": "stdout"
        }
      ]
    },
    {
      "cell_type": "markdown",
      "metadata": {
        "id": "L1q9p8oN4rp7",
        "colab_type": "text"
      },
      "source": [
        "*    Without terminating condition"
      ]
    },
    {
      "cell_type": "code",
      "metadata": {
        "id": "IKo5CH_rwJuC",
        "colab_type": "code",
        "colab": {
          "base_uri": "https://localhost:8080/",
          "height": 405
        },
        "outputId": "61747599-1c8f-4aed-b6dc-ed3cb89a79ff"
      },
      "source": [
        "def fact(x):\n",
        "    return x*fact(x-1) \n",
        "print(\"factorial of 5\")\n",
        "k=5\n",
        "print(fact(k))"
      ],
      "execution_count": null,
      "outputs": [
        {
          "output_type": "stream",
          "text": [
            "factorial of 5\n"
          ],
          "name": "stdout"
        },
        {
          "output_type": "error",
          "ename": "RecursionError",
          "evalue": "ignored",
          "traceback": [
            "\u001b[0;31m---------------------------------------------------------------------------\u001b[0m",
            "\u001b[0;31mRecursionError\u001b[0m                            Traceback (most recent call last)",
            "\u001b[0;32m<ipython-input-5-de445e67b33c>\u001b[0m in \u001b[0;36m<module>\u001b[0;34m()\u001b[0m\n\u001b[1;32m      3\u001b[0m \u001b[0mprint\u001b[0m\u001b[0;34m(\u001b[0m\u001b[0;34m\"factorial of 5\"\u001b[0m\u001b[0;34m)\u001b[0m\u001b[0;34m\u001b[0m\u001b[0;34m\u001b[0m\u001b[0m\n\u001b[1;32m      4\u001b[0m \u001b[0mk\u001b[0m\u001b[0;34m=\u001b[0m\u001b[0;36m5\u001b[0m\u001b[0;34m\u001b[0m\u001b[0;34m\u001b[0m\u001b[0m\n\u001b[0;32m----> 5\u001b[0;31m \u001b[0mprint\u001b[0m\u001b[0;34m(\u001b[0m\u001b[0mfact\u001b[0m\u001b[0;34m(\u001b[0m\u001b[0mk\u001b[0m\u001b[0;34m)\u001b[0m\u001b[0;34m)\u001b[0m\u001b[0;34m\u001b[0m\u001b[0;34m\u001b[0m\u001b[0m\n\u001b[0m",
            "\u001b[0;32m<ipython-input-5-de445e67b33c>\u001b[0m in \u001b[0;36mfact\u001b[0;34m(x)\u001b[0m\n\u001b[1;32m      1\u001b[0m \u001b[0;32mdef\u001b[0m \u001b[0mfact\u001b[0m\u001b[0;34m(\u001b[0m\u001b[0mx\u001b[0m\u001b[0;34m)\u001b[0m\u001b[0;34m:\u001b[0m\u001b[0;34m\u001b[0m\u001b[0;34m\u001b[0m\u001b[0m\n\u001b[0;32m----> 2\u001b[0;31m     \u001b[0;32mreturn\u001b[0m \u001b[0mx\u001b[0m\u001b[0;34m*\u001b[0m\u001b[0mfact\u001b[0m\u001b[0;34m(\u001b[0m\u001b[0mx\u001b[0m\u001b[0;34m-\u001b[0m\u001b[0;36m1\u001b[0m\u001b[0;34m)\u001b[0m\u001b[0;34m\u001b[0m\u001b[0;34m\u001b[0m\u001b[0m\n\u001b[0m\u001b[1;32m      3\u001b[0m \u001b[0mprint\u001b[0m\u001b[0;34m(\u001b[0m\u001b[0;34m\"factorial of 5\"\u001b[0m\u001b[0;34m)\u001b[0m\u001b[0;34m\u001b[0m\u001b[0;34m\u001b[0m\u001b[0m\n\u001b[1;32m      4\u001b[0m \u001b[0mk\u001b[0m\u001b[0;34m=\u001b[0m\u001b[0;36m5\u001b[0m\u001b[0;34m\u001b[0m\u001b[0;34m\u001b[0m\u001b[0m\n\u001b[1;32m      5\u001b[0m \u001b[0mprint\u001b[0m\u001b[0;34m(\u001b[0m\u001b[0mfact\u001b[0m\u001b[0;34m(\u001b[0m\u001b[0mk\u001b[0m\u001b[0;34m)\u001b[0m\u001b[0;34m)\u001b[0m\u001b[0;34m\u001b[0m\u001b[0;34m\u001b[0m\u001b[0m\n",
            "... last 1 frames repeated, from the frame below ...\n",
            "\u001b[0;32m<ipython-input-5-de445e67b33c>\u001b[0m in \u001b[0;36mfact\u001b[0;34m(x)\u001b[0m\n\u001b[1;32m      1\u001b[0m \u001b[0;32mdef\u001b[0m \u001b[0mfact\u001b[0m\u001b[0;34m(\u001b[0m\u001b[0mx\u001b[0m\u001b[0;34m)\u001b[0m\u001b[0;34m:\u001b[0m\u001b[0;34m\u001b[0m\u001b[0;34m\u001b[0m\u001b[0m\n\u001b[0;32m----> 2\u001b[0;31m     \u001b[0;32mreturn\u001b[0m \u001b[0mx\u001b[0m\u001b[0;34m*\u001b[0m\u001b[0mfact\u001b[0m\u001b[0;34m(\u001b[0m\u001b[0mx\u001b[0m\u001b[0;34m-\u001b[0m\u001b[0;36m1\u001b[0m\u001b[0;34m)\u001b[0m\u001b[0;34m\u001b[0m\u001b[0;34m\u001b[0m\u001b[0m\n\u001b[0m\u001b[1;32m      3\u001b[0m \u001b[0mprint\u001b[0m\u001b[0;34m(\u001b[0m\u001b[0;34m\"factorial of 5\"\u001b[0m\u001b[0;34m)\u001b[0m\u001b[0;34m\u001b[0m\u001b[0;34m\u001b[0m\u001b[0m\n\u001b[1;32m      4\u001b[0m \u001b[0mk\u001b[0m\u001b[0;34m=\u001b[0m\u001b[0;36m5\u001b[0m\u001b[0;34m\u001b[0m\u001b[0;34m\u001b[0m\u001b[0m\n\u001b[1;32m      5\u001b[0m \u001b[0mprint\u001b[0m\u001b[0;34m(\u001b[0m\u001b[0mfact\u001b[0m\u001b[0;34m(\u001b[0m\u001b[0mk\u001b[0m\u001b[0;34m)\u001b[0m\u001b[0;34m)\u001b[0m\u001b[0;34m\u001b[0m\u001b[0;34m\u001b[0m\u001b[0m\n",
            "\u001b[0;31mRecursionError\u001b[0m: maximum recursion depth exceeded"
          ]
        }
      ]
    },
    {
      "cell_type": "markdown",
      "metadata": {
        "id": "1brJM24ospyY",
        "colab_type": "text"
      },
      "source": [
        "Let's print { 0 1 1 2 3 ...  } series with the help of recursion\n"
      ]
    },
    {
      "cell_type": "code",
      "metadata": {
        "id": "n2Ggo1j3XeZG",
        "colab_type": "code",
        "colab": {
          "base_uri": "https://localhost:8080/",
          "height": 52
        },
        "outputId": "926d0491-4431-470f-dc7e-dedc098550cd"
      },
      "source": [
        "def fib(a,b,k):\n",
        "  if k-2>0:\n",
        "    print(a+b,end=' ')\n",
        "    fib(b,a+b,k-1)\n",
        "  else:\n",
        "    return\n",
        "print('Printing the terms of series upto 8')\n",
        "k=8 \n",
        "print('Required series :- 0 1 ',end='')\n",
        "fib(0,1,k)"
      ],
      "execution_count": null,
      "outputs": [
        {
          "output_type": "stream",
          "text": [
            "Printing the terms of series upto 8\n",
            "Required series :- 0 1 1 2 3 5 8 13 "
          ],
          "name": "stdout"
        }
      ]
    },
    {
      "cell_type": "markdown",
      "metadata": {
        "id": "W81nLccvxbib",
        "colab_type": "text"
      },
      "source": [
        "**NOTE** :- Recursion never makes your code works faster and never uses less memory "
      ]
    },
    {
      "cell_type": "markdown",
      "metadata": {
        "id": "32OXnZ88YK5i",
        "colab_type": "text"
      },
      "source": [
        "# **Lambda Expressions**"
      ]
    },
    {
      "cell_type": "markdown",
      "metadata": {
        "id": "CamzMzvZm4B4",
        "colab_type": "text"
      },
      "source": [
        "It is a small anonymous functions"
      ]
    },
    {
      "cell_type": "markdown",
      "metadata": {
        "id": "1vh9erUKoAyz",
        "colab_type": "text"
      },
      "source": [
        "For eg:- A lambda function that multiply 10 to the number passed in as an argument and print the result"
      ]
    },
    {
      "cell_type": "code",
      "metadata": {
        "id": "yG3tIKNvYBOq",
        "colab_type": "code",
        "colab": {
          "base_uri": "https://localhost:8080/",
          "height": 35
        },
        "outputId": "23df34ba-2f9d-47cf-9eea-91c0722dcc83"
      },
      "source": [
        "x = lambda a : a * 10\n",
        "print(x(3))"
      ],
      "execution_count": null,
      "outputs": [
        {
          "output_type": "stream",
          "text": [
            "30\n"
          ],
          "name": "stdout"
        }
      ]
    },
    {
      "cell_type": "markdown",
      "metadata": {
        "id": "uDXT-Ryeo4EY",
        "colab_type": "text"
      },
      "source": [
        "The explanation of the above Programme is :-\n",
        "\n",
        "1. What does a : a + 10 does ?\n",
        "It basically returns the sum of value passed to it + 10 and store the result in a\n",
        "\n",
        "2. You can think of it as f(x)=x*x + x + 1 { Any function }\n",
        "\n",
        "3. We can call the function f(x) i.e { x in our question } by passing suitable value to it for getting our desired result"
      ]
    },
    {
      "cell_type": "markdown",
      "metadata": {
        "id": "ZTDDitvXqULl",
        "colab_type": "text"
      },
      "source": [
        "Lambda function multiplying 3 values"
      ]
    },
    {
      "cell_type": "code",
      "metadata": {
        "id": "8XSiWhwLnePT",
        "colab_type": "code",
        "colab": {
          "base_uri": "https://localhost:8080/",
          "height": 35
        },
        "outputId": "86f86e00-3721-4891-f8ab-8ebe8f4bc079"
      },
      "source": [
        "x = lambda a, b, c : a * b *c\n",
        "print(x(5, 6, 2))"
      ],
      "execution_count": null,
      "outputs": [
        {
          "output_type": "stream",
          "text": [
            "60\n"
          ],
          "name": "stdout"
        }
      ]
    },
    {
      "cell_type": "markdown",
      "metadata": {
        "id": "vv00pid0oBgo",
        "colab_type": "text"
      },
      "source": [
        "Below function perform the additon of the 2 variables"
      ]
    },
    {
      "cell_type": "code",
      "metadata": {
        "id": "b2lMGwB1mrCu",
        "colab_type": "code",
        "colab": {
          "base_uri": "https://localhost:8080/",
          "height": 35
        },
        "outputId": "f91f2983-a9b0-4873-80d2-005323706c74"
      },
      "source": [
        "def make_incrementor(n):\n",
        "  return lambda x: x + n\n",
        "f = make_incrementor(42)\n",
        "f(42)"
      ],
      "execution_count": null,
      "outputs": [
        {
          "output_type": "execute_result",
          "data": {
            "text/plain": [
              "84"
            ]
          },
          "metadata": {
            "tags": []
          },
          "execution_count": 43
        }
      ]
    },
    {
      "cell_type": "code",
      "metadata": {
        "id": "HlqL8qJMqcD7",
        "colab_type": "code",
        "colab": {
          "base_uri": "https://localhost:8080/",
          "height": 35
        },
        "outputId": "f9899557-80d3-4028-b563-4ad434e4f83c"
      },
      "source": [
        "def myfunc(n):\n",
        "  return lambda a : a * n\n",
        "\n",
        "mydoubler = myfunc(2)\n",
        "\n",
        "print(mydoubler(11))"
      ],
      "execution_count": null,
      "outputs": [
        {
          "output_type": "stream",
          "text": [
            "22\n"
          ],
          "name": "stdout"
        }
      ]
    },
    {
      "cell_type": "markdown",
      "metadata": {
        "id": "m09XMDmdrcSq",
        "colab_type": "text"
      },
      "source": [
        "**Why lambda ???**"
      ]
    },
    {
      "cell_type": "markdown",
      "metadata": {
        "id": "8278yWYqs5gS",
        "colab_type": "text"
      },
      "source": [
        "Lambda function are used along with built-in functions like filter() , map() and many more \n",
        "\n",
        "let's see what they do ?"
      ]
    },
    {
      "cell_type": "markdown",
      "metadata": {
        "id": "giTR1Zg9tTTW",
        "colab_type": "text"
      },
      "source": [
        "<h2>A) filter()</h2>\n",
        "\n",
        "\n",
        "As the name suggests it will filter out values according to the condition applied\n",
        "\n",
        "The function is called with all the items in the list and a new list is returned which contains items for which the function evaluates to True\n",
        "\n",
        "The filter() function in Python takes in a function and a list as arguments\n",
        "\n",
        "syntax:-\n",
        "new_list=list(filter(lambda x : condition ,list_on which_operation))"
      ]
    },
    {
      "cell_type": "markdown",
      "metadata": {
        "id": "td7Nyguxti-X",
        "colab_type": "text"
      },
      "source": [
        "Now let's print only those values which are divisible by 2 by both lambda and simple loop\n",
        "\n"
      ]
    },
    {
      "cell_type": "code",
      "metadata": {
        "id": "qlABcqi-tiMA",
        "colab_type": "code",
        "colab": {}
      },
      "source": [
        "a = [1, 5, 4, 6, 8, 11, 3, 12]"
      ],
      "execution_count": null,
      "outputs": []
    },
    {
      "cell_type": "markdown",
      "metadata": {
        "id": "quaPd_Nst4Cx",
        "colab_type": "text"
      },
      "source": [
        "**With lambda**"
      ]
    },
    {
      "cell_type": "code",
      "metadata": {
        "id": "svZEcipzqtGx",
        "colab_type": "code",
        "colab": {
          "base_uri": "https://localhost:8080/",
          "height": 35
        },
        "outputId": "924b5425-79b7-4a6f-c0db-c13a14410fe7"
      },
      "source": [
        "new_list= list(filter(lambda x: (x%2 == 0),a))\n",
        "print(new_list)"
      ],
      "execution_count": null,
      "outputs": [
        {
          "output_type": "stream",
          "text": [
            "[4, 6, 8, 12]\n"
          ],
          "name": "stdout"
        }
      ]
    },
    {
      "cell_type": "markdown",
      "metadata": {
        "id": "5UD0ODs9t7rH",
        "colab_type": "text"
      },
      "source": [
        "**Without lambda**"
      ]
    },
    {
      "cell_type": "code",
      "metadata": {
        "id": "7IwecPHXtgTh",
        "colab_type": "code",
        "colab": {
          "base_uri": "https://localhost:8080/",
          "height": 35
        },
        "outputId": "e4e52c70-86cb-40f7-dfbc-344ac7464632"
      },
      "source": [
        "b=[]\n",
        "for i in range(0,len(a)):\n",
        "  if a[i]%2==0:\n",
        "    b.append(a[i])\n",
        "print(b)  "
      ],
      "execution_count": null,
      "outputs": [
        {
          "output_type": "stream",
          "text": [
            "[4, 6, 8, 12]\n"
          ],
          "name": "stdout"
        }
      ]
    },
    {
      "cell_type": "markdown",
      "metadata": {
        "id": "7omhwG0IucFI",
        "colab_type": "text"
      },
      "source": [
        "<h2>B) map()</h2>\n",
        "\n",
        "The function is called with all the items in the list and a new list is returned which contains items returned by that function for each item\n",
        "\n",
        "The map() function in Python takes in a function and a list\n",
        "\n",
        "syntax:- \n",
        "new_list=list(map(lambda x : condition ,list_on which_operation))"
      ]
    },
    {
      "cell_type": "markdown",
      "metadata": {
        "id": "ISZmawPyuvA7",
        "colab_type": "text"
      },
      "source": [
        "Now let's print all values multiplied by 2 by both lambda and simple loop function\n"
      ]
    },
    {
      "cell_type": "code",
      "metadata": {
        "id": "95pn-cMNrnfD",
        "colab_type": "code",
        "colab": {}
      },
      "source": [
        "a=[1,2,3,4,5,6,7,8,9,10]"
      ],
      "execution_count": null,
      "outputs": []
    },
    {
      "cell_type": "markdown",
      "metadata": {
        "id": "iGx8JWDAu4ow",
        "colab_type": "text"
      },
      "source": [
        "**With lambda**"
      ]
    },
    {
      "cell_type": "code",
      "metadata": {
        "id": "286Sfj68r0ow",
        "colab_type": "code",
        "colab": {
          "base_uri": "https://localhost:8080/",
          "height": 35
        },
        "outputId": "411e0d98-e40d-4a4a-f67c-5f50230b6602"
      },
      "source": [
        "new_list = list(map(lambda x: x * 2 , a))\n",
        "print(new_list)"
      ],
      "execution_count": null,
      "outputs": [
        {
          "output_type": "stream",
          "text": [
            "[2, 4, 6, 8, 10, 12, 14, 16, 18, 20]\n"
          ],
          "name": "stdout"
        }
      ]
    },
    {
      "cell_type": "markdown",
      "metadata": {
        "id": "Ai6uVP8zu7Aj",
        "colab_type": "text"
      },
      "source": [
        "**Without lambda**"
      ]
    },
    {
      "cell_type": "code",
      "metadata": {
        "id": "SyGEPm0GrzEr",
        "colab_type": "code",
        "colab": {
          "base_uri": "https://localhost:8080/",
          "height": 35
        },
        "outputId": "28a53742-ee30-4f53-9abb-ecbb55fa648c"
      },
      "source": [
        "for i in range(0,len(a)):\n",
        "  a[i]=2*a[i]\n",
        "print(a)"
      ],
      "execution_count": null,
      "outputs": [
        {
          "output_type": "stream",
          "text": [
            "[2, 4, 6, 8, 10, 12, 14, 16, 18, 20]\n"
          ],
          "name": "stdout"
        }
      ]
    }
  ]
}
