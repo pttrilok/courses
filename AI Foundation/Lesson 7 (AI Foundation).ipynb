{
  "nbformat": 4,
  "nbformat_minor": 0,
  "metadata": {
    "colab": {
      "name": "Lesson 7 (AI Foundation).ipynb",
      "provenance": [],
      "include_colab_link": true
    },
    "kernelspec": {
      "name": "python3",
      "display_name": "Python 3"
    }
  },
  "cells": [
    {
      "cell_type": "markdown",
      "metadata": {
        "id": "view-in-github",
        "colab_type": "text"
      },
      "source": [
        "<a href=\"https://colab.research.google.com/github/pttrilok/courses/blob/master/AI%20Foundation/Lesson%207%20(AI%20Foundation).ipynb\" target=\"_parent\"><img src=\"https://colab.research.google.com/assets/colab-badge.svg\" alt=\"Open In Colab\"/></a>"
      ]
    },
    {
      "cell_type": "markdown",
      "metadata": {
        "id": "TPv3GUac1zcs",
        "colab_type": "text"
      },
      "source": [
        "<h1> In this lesson we will learn about\n",
        "\n",
        "*    googletrans library\n",
        "\n",
        "*    gTTs library\n",
        "\n",
        "*    Text Blob"
      ]
    },
    {
      "cell_type": "markdown",
      "metadata": {
        "id": "in1K3pdUAw2b",
        "colab_type": "text"
      },
      "source": [
        "# **`googletrans`**  library"
      ]
    },
    {
      "cell_type": "markdown",
      "metadata": {
        "id": "658u2rcFcxlm",
        "colab_type": "text"
      },
      "source": [
        "Installing `googletrans` library"
      ]
    },
    {
      "cell_type": "code",
      "metadata": {
        "id": "BOQmkmTzCqxb",
        "colab_type": "code",
        "colab": {
          "base_uri": "https://localhost:8080/",
          "height": 781
        },
        "outputId": "f397a975-52ab-4d73-f330-e6bb0b82cd6f"
      },
      "source": [
        "pip install googletrans"
      ],
      "execution_count": null,
      "outputs": [
        {
          "output_type": "stream",
          "text": [
            "Collecting googletrans\n",
            "  Downloading https://files.pythonhosted.org/packages/71/3a/3b19effdd4c03958b90f40fe01c93de6d5280e03843cc5adf6956bfc9512/googletrans-3.0.0.tar.gz\n",
            "Collecting httpx==0.13.3\n",
            "\u001b[?25l  Downloading https://files.pythonhosted.org/packages/54/b4/698b284c6aed4d7c2b4fe3ba5df1fcf6093612423797e76fbb24890dd22f/httpx-0.13.3-py3-none-any.whl (55kB)\n",
            "\u001b[K     |████████████████████████████████| 61kB 3.0MB/s \n",
            "\u001b[?25hCollecting rfc3986<2,>=1.3\n",
            "  Downloading https://files.pythonhosted.org/packages/78/be/7b8b99fd74ff5684225f50dd0e865393d2265656ef3b4ba9eaaaffe622b8/rfc3986-1.4.0-py2.py3-none-any.whl\n",
            "Requirement already satisfied: certifi in /usr/local/lib/python3.6/dist-packages (from httpx==0.13.3->googletrans) (2020.6.20)\n",
            "Requirement already satisfied: chardet==3.* in /usr/local/lib/python3.6/dist-packages (from httpx==0.13.3->googletrans) (3.0.4)\n",
            "Collecting httpcore==0.9.*\n",
            "\u001b[?25l  Downloading https://files.pythonhosted.org/packages/dd/d5/e4ff9318693ac6101a2095e580908b591838c6f33df8d3ee8dd953ba96a8/httpcore-0.9.1-py3-none-any.whl (42kB)\n",
            "\u001b[K     |████████████████████████████████| 51kB 6.0MB/s \n",
            "\u001b[?25hCollecting hstspreload\n",
            "\u001b[?25l  Downloading https://files.pythonhosted.org/packages/4c/07/12dd706501a3212a9774feb69d6a2333963a2da19ba98861ab23f2439f3d/hstspreload-2020.9.9-py3-none-any.whl (953kB)\n",
            "\u001b[K     |████████████████████████████████| 962kB 6.6MB/s \n",
            "\u001b[?25hRequirement already satisfied: idna==2.* in /usr/local/lib/python3.6/dist-packages (from httpx==0.13.3->googletrans) (2.10)\n",
            "Collecting sniffio\n",
            "  Downloading https://files.pythonhosted.org/packages/b3/82/4bd4b7d9c0d1dc0fbfbc2a1e00138e7f3ab85bc239358fe9b78aa2ab586d/sniffio-1.1.0-py3-none-any.whl\n",
            "Collecting h11<0.10,>=0.8\n",
            "\u001b[?25l  Downloading https://files.pythonhosted.org/packages/5a/fd/3dad730b0f95e78aeeb742f96fa7bbecbdd56a58e405d3da440d5bfb90c6/h11-0.9.0-py2.py3-none-any.whl (53kB)\n",
            "\u001b[K     |████████████████████████████████| 61kB 8.9MB/s \n",
            "\u001b[?25hCollecting h2==3.*\n",
            "\u001b[?25l  Downloading https://files.pythonhosted.org/packages/25/de/da019bcc539eeab02f6d45836f23858ac467f584bfec7a526ef200242afe/h2-3.2.0-py2.py3-none-any.whl (65kB)\n",
            "\u001b[K     |████████████████████████████████| 71kB 8.5MB/s \n",
            "\u001b[?25hCollecting contextvars>=2.1; python_version < \"3.7\"\n",
            "  Downloading https://files.pythonhosted.org/packages/83/96/55b82d9f13763be9d672622e1b8106c85acb83edd7cc2fa5bc67cd9877e9/contextvars-2.4.tar.gz\n",
            "Collecting hyperframe<6,>=5.2.0\n",
            "  Downloading https://files.pythonhosted.org/packages/19/0c/bf88182bcb5dce3094e2f3e4fe20db28a9928cb7bd5b08024030e4b140db/hyperframe-5.2.0-py2.py3-none-any.whl\n",
            "Collecting hpack<4,>=3.0\n",
            "  Downloading https://files.pythonhosted.org/packages/8a/cc/e53517f4a1e13f74776ca93271caef378dadec14d71c61c949d759d3db69/hpack-3.0.0-py2.py3-none-any.whl\n",
            "Collecting immutables>=0.9\n",
            "\u001b[?25l  Downloading https://files.pythonhosted.org/packages/99/e0/ea6fd4697120327d26773b5a84853f897a68e33d3f9376b00a8ff96e4f63/immutables-0.14-cp36-cp36m-manylinux1_x86_64.whl (98kB)\n",
            "\u001b[K     |████████████████████████████████| 102kB 12.1MB/s \n",
            "\u001b[?25hBuilding wheels for collected packages: googletrans, contextvars\n",
            "  Building wheel for googletrans (setup.py) ... \u001b[?25l\u001b[?25hdone\n",
            "  Created wheel for googletrans: filename=googletrans-3.0.0-cp36-none-any.whl size=15736 sha256=79777118db1d822cebdc31de9845f01f7ad1991b447fa715b0121aeb5d2a527a\n",
            "  Stored in directory: /root/.cache/pip/wheels/28/1a/a7/eaf4d7a3417a0c65796c547cff4deb6d79c7d14c2abd29273e\n",
            "  Building wheel for contextvars (setup.py) ... \u001b[?25l\u001b[?25hdone\n",
            "  Created wheel for contextvars: filename=contextvars-2.4-cp36-none-any.whl size=7666 sha256=418aa66cda4e6458431ab5bf76a46b1e50a88856fc881ee35c5a24aa9c615abc\n",
            "  Stored in directory: /root/.cache/pip/wheels/a5/7d/68/1ebae2668bda2228686e3c1cf16f2c2384cea6e9334ad5f6de\n",
            "Successfully built googletrans contextvars\n",
            "Installing collected packages: rfc3986, h11, immutables, contextvars, sniffio, hyperframe, hpack, h2, httpcore, hstspreload, httpx, googletrans\n",
            "Successfully installed contextvars-2.4 googletrans-3.0.0 h11-0.9.0 h2-3.2.0 hpack-3.0.0 hstspreload-2020.9.9 httpcore-0.9.1 httpx-0.13.3 hyperframe-5.2.0 immutables-0.14 rfc3986-1.4.0 sniffio-1.1.0\n"
          ],
          "name": "stdout"
        }
      ]
    },
    {
      "cell_type": "code",
      "metadata": {
        "id": "kANHlfRa7E9T",
        "colab_type": "code",
        "colab": {}
      },
      "source": [
        "import googletrans"
      ],
      "execution_count": null,
      "outputs": []
    },
    {
      "cell_type": "code",
      "metadata": {
        "id": "EklMAHf4DICb",
        "colab_type": "code",
        "colab": {}
      },
      "source": [
        "translator = googletrans.Translator()"
      ],
      "execution_count": null,
      "outputs": []
    },
    {
      "cell_type": "markdown",
      "metadata": {
        "id": "OWTfqE02duSc",
        "colab_type": "text"
      },
      "source": [
        "<H3>Language code for supported languages for translation."
      ]
    },
    {
      "cell_type": "code",
      "metadata": {
        "id": "kbUKjiRNdt6m",
        "colab_type": "code",
        "colab": {
          "base_uri": "https://localhost:8080/",
          "height": 1000
        },
        "outputId": "9d7154a0-96a6-40f5-b6b6-7d16f0b72566"
      },
      "source": [
        "googletrans.LANGUAGES"
      ],
      "execution_count": null,
      "outputs": [
        {
          "output_type": "execute_result",
          "data": {
            "text/plain": [
              "{'af': 'afrikaans',\n",
              " 'am': 'amharic',\n",
              " 'ar': 'arabic',\n",
              " 'az': 'azerbaijani',\n",
              " 'be': 'belarusian',\n",
              " 'bg': 'bulgarian',\n",
              " 'bn': 'bengali',\n",
              " 'bs': 'bosnian',\n",
              " 'ca': 'catalan',\n",
              " 'ceb': 'cebuano',\n",
              " 'co': 'corsican',\n",
              " 'cs': 'czech',\n",
              " 'cy': 'welsh',\n",
              " 'da': 'danish',\n",
              " 'de': 'german',\n",
              " 'el': 'greek',\n",
              " 'en': 'english',\n",
              " 'eo': 'esperanto',\n",
              " 'es': 'spanish',\n",
              " 'et': 'estonian',\n",
              " 'eu': 'basque',\n",
              " 'fa': 'persian',\n",
              " 'fi': 'finnish',\n",
              " 'fr': 'french',\n",
              " 'fy': 'frisian',\n",
              " 'ga': 'irish',\n",
              " 'gd': 'scots gaelic',\n",
              " 'gl': 'galician',\n",
              " 'gu': 'gujarati',\n",
              " 'ha': 'hausa',\n",
              " 'haw': 'hawaiian',\n",
              " 'he': 'hebrew',\n",
              " 'hi': 'hindi',\n",
              " 'hmn': 'hmong',\n",
              " 'hr': 'croatian',\n",
              " 'ht': 'haitian creole',\n",
              " 'hu': 'hungarian',\n",
              " 'hy': 'armenian',\n",
              " 'id': 'indonesian',\n",
              " 'ig': 'igbo',\n",
              " 'is': 'icelandic',\n",
              " 'it': 'italian',\n",
              " 'iw': 'hebrew',\n",
              " 'ja': 'japanese',\n",
              " 'jw': 'javanese',\n",
              " 'ka': 'georgian',\n",
              " 'kk': 'kazakh',\n",
              " 'km': 'khmer',\n",
              " 'kn': 'kannada',\n",
              " 'ko': 'korean',\n",
              " 'ku': 'kurdish (kurmanji)',\n",
              " 'ky': 'kyrgyz',\n",
              " 'la': 'latin',\n",
              " 'lb': 'luxembourgish',\n",
              " 'lo': 'lao',\n",
              " 'lt': 'lithuanian',\n",
              " 'lv': 'latvian',\n",
              " 'mg': 'malagasy',\n",
              " 'mi': 'maori',\n",
              " 'mk': 'macedonian',\n",
              " 'ml': 'malayalam',\n",
              " 'mn': 'mongolian',\n",
              " 'mr': 'marathi',\n",
              " 'ms': 'malay',\n",
              " 'mt': 'maltese',\n",
              " 'my': 'myanmar (burmese)',\n",
              " 'ne': 'nepali',\n",
              " 'nl': 'dutch',\n",
              " 'no': 'norwegian',\n",
              " 'ny': 'chichewa',\n",
              " 'or': 'odia',\n",
              " 'pa': 'punjabi',\n",
              " 'pl': 'polish',\n",
              " 'ps': 'pashto',\n",
              " 'pt': 'portuguese',\n",
              " 'ro': 'romanian',\n",
              " 'ru': 'russian',\n",
              " 'sd': 'sindhi',\n",
              " 'si': 'sinhala',\n",
              " 'sk': 'slovak',\n",
              " 'sl': 'slovenian',\n",
              " 'sm': 'samoan',\n",
              " 'sn': 'shona',\n",
              " 'so': 'somali',\n",
              " 'sq': 'albanian',\n",
              " 'sr': 'serbian',\n",
              " 'st': 'sesotho',\n",
              " 'su': 'sundanese',\n",
              " 'sv': 'swedish',\n",
              " 'sw': 'swahili',\n",
              " 'ta': 'tamil',\n",
              " 'te': 'telugu',\n",
              " 'tg': 'tajik',\n",
              " 'th': 'thai',\n",
              " 'tl': 'filipino',\n",
              " 'tr': 'turkish',\n",
              " 'ug': 'uyghur',\n",
              " 'uk': 'ukrainian',\n",
              " 'ur': 'urdu',\n",
              " 'uz': 'uzbek',\n",
              " 'vi': 'vietnamese',\n",
              " 'xh': 'xhosa',\n",
              " 'yi': 'yiddish',\n",
              " 'yo': 'yoruba',\n",
              " 'zh-cn': 'chinese (simplified)',\n",
              " 'zh-tw': 'chinese (traditional)',\n",
              " 'zu': 'zulu'}"
            ]
          },
          "metadata": {
            "tags": []
          },
          "execution_count": 29
        }
      ]
    },
    {
      "cell_type": "markdown",
      "metadata": {
        "id": "ZJV6e3Axcbmp",
        "colab_type": "text"
      },
      "source": [
        "*   **<H3>Translation**"
      ]
    },
    {
      "cell_type": "code",
      "metadata": {
        "id": "_olagr0iWIFE",
        "colab_type": "code",
        "colab": {}
      },
      "source": [
        "txt = \"How are you ?\""
      ],
      "execution_count": null,
      "outputs": []
    },
    {
      "cell_type": "code",
      "metadata": {
        "id": "PgNGI6MhZbpm",
        "colab_type": "code",
        "colab": {}
      },
      "source": [
        "translation = translator.translate(txt, dest='hi')"
      ],
      "execution_count": null,
      "outputs": []
    },
    {
      "cell_type": "markdown",
      "metadata": {
        "id": "ZVk0ZpH6a-4j",
        "colab_type": "text"
      },
      "source": [
        "NOTE : Default destination language is english."
      ]
    },
    {
      "cell_type": "code",
      "metadata": {
        "id": "dV88YG24Zdhl",
        "colab_type": "code",
        "colab": {
          "base_uri": "https://localhost:8080/",
          "height": 35
        },
        "outputId": "2bfa45c3-ef02-4e87-adc5-6c9358233cd9"
      },
      "source": [
        "translation.src     # source language"
      ],
      "execution_count": null,
      "outputs": [
        {
          "output_type": "execute_result",
          "data": {
            "application/vnd.google.colaboratory.intrinsic+json": {
              "type": "string"
            },
            "text/plain": [
              "'en'"
            ]
          },
          "metadata": {
            "tags": []
          },
          "execution_count": 17
        }
      ]
    },
    {
      "cell_type": "code",
      "metadata": {
        "id": "wqmf7xjwZfgS",
        "colab_type": "code",
        "colab": {
          "base_uri": "https://localhost:8080/",
          "height": 35
        },
        "outputId": "8b3fc1d5-83a0-48e8-d3d5-70b539377867"
      },
      "source": [
        "translation.dest    # desination language"
      ],
      "execution_count": null,
      "outputs": [
        {
          "output_type": "execute_result",
          "data": {
            "application/vnd.google.colaboratory.intrinsic+json": {
              "type": "string"
            },
            "text/plain": [
              "'hi'"
            ]
          },
          "metadata": {
            "tags": []
          },
          "execution_count": 18
        }
      ]
    },
    {
      "cell_type": "code",
      "metadata": {
        "id": "jUv-kB2_gYmR",
        "colab_type": "code",
        "colab": {
          "base_uri": "https://localhost:8080/",
          "height": 35
        },
        "outputId": "a3e2031b-beca-42bd-cbce-786f749b692e"
      },
      "source": [
        "translation.origin  # original text"
      ],
      "execution_count": null,
      "outputs": [
        {
          "output_type": "execute_result",
          "data": {
            "application/vnd.google.colaboratory.intrinsic+json": {
              "type": "string"
            },
            "text/plain": [
              "'How are you ?'"
            ]
          },
          "metadata": {
            "tags": []
          },
          "execution_count": 31
        }
      ]
    },
    {
      "cell_type": "code",
      "metadata": {
        "id": "udzhSA8HaU4p",
        "colab_type": "code",
        "colab": {
          "base_uri": "https://localhost:8080/",
          "height": 35
        },
        "outputId": "f035ea0f-aeb8-4a8f-fc3a-8f20a9e3baf4"
      },
      "source": [
        "translation.text    # translated text"
      ],
      "execution_count": null,
      "outputs": [
        {
          "output_type": "execute_result",
          "data": {
            "application/vnd.google.colaboratory.intrinsic+json": {
              "type": "string"
            },
            "text/plain": [
              "'क्या हाल है ?'"
            ]
          },
          "metadata": {
            "tags": []
          },
          "execution_count": 20
        }
      ]
    },
    {
      "cell_type": "markdown",
      "metadata": {
        "id": "sPXYIz84crOF",
        "colab_type": "text"
      },
      "source": [
        "*   **<H3>Language Detection**"
      ]
    },
    {
      "cell_type": "code",
      "metadata": {
        "id": "WIBZQp5ead_8",
        "colab_type": "code",
        "colab": {}
      },
      "source": [
        "detect_lang = translator.detect(\"여보세요\")"
      ],
      "execution_count": null,
      "outputs": []
    },
    {
      "cell_type": "code",
      "metadata": {
        "id": "0h5294IXbcqc",
        "colab_type": "code",
        "colab": {
          "base_uri": "https://localhost:8080/",
          "height": 35
        },
        "outputId": "8fcade25-4a57-4fa9-915f-7731f9b6e27b"
      },
      "source": [
        "detect_lang.lang"
      ],
      "execution_count": null,
      "outputs": [
        {
          "output_type": "execute_result",
          "data": {
            "application/vnd.google.colaboratory.intrinsic+json": {
              "type": "string"
            },
            "text/plain": [
              "'ko'"
            ]
          },
          "metadata": {
            "tags": []
          },
          "execution_count": 26
        }
      ]
    },
    {
      "cell_type": "code",
      "metadata": {
        "id": "yymW1WfPcRyE",
        "colab_type": "code",
        "colab": {
          "base_uri": "https://localhost:8080/",
          "height": 34
        },
        "outputId": "ef71a683-4240-43f3-fa70-fe244acc4c6c"
      },
      "source": [
        "detect_lang.confidence"
      ],
      "execution_count": null,
      "outputs": [
        {
          "output_type": "execute_result",
          "data": {
            "text/plain": [
              "1.0"
            ]
          },
          "metadata": {
            "tags": []
          },
          "execution_count": 28
        }
      ]
    },
    {
      "cell_type": "markdown",
      "metadata": {
        "id": "WAR6AXZce6ar",
        "colab_type": "text"
      },
      "source": [
        "Let's look at an example"
      ]
    },
    {
      "cell_type": "code",
      "metadata": {
        "id": "JyONT4jwcU38",
        "colab_type": "code",
        "colab": {
          "base_uri": "https://localhost:8080/",
          "height": 185
        },
        "outputId": "4b69e1bc-4234-4048-c6af-157c385eaaa6"
      },
      "source": [
        "text = [\"guten Morgen\", \"boa tarde\", \"Добрый вечер\", \"buenas noches\"]\n",
        "translations = translator.translate(text)\n",
        "for translation in translations:\n",
        "  print(translation.origin + \" --> \" + translation.text)\n",
        "\n",
        "print(\"\\n\")\n",
        "\n",
        "detected_langs = translator.detect(text)\n",
        "for d_lang in detected_langs:\n",
        "  print(d_lang.lang, googletrans.LANGUAGES[d_lang.lang], d_lang.confidence)"
      ],
      "execution_count": null,
      "outputs": [
        {
          "output_type": "stream",
          "text": [
            "guten Morgen --> good Morning\n",
            "boa tarde --> good afternoon\n",
            "Добрый вечер --> good evening\n",
            "buenas noches --> Goodnight\n",
            "\n",
            "\n",
            "de german 1.0\n",
            "pt portuguese 1.0\n",
            "ru russian 1.0\n",
            "es spanish 1.0\n"
          ],
          "name": "stdout"
        }
      ]
    },
    {
      "cell_type": "markdown",
      "metadata": {
        "id": "x7T2Aqf3lQEb",
        "colab_type": "text"
      },
      "source": [
        "# **`gTTS`**  library"
      ]
    },
    {
      "cell_type": "code",
      "metadata": {
        "id": "T00pVMzChCXH",
        "colab_type": "code",
        "colab": {
          "base_uri": "https://localhost:8080/",
          "height": 336
        },
        "outputId": "55aec49a-cb22-4385-f45d-388a8e0b36e8"
      },
      "source": [
        "pip install gTTS"
      ],
      "execution_count": null,
      "outputs": [
        {
          "output_type": "stream",
          "text": [
            "Collecting gTTS\n",
            "  Downloading https://files.pythonhosted.org/packages/a1/0c/4ca77eca3b739a4a08360930643f58d714e302fee0d2f8c654e67d9af8e7/gTTS-2.1.1-py3-none-any.whl\n",
            "Requirement already satisfied: beautifulsoup4 in /usr/local/lib/python3.6/dist-packages (from gTTS) (4.6.3)\n",
            "Requirement already satisfied: click in /usr/local/lib/python3.6/dist-packages (from gTTS) (7.1.2)\n",
            "Requirement already satisfied: six in /usr/local/lib/python3.6/dist-packages (from gTTS) (1.15.0)\n",
            "Requirement already satisfied: requests in /usr/local/lib/python3.6/dist-packages (from gTTS) (2.23.0)\n",
            "Collecting gtts-token>=1.1.3\n",
            "  Downloading https://files.pythonhosted.org/packages/e7/25/ca6e9cd3275bfc3097fe6b06cc31db6d3dfaf32e032e0f73fead9c9a03ce/gTTS-token-1.1.3.tar.gz\n",
            "Requirement already satisfied: urllib3!=1.25.0,!=1.25.1,<1.26,>=1.21.1 in /usr/local/lib/python3.6/dist-packages (from requests->gTTS) (1.24.3)\n",
            "Requirement already satisfied: certifi>=2017.4.17 in /usr/local/lib/python3.6/dist-packages (from requests->gTTS) (2020.6.20)\n",
            "Requirement already satisfied: idna<3,>=2.5 in /usr/local/lib/python3.6/dist-packages (from requests->gTTS) (2.10)\n",
            "Requirement already satisfied: chardet<4,>=3.0.2 in /usr/local/lib/python3.6/dist-packages (from requests->gTTS) (3.0.4)\n",
            "Building wheels for collected packages: gtts-token\n",
            "  Building wheel for gtts-token (setup.py) ... \u001b[?25l\u001b[?25hdone\n",
            "  Created wheel for gtts-token: filename=gTTS_token-1.1.3-cp36-none-any.whl size=4096 sha256=fa35ec3e05dfd78429b650b06512a75c3f77cbd0ecb59d31973eeeb5297591c8\n",
            "  Stored in directory: /root/.cache/pip/wheels/dd/11/61/33f7e51bf545e910552b2255eead2a7cd8ef54064b46dceb34\n",
            "Successfully built gtts-token\n",
            "Installing collected packages: gtts-token, gTTS\n",
            "Successfully installed gTTS-2.1.1 gtts-token-1.1.3\n"
          ],
          "name": "stdout"
        }
      ]
    },
    {
      "cell_type": "code",
      "metadata": {
        "id": "rKxvfPVllbIg",
        "colab_type": "code",
        "colab": {}
      },
      "source": [
        "from gtts import gTTS"
      ],
      "execution_count": null,
      "outputs": []
    },
    {
      "cell_type": "code",
      "metadata": {
        "id": "CJcnOAvZlo5I",
        "colab_type": "code",
        "colab": {}
      },
      "source": [
        "text = \"Hello! Welcome to lesson 7.\"\n",
        "obj = gTTS(text, lang = \"en\")"
      ],
      "execution_count": null,
      "outputs": []
    },
    {
      "cell_type": "code",
      "metadata": {
        "id": "nCBVnAdAmJjI",
        "colab_type": "code",
        "colab": {}
      },
      "source": [
        "obj.save(\"Hello.mp3\")"
      ],
      "execution_count": null,
      "outputs": []
    },
    {
      "cell_type": "markdown",
      "metadata": {
        "id": "jUhJMS7nPlsl",
        "colab_type": "text"
      },
      "source": [
        "# Text Blob\n",
        "\n",
        "It is a library for processing textual data\n",
        "\n",
        "It is having a simple interface\n",
        "\n",
        "A good thing about TextBlob is that they are just like python strings. So, you can transform and play with it same like we did in python"
      ]
    },
    {
      "cell_type": "markdown",
      "metadata": {
        "id": "kQGR-3F3jb3P",
        "colab_type": "text"
      },
      "source": [
        "<h3>  Importing required libraries"
      ]
    },
    {
      "cell_type": "code",
      "metadata": {
        "id": "TXsBk4PKPjxl",
        "colab_type": "code",
        "colab": {
          "base_uri": "https://localhost:8080/",
          "height": 195
        },
        "outputId": "2b2873c3-7d62-4754-c31a-2152bfa4cf59"
      },
      "source": [
        "from textblob import TextBlob\n",
        "from textblob import Word\n",
        "import nltk\n",
        "nltk.download('wordnet')\n",
        "nltk.download('averaged_perceptron_tagger')\n",
        "nltk.download('punkt')\n",
        "nltk.download('brown')"
      ],
      "execution_count": null,
      "outputs": [
        {
          "output_type": "stream",
          "text": [
            "[nltk_data] Downloading package wordnet to /root/nltk_data...\n",
            "[nltk_data]   Unzipping corpora/wordnet.zip.\n",
            "[nltk_data] Downloading package averaged_perceptron_tagger to\n",
            "[nltk_data]     /root/nltk_data...\n",
            "[nltk_data]   Unzipping taggers/averaged_perceptron_tagger.zip.\n",
            "[nltk_data] Downloading package punkt to /root/nltk_data...\n",
            "[nltk_data]   Unzipping tokenizers/punkt.zip.\n",
            "[nltk_data] Downloading package brown to /root/nltk_data...\n",
            "[nltk_data]   Unzipping corpora/brown.zip.\n"
          ],
          "name": "stdout"
        },
        {
          "output_type": "execute_result",
          "data": {
            "text/plain": [
              "True"
            ]
          },
          "metadata": {
            "tags": []
          },
          "execution_count": 1
        }
      ]
    },
    {
      "cell_type": "markdown",
      "metadata": {
        "id": "JWWhoEMfi0Ps",
        "colab_type": "text"
      },
      "source": [
        "<h3> A) Let’s create our first TextBlob."
      ]
    },
    {
      "cell_type": "code",
      "metadata": {
        "id": "_20TkMnSrtTn",
        "colab_type": "code",
        "colab": {}
      },
      "source": [
        "text=TextBlob(\"This is our first TextBlob sentence\")"
      ],
      "execution_count": null,
      "outputs": []
    },
    {
      "cell_type": "code",
      "metadata": {
        "id": "X7x2TCplrtJT",
        "colab_type": "code",
        "colab": {
          "base_uri": "https://localhost:8080/",
          "height": 35
        },
        "outputId": "bbcb56b7-4d63-43ba-8f90-6924d8fa5674"
      },
      "source": [
        "text"
      ],
      "execution_count": null,
      "outputs": [
        {
          "output_type": "execute_result",
          "data": {
            "text/plain": [
              "TextBlob(\"This is our first TextBlob sentence\")"
            ]
          },
          "metadata": {
            "tags": []
          },
          "execution_count": 3
        }
      ]
    },
    {
      "cell_type": "markdown",
      "metadata": {
        "id": "l4iIecmortxF",
        "colab_type": "text"
      },
      "source": [
        "<h3> B) Part-of-speech Tagging\n",
        "\n",
        "Part-of-speech tagging or grammatical tagging is a method to mark words present in a text on the basis of its definition and context. In simple words, it tells whether a word is a noun, or an adjective, or a verb,"
      ]
    },
    {
      "cell_type": "code",
      "metadata": {
        "id": "gbK_nrnvirR2",
        "colab_type": "code",
        "colab": {}
      },
      "source": [
        "text = TextBlob(\" And now for something completely different \")"
      ],
      "execution_count": null,
      "outputs": []
    },
    {
      "cell_type": "code",
      "metadata": {
        "id": "-iahlb2lirPM",
        "colab_type": "code",
        "colab": {
          "base_uri": "https://localhost:8080/",
          "height": 124
        },
        "outputId": "68077424-790c-4991-d220-a8b2ef1bae76"
      },
      "source": [
        "text.tags"
      ],
      "execution_count": null,
      "outputs": [
        {
          "output_type": "execute_result",
          "data": {
            "text/plain": [
              "[('And', 'CC'),\n",
              " ('now', 'RB'),\n",
              " ('for', 'IN'),\n",
              " ('something', 'NN'),\n",
              " ('completely', 'RB'),\n",
              " ('different', 'JJ')]"
            ]
          },
          "metadata": {
            "tags": []
          },
          "execution_count": 5
        }
      ]
    },
    {
      "cell_type": "markdown",
      "metadata": {
        "id": "esdOuUvMrPVR",
        "colab_type": "text"
      },
      "source": [
        "**Here's a list of keyword corresponding to their meaning :-**\n",
        "\n",
        "CC coordinating conjunction\n",
        "\n",
        "CD cardinal digit\n",
        "\n",
        "DT determiner\n",
        "\n",
        "EX existential there (like: “there is” … think of it like “there exists”)\n",
        "\n",
        "FW foreign word\n",
        "\n",
        "IN preposition/subordinating conjunction\n",
        "\n",
        "JJ adjective ‘big’\n",
        "\n",
        "JJR adjective, comparative ‘bigger’\n",
        "\n",
        "JJS adjective, superlative ‘biggest’\n",
        "\n",
        "LS list marker 1)\n",
        "\n",
        "MD modal could, will\n",
        "\n",
        "NN noun, singular ‘desk’\n",
        "\n",
        "NNS noun plural ‘desks’\n",
        "\n",
        "NNP proper noun, singular ‘Harrison’\n",
        "\n",
        "NNPS proper noun, plural ‘Americans’\n",
        "\n",
        "PDT predeterminer ‘all the kids’\n",
        "\n",
        "POS possessive ending parent‘s\n",
        "\n",
        "PRP personal pronoun I, he, she\n",
        "\n",
        "PRP$ possessive pronoun my, his, hers\n",
        "\n",
        "RB adverb very, silently,\n",
        "\n",
        "RBR adverb, comparative better\n",
        "\n",
        "RBS adverb, superlative best\n",
        "\n",
        "RP particle give up\n",
        "\n",
        "TO to go ‘to‘ the store.\n",
        "\n",
        "UH interjection errrrrrrrm\n",
        "\n",
        "VB verb, base form take\n",
        "\n",
        "VBD verb, past tense took\n",
        "\n",
        "VBG verb, gerund/present participle taking\n",
        "\n",
        "VBN verb, past participle taken\n",
        "\n",
        "VBP verb, sing. present, non-3d take\n",
        "\n",
        "VBZ verb, 3rd person sing. present takes\n",
        "\n",
        "WDT wh-determiner which\n",
        "\n",
        "WP wh-pronoun who, what\n",
        "\n",
        "WP$ possessive wh-pronoun whose\n",
        "\n",
        "WRB wh-abverb where, when"
      ]
    },
    {
      "cell_type": "markdown",
      "metadata": {
        "id": "R8ibiEVAi7k0",
        "colab_type": "text"
      },
      "source": [
        "<h3> C) Noun Phrase Extraction\n",
        "\n",
        "Since we extracted the words in the previous section, instead of that we can just extract out the noun phrases from the textblob"
      ]
    },
    {
      "cell_type": "code",
      "metadata": {
        "id": "L1axbcthi8cU",
        "colab_type": "code",
        "colab": {}
      },
      "source": [
        "wiki = TextBlob(\"Python is a high-level, general-purpose programming language.\")"
      ],
      "execution_count": null,
      "outputs": []
    },
    {
      "cell_type": "code",
      "metadata": {
        "id": "YsKtDEy1i8aF",
        "colab_type": "code",
        "colab": {
          "base_uri": "https://localhost:8080/",
          "height": 35
        },
        "outputId": "30216457-002a-45c4-ba42-105f7468b346"
      },
      "source": [
        "wiki.noun_phrases"
      ],
      "execution_count": null,
      "outputs": [
        {
          "output_type": "execute_result",
          "data": {
            "text/plain": [
              "WordList(['python'])"
            ]
          },
          "metadata": {
            "tags": []
          },
          "execution_count": 7
        }
      ]
    },
    {
      "cell_type": "markdown",
      "metadata": {
        "id": "3DAkNGnRjFMH",
        "colab_type": "text"
      },
      "source": [
        "<h3> D) Sentiment Analysis\n",
        "\n",
        "Used to analyze the sentiment of sentence whether in happy mood :) , sad mood :( or neutral mood :"
      ]
    },
    {
      "cell_type": "markdown",
      "metadata": {
        "id": "q8IGl4cfRJik",
        "colab_type": "text"
      },
      "source": [
        "The sentiment property returns a named tuple of the form Sentiment(polarity, subjectivity). The polarity score is a float within the range [-1.0, 1.0]. The subjectivity is a float within the range [0.0, 1.0] where 0.0 is very objective and 1.0 is very subjective."
      ]
    },
    {
      "cell_type": "markdown",
      "metadata": {
        "id": "mwprkoN9jZ_Y",
        "colab_type": "text"
      },
      "source": [
        "Subjectivity refer to personal opinion, emotion or judgment"
      ]
    },
    {
      "cell_type": "code",
      "metadata": {
        "id": "gj99rEn-RKaQ",
        "colab_type": "code",
        "colab": {
          "base_uri": "https://localhost:8080/",
          "height": 35
        },
        "outputId": "e0c944e1-68fa-439a-eb3f-3fb8647464ce"
      },
      "source": [
        "a = TextBlob(\"We all are excited to go for a trip\")\n",
        "a.sentiment"
      ],
      "execution_count": null,
      "outputs": [
        {
          "output_type": "execute_result",
          "data": {
            "text/plain": [
              "Sentiment(polarity=0.375, subjectivity=0.75)"
            ]
          },
          "metadata": {
            "tags": []
          },
          "execution_count": 8
        }
      ]
    },
    {
      "cell_type": "code",
      "metadata": {
        "id": "dOyvsQp0s-ve",
        "colab_type": "code",
        "colab": {
          "base_uri": "https://localhost:8080/",
          "height": 35
        },
        "outputId": "1b9618f1-1b73-4026-d726-10b51c43dbf6"
      },
      "source": [
        "a = TextBlob(\"Ram is a bad boy\")\n",
        "a.sentiment"
      ],
      "execution_count": null,
      "outputs": [
        {
          "output_type": "execute_result",
          "data": {
            "text/plain": [
              "Sentiment(polarity=-0.6999999999999998, subjectivity=0.6666666666666666)"
            ]
          },
          "metadata": {
            "tags": []
          },
          "execution_count": 9
        }
      ]
    },
    {
      "cell_type": "code",
      "metadata": {
        "id": "ZdOVEJXJtCvo",
        "colab_type": "code",
        "colab": {
          "base_uri": "https://localhost:8080/",
          "height": 35
        },
        "outputId": "f126e091-7775-4470-bf1a-de1ab3611a71"
      },
      "source": [
        "a = TextBlob(\"tomorrow we will vist to doctor for checkup\")\n",
        "a.sentiment"
      ],
      "execution_count": null,
      "outputs": [
        {
          "output_type": "execute_result",
          "data": {
            "text/plain": [
              "Sentiment(polarity=0.0, subjectivity=0.0)"
            ]
          },
          "metadata": {
            "tags": []
          },
          "execution_count": 10
        }
      ]
    },
    {
      "cell_type": "markdown",
      "metadata": {
        "id": "jRc6QpsrRmei",
        "colab_type": "text"
      },
      "source": [
        "<h3> E)  Tokenization\n",
        "\n",
        "You can break TextBlobs into words or sentences."
      ]
    },
    {
      "cell_type": "code",
      "metadata": {
        "id": "D2U7uatiRpyO",
        "colab_type": "code",
        "colab": {}
      },
      "source": [
        "text = TextBlob(\"Beautiful is better than ugly. \"\n",
        "               \"Explicit is better than implicit. \"\n",
        "                \"Simple is better than complex.\")"
      ],
      "execution_count": null,
      "outputs": []
    },
    {
      "cell_type": "code",
      "metadata": {
        "id": "hf6FUCagRu-B",
        "colab_type": "code",
        "colab": {
          "base_uri": "https://localhost:8080/",
          "height": 35
        },
        "outputId": "bdd148dd-244e-4c4d-b847-49f786701671"
      },
      "source": [
        "text.words"
      ],
      "execution_count": null,
      "outputs": [
        {
          "output_type": "execute_result",
          "data": {
            "text/plain": [
              "WordList(['Beautiful', 'is', 'better', 'than', 'ugly', 'Explicit', 'is', 'better', 'than', 'implicit', 'Simple', 'is', 'better', 'than', 'complex'])"
            ]
          },
          "metadata": {
            "tags": []
          },
          "execution_count": 12
        }
      ]
    },
    {
      "cell_type": "code",
      "metadata": {
        "id": "w4HCsP9mRuy2",
        "colab_type": "code",
        "colab": {
          "base_uri": "https://localhost:8080/",
          "height": 70
        },
        "outputId": "fc5d9f4d-dd66-4260-b41c-9a3549c30923"
      },
      "source": [
        "text.sentences"
      ],
      "execution_count": null,
      "outputs": [
        {
          "output_type": "execute_result",
          "data": {
            "text/plain": [
              "[Sentence(\"Beautiful is better than ugly.\"),\n",
              " Sentence(\"Explicit is better than implicit.\"),\n",
              " Sentence(\"Simple is better than complex.\")]"
            ]
          },
          "metadata": {
            "tags": []
          },
          "execution_count": 13
        }
      ]
    },
    {
      "cell_type": "markdown",
      "metadata": {
        "id": "hpHzC2swuylI",
        "colab_type": "text"
      },
      "source": [
        "Printing out the sentiment for each sentences"
      ]
    },
    {
      "cell_type": "code",
      "metadata": {
        "id": "RG5E3sDBj2AA",
        "colab_type": "code",
        "colab": {
          "base_uri": "https://localhost:8080/",
          "height": 70
        },
        "outputId": "d0d8ae83-8a0a-4987-b31c-73aa84ef309d"
      },
      "source": [
        "for sentence in text.sentences:\n",
        "     print(sentence.sentiment)"
      ],
      "execution_count": null,
      "outputs": [
        {
          "output_type": "stream",
          "text": [
            "Sentiment(polarity=0.2166666666666667, subjectivity=0.8333333333333334)\n",
            "Sentiment(polarity=0.5, subjectivity=0.5)\n",
            "Sentiment(polarity=0.06666666666666667, subjectivity=0.41904761904761906)\n"
          ],
          "name": "stdout"
        }
      ]
    },
    {
      "cell_type": "markdown",
      "metadata": {
        "id": "Fc9U3e0UkIaG",
        "colab_type": "text"
      },
      "source": [
        "<h3> F) Words Inflection and Lemmatization"
      ]
    },
    {
      "cell_type": "markdown",
      "metadata": {
        "id": "rGid9Ec7kcj0",
        "colab_type": "text"
      },
      "source": [
        "1) Word Inflection\n",
        "\n",
        "Inflection is a process of word formation in which characters are added to the base form of a word to express grammatical meanings. Word inflection in TextBlob is very simple, i.e., the words we tokenized from a textblob can be easily changed into singular or plural."
      ]
    },
    {
      "cell_type": "code",
      "metadata": {
        "id": "Xj5sUyebj8bE",
        "colab_type": "code",
        "colab": {
          "base_uri": "https://localhost:8080/",
          "height": 35
        },
        "outputId": "1d6d324d-6b6e-43f0-95ad-0351d4934bf5"
      },
      "source": [
        "sentence = TextBlob('Use 4 spaces per indentations level.')\n",
        "sentence.words"
      ],
      "execution_count": null,
      "outputs": [
        {
          "output_type": "execute_result",
          "data": {
            "text/plain": [
              "WordList(['Use', '4', 'spaces', 'per', 'indentations', 'level'])"
            ]
          },
          "metadata": {
            "tags": []
          },
          "execution_count": 17
        }
      ]
    },
    {
      "cell_type": "code",
      "metadata": {
        "id": "mJnY-8sDj8Ys",
        "colab_type": "code",
        "colab": {
          "base_uri": "https://localhost:8080/",
          "height": 36
        },
        "outputId": "247f0bf5-1524-4e23-b1b5-e47aade51ede"
      },
      "source": [
        "sentence.words[4].singularize()"
      ],
      "execution_count": null,
      "outputs": [
        {
          "output_type": "execute_result",
          "data": {
            "application/vnd.google.colaboratory.intrinsic+json": {
              "type": "string"
            },
            "text/plain": [
              "'indentation'"
            ]
          },
          "metadata": {
            "tags": []
          },
          "execution_count": 18
        }
      ]
    },
    {
      "cell_type": "code",
      "metadata": {
        "id": "qD6e3HIJj8WH",
        "colab_type": "code",
        "colab": {
          "base_uri": "https://localhost:8080/",
          "height": 36
        },
        "outputId": "094e568f-56a3-48c0-c822-2138a8e6ded0"
      },
      "source": [
        "sentence.words[-1].pluralize()"
      ],
      "execution_count": null,
      "outputs": [
        {
          "output_type": "execute_result",
          "data": {
            "application/vnd.google.colaboratory.intrinsic+json": {
              "type": "string"
            },
            "text/plain": [
              "'levels'"
            ]
          },
          "metadata": {
            "tags": []
          },
          "execution_count": 19
        }
      ]
    },
    {
      "cell_type": "markdown",
      "metadata": {
        "id": "qX7mZwr1Qp5z",
        "colab_type": "text"
      },
      "source": [
        "2) Word lemmatization\n",
        "\n",
        "Lemmatization usually refers to doing things properly with the use of a vocabulary , normally aiming  to return the base or dictionary form of a word"
      ]
    },
    {
      "cell_type": "code",
      "metadata": {
        "id": "b3sdKcsoQmJH",
        "colab_type": "code",
        "colab": {
          "base_uri": "https://localhost:8080/",
          "height": 36
        },
        "outputId": "217e98ec-838e-4da7-d52a-f2c7a6e820af"
      },
      "source": [
        "w = Word(\"octopi\")\n",
        "w.lemmatize()"
      ],
      "execution_count": null,
      "outputs": [
        {
          "output_type": "execute_result",
          "data": {
            "application/vnd.google.colaboratory.intrinsic+json": {
              "type": "string"
            },
            "text/plain": [
              "'octopus'"
            ]
          },
          "metadata": {
            "tags": []
          },
          "execution_count": 20
        }
      ]
    },
    {
      "cell_type": "code",
      "metadata": {
        "id": "6lKx-xMlQvSS",
        "colab_type": "code",
        "colab": {
          "base_uri": "https://localhost:8080/",
          "height": 36
        },
        "outputId": "88fc82fd-899c-4895-bf12-851d52fc318a"
      },
      "source": [
        "w = Word(\"runs\")\n",
        "w.lemmatize()"
      ],
      "execution_count": null,
      "outputs": [
        {
          "output_type": "execute_result",
          "data": {
            "application/vnd.google.colaboratory.intrinsic+json": {
              "type": "string"
            },
            "text/plain": [
              "'run'"
            ]
          },
          "metadata": {
            "tags": []
          },
          "execution_count": 21
        }
      ]
    },
    {
      "cell_type": "markdown",
      "metadata": {
        "id": "RXa3EBs6k1kN",
        "colab_type": "text"
      },
      "source": [
        "<h3> G) Word definations"
      ]
    },
    {
      "cell_type": "code",
      "metadata": {
        "id": "BsnmC-2Ck6e3",
        "colab_type": "code",
        "colab": {
          "base_uri": "https://localhost:8080/",
          "height": 52
        },
        "outputId": "5bb7aba2-433c-44c5-e550-e6b8792b1483"
      },
      "source": [
        "Word(\"octopus\").definitions"
      ],
      "execution_count": null,
      "outputs": [
        {
          "output_type": "execute_result",
          "data": {
            "text/plain": [
              "['tentacles of octopus prepared as food',\n",
              " 'bottom-living cephalopod having a soft oval body with eight long tentacles']"
            ]
          },
          "metadata": {
            "tags": []
          },
          "execution_count": 22
        }
      ]
    },
    {
      "cell_type": "code",
      "metadata": {
        "id": "U9o34FoNk7Yt",
        "colab_type": "code",
        "colab": {
          "base_uri": "https://localhost:8080/",
          "height": 88
        },
        "outputId": "f007966a-290b-4506-d88b-1dceb5d4b286"
      },
      "source": [
        "Word(\"Lion\").definitions"
      ],
      "execution_count": null,
      "outputs": [
        {
          "output_type": "execute_result",
          "data": {
            "text/plain": [
              "['large gregarious predatory feline of Africa and India having a tawny coat with a shaggy mane in the male',\n",
              " 'a celebrity who is lionized (much sought after)',\n",
              " '(astrology) a person who is born while the sun is in Leo',\n",
              " 'the fifth sign of the zodiac; the sun is in this sign from about July 23 to August 22']"
            ]
          },
          "metadata": {
            "tags": []
          },
          "execution_count": 23
        }
      ]
    },
    {
      "cell_type": "code",
      "metadata": {
        "id": "0P4BryL2k7V8",
        "colab_type": "code",
        "colab": {
          "base_uri": "https://localhost:8080/",
          "height": 124
        },
        "outputId": "c9e3bcf5-b53d-4d5c-f36a-7303b5436ac2"
      },
      "source": [
        "Word(\"Language\").definitions"
      ],
      "execution_count": null,
      "outputs": [
        {
          "output_type": "execute_result",
          "data": {
            "text/plain": [
              "['a systematic means of communicating by the use of sounds or conventional symbols',\n",
              " '(language) communication by word of mouth',\n",
              " 'the text of a popular song or musical-comedy number',\n",
              " 'the cognitive processes involved in producing and understanding linguistic communication',\n",
              " 'the mental faculty or power of vocal communication',\n",
              " 'a system of words used to name things in a particular discipline']"
            ]
          },
          "metadata": {
            "tags": []
          },
          "execution_count": 24
        }
      ]
    },
    {
      "cell_type": "markdown",
      "metadata": {
        "id": "eVVAGwVOSCKu",
        "colab_type": "text"
      },
      "source": [
        "<h3> H) Spelling\n",
        "\n",
        "This keyword is used to correct the spelling of each word in the sentences."
      ]
    },
    {
      "cell_type": "code",
      "metadata": {
        "id": "S03jW_JzSCna",
        "colab_type": "code",
        "colab": {
          "base_uri": "https://localhost:8080/",
          "height": 35
        },
        "outputId": "ed7f3025-ae03-4cb4-c84b-f277d5f1b761"
      },
      "source": [
        "text = TextBlob(\"My speelling is wrog\")\n",
        "text"
      ],
      "execution_count": null,
      "outputs": [
        {
          "output_type": "execute_result",
          "data": {
            "text/plain": [
              "TextBlob(\"My speelling is wrog\")"
            ]
          },
          "metadata": {
            "tags": []
          },
          "execution_count": 25
        }
      ]
    },
    {
      "cell_type": "code",
      "metadata": {
        "id": "sN6t1e7zSDz_",
        "colab_type": "code",
        "colab": {
          "base_uri": "https://localhost:8080/",
          "height": 35
        },
        "outputId": "eb2d2f21-2998-4f74-f8df-d9bbaf2f6976"
      },
      "source": [
        "text.correct()"
      ],
      "execution_count": null,
      "outputs": [
        {
          "output_type": "execute_result",
          "data": {
            "text/plain": [
              "TextBlob(\"By spelling is wrong\")"
            ]
          },
          "metadata": {
            "tags": []
          },
          "execution_count": 26
        }
      ]
    },
    {
      "cell_type": "markdown",
      "metadata": {
        "id": "-xz2BNmXnimr",
        "colab_type": "text"
      },
      "source": [
        "Word objects have a spellcheck() Word.spellcheck() method that returns a list of (word, confidence) tuples with spelling suggestions."
      ]
    },
    {
      "cell_type": "code",
      "metadata": {
        "id": "C-1bzxlynZpM",
        "colab_type": "code",
        "colab": {
          "base_uri": "https://localhost:8080/",
          "height": 35
        },
        "outputId": "efe40463-759c-4109-920c-dbff1c00f35f"
      },
      "source": [
        "w = Word('speeeling')\n",
        "w.spellcheck()"
      ],
      "execution_count": null,
      "outputs": [
        {
          "output_type": "execute_result",
          "data": {
            "text/plain": [
              "[('spelling', 0.5), ('speeding', 0.25), ('peeling', 0.25)]"
            ]
          },
          "metadata": {
            "tags": []
          },
          "execution_count": 27
        }
      ]
    },
    {
      "cell_type": "markdown",
      "metadata": {
        "id": "exSbRiBLlY1c",
        "colab_type": "text"
      },
      "source": [
        "<h3> I) word_counts() function\n",
        "\n",
        "It returns the count of number of times a string ocuur in our text"
      ]
    },
    {
      "cell_type": "code",
      "metadata": {
        "id": "Oe6vcMnulbsB",
        "colab_type": "code",
        "colab": {
          "base_uri": "https://localhost:8080/",
          "height": 35
        },
        "outputId": "62414a10-e9e5-4e04-c7fc-2f9b4c753bd0"
      },
      "source": [
        "monty = TextBlob(\"We are no longer the Knights who say Ni. \"\n",
        "                 \"We are now the Knights who say Ekki ekki ekki PTANG.\")\n",
        "\n",
        "monty.word_counts['ekki']"
      ],
      "execution_count": null,
      "outputs": [
        {
          "output_type": "execute_result",
          "data": {
            "text/plain": [
              "3"
            ]
          },
          "metadata": {
            "tags": []
          },
          "execution_count": 28
        }
      ]
    },
    {
      "cell_type": "code",
      "metadata": {
        "id": "k6Sp0FlIlbp-",
        "colab_type": "code",
        "colab": {
          "base_uri": "https://localhost:8080/",
          "height": 35
        },
        "outputId": "694d260d-b772-47ed-91ee-92a175c2d1cf"
      },
      "source": [
        " monty.words.count('ekki')"
      ],
      "execution_count": null,
      "outputs": [
        {
          "output_type": "execute_result",
          "data": {
            "text/plain": [
              "3"
            ]
          },
          "metadata": {
            "tags": []
          },
          "execution_count": 29
        }
      ]
    },
    {
      "cell_type": "code",
      "metadata": {
        "id": "HnrB5Q2LlbnS",
        "colab_type": "code",
        "colab": {
          "base_uri": "https://localhost:8080/",
          "height": 35
        },
        "outputId": "de26b651-dcad-4d4d-c472-862dffaa3b67"
      },
      "source": [
        "monty.words.count('ekki', case_sensitive=True)"
      ],
      "execution_count": null,
      "outputs": [
        {
          "output_type": "execute_result",
          "data": {
            "text/plain": [
              "2"
            ]
          },
          "metadata": {
            "tags": []
          },
          "execution_count": 30
        }
      ]
    },
    {
      "cell_type": "markdown",
      "metadata": {
        "id": "6dgbjT4ixCi3",
        "colab_type": "text"
      },
      "source": [
        "Above case_sensitive means CAPITAL LETTERS are treated as different from small letters "
      ]
    },
    {
      "cell_type": "markdown",
      "metadata": {
        "id": "i40Mc4lhSUgp",
        "colab_type": "text"
      },
      "source": [
        "<h3> J) TextBlobs Are Like Python Strings"
      ]
    },
    {
      "cell_type": "code",
      "metadata": {
        "id": "B39k51yqSEtt",
        "colab_type": "code",
        "colab": {}
      },
      "source": [
        "a=TextBlob(\"This is the last lesson of the AI foundation\")"
      ],
      "execution_count": null,
      "outputs": []
    },
    {
      "cell_type": "code",
      "metadata": {
        "id": "WR3P3dPwSdTV",
        "colab_type": "code",
        "colab": {
          "base_uri": "https://localhost:8080/",
          "height": 35
        },
        "outputId": "b8b1fc30-ca82-4141-ef8a-0dafaa032ef7"
      },
      "source": [
        "a[0:19]"
      ],
      "execution_count": null,
      "outputs": [
        {
          "output_type": "execute_result",
          "data": {
            "text/plain": [
              "TextBlob(\"This is the last le\")"
            ]
          },
          "metadata": {
            "tags": []
          },
          "execution_count": 32
        }
      ]
    },
    {
      "cell_type": "code",
      "metadata": {
        "id": "hbH9s49uSfid",
        "colab_type": "code",
        "colab": {
          "base_uri": "https://localhost:8080/",
          "height": 35
        },
        "outputId": "b1e9b601-b44e-470f-89e0-12e662708b62"
      },
      "source": [
        "a.upper()"
      ],
      "execution_count": null,
      "outputs": [
        {
          "output_type": "execute_result",
          "data": {
            "text/plain": [
              "TextBlob(\"THIS IS THE LAST LESSON OF THE AI FOUNDATION\")"
            ]
          },
          "metadata": {
            "tags": []
          },
          "execution_count": 33
        }
      ]
    },
    {
      "cell_type": "code",
      "metadata": {
        "id": "mEo9WJPSSiIf",
        "colab_type": "code",
        "colab": {
          "base_uri": "https://localhost:8080/",
          "height": 35
        },
        "outputId": "b9fb6011-a785-4881-9507-2863aa47b15d"
      },
      "source": [
        "a.find('is')"
      ],
      "execution_count": null,
      "outputs": [
        {
          "output_type": "execute_result",
          "data": {
            "text/plain": [
              "2"
            ]
          },
          "metadata": {
            "tags": []
          },
          "execution_count": 34
        }
      ]
    },
    {
      "cell_type": "markdown",
      "metadata": {
        "id": "skY2QXCQmV9j",
        "colab_type": "text"
      },
      "source": [
        "You can make comparisons between TextBlobs and strings."
      ]
    },
    {
      "cell_type": "code",
      "metadata": {
        "id": "n5pXfVDrmW-3",
        "colab_type": "code",
        "colab": {
          "base_uri": "https://localhost:8080/",
          "height": 35
        },
        "outputId": "ae73bb89-51d1-46e0-9520-10f295979f15"
      },
      "source": [
        "apple_blob = TextBlob('apples')\n",
        "banana_blob = TextBlob('bananas')\n",
        "apple_blob < banana_blob"
      ],
      "execution_count": null,
      "outputs": [
        {
          "output_type": "execute_result",
          "data": {
            "text/plain": [
              "True"
            ]
          },
          "metadata": {
            "tags": []
          },
          "execution_count": 35
        }
      ]
    },
    {
      "cell_type": "code",
      "metadata": {
        "id": "18QxFCi_mW4O",
        "colab_type": "code",
        "colab": {
          "base_uri": "https://localhost:8080/",
          "height": 35
        },
        "outputId": "ff5aa520-701c-45a0-9b06-d57884081b35"
      },
      "source": [
        "apple_blob == 'apples'"
      ],
      "execution_count": null,
      "outputs": [
        {
          "output_type": "execute_result",
          "data": {
            "text/plain": [
              "True"
            ]
          },
          "metadata": {
            "tags": []
          },
          "execution_count": 36
        }
      ]
    },
    {
      "cell_type": "markdown",
      "metadata": {
        "id": "RL8Skz42Sw94",
        "colab_type": "text"
      },
      "source": [
        "<h3> K) n-grams\n",
        "\n",
        "The TextBlob.ngrams() method returns a list of tuples of n successive words."
      ]
    },
    {
      "cell_type": "code",
      "metadata": {
        "id": "MFM_zIQfSlO1",
        "colab_type": "code",
        "colab": {
          "base_uri": "https://localhost:8080/",
          "height": 88
        },
        "outputId": "9b98593a-917c-4bbb-e210-b5757aa84110"
      },
      "source": [
        "a=TextBlob(\"Thi is the lesson 7\")\n",
        "a.ngrams(n=2)"
      ],
      "execution_count": null,
      "outputs": [
        {
          "output_type": "execute_result",
          "data": {
            "text/plain": [
              "[WordList(['Thi', 'is']),\n",
              " WordList(['is', 'the']),\n",
              " WordList(['the', 'lesson']),\n",
              " WordList(['lesson', '7'])]"
            ]
          },
          "metadata": {
            "tags": []
          },
          "execution_count": 37
        }
      ]
    },
    {
      "cell_type": "code",
      "metadata": {
        "id": "vlhCV3bVTI2m",
        "colab_type": "code",
        "colab": {
          "base_uri": "https://localhost:8080/",
          "height": 70
        },
        "outputId": "c48ff1ba-37b6-4b5a-a8f1-e5c2d8b310ce"
      },
      "source": [
        "a=TextBlob(\"Thi is the lesson 7\")\n",
        "a.ngrams(n=3)"
      ],
      "execution_count": null,
      "outputs": [
        {
          "output_type": "execute_result",
          "data": {
            "text/plain": [
              "[WordList(['Thi', 'is', 'the']),\n",
              " WordList(['is', 'the', 'lesson']),\n",
              " WordList(['the', 'lesson', '7'])]"
            ]
          },
          "metadata": {
            "tags": []
          },
          "execution_count": 38
        }
      ]
    },
    {
      "cell_type": "markdown",
      "metadata": {
        "id": "xbQ3DBtXzBoH",
        "colab_type": "text"
      },
      "source": [
        "List of some important keywords in english :-"
      ]
    },
    {
      "cell_type": "markdown",
      "metadata": {
        "id": "BJ7sHuCtpmTl",
        "colab_type": "text"
      },
      "source": [
        "**Keyword  :-   Meaning  ( Examples )**\n",
        "\n",
        "ADJ :-\tadjective (\tnew, good, high, special, big, local )\n",
        "\n",
        "ADP\t:- adposition\t ( on, of, at, with, by, into, under )\n",
        "\n",
        "ADV\t:- adverb\t    (really, already, still, early, now )\n",
        "\n",
        "CONJ :-\tconjunction\t( and, or, but, if, while, although )\n",
        "\n",
        "DET :-\tdeterminer (article\tthe, a, some, most, every, no, which )\n",
        "\n",
        "NOUN :-\tnoun\t( year, home, costs, time, Africa)\n",
        "\n",
        "NUM\t :- numeral\t( twenty-four, fourth, 1991, 14:24 )\n",
        "\n",
        "PRT\t :- particle (\tat, on, out, over per, that, up, with )\n",
        "\n",
        "PRON :-\tpronoun (\the, their, her, its, my, I, us )\n",
        "\n",
        "VERB :-\tverb\t(is, say, told, given, playing, would )\n",
        "\n",
        ".\t :- punctuation marks (\t. , ; !)\n",
        "\n",
        "X\t :- other\t (ersatz, esprit, dunno, gr8, univeristy)"
      ]
    }
  ]
}